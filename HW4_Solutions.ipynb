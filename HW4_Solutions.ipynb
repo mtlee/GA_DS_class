{
 "cells": [
  {
   "cell_type": "markdown",
   "metadata": {},
   "source": [
    "# Homework #4\n",
    "\n",
    "Build a model to predict flight delays using the Flight Delay dataset here.\n",
    "\n",
    "It's also the data directory.\n",
    "\n",
    "Use this blog article as a resource if needed. The blog uses R, but the ideas and process are the same.\n",
    "\n",
    "It also has a nice discussion of some more tools to evaluate a Classification Model (e.g. confusion matricies, ROC analysis) that we will explore in more detail next time.\n",
    "\n",
    "HW shows up in Lesson 6, model-validation. You can also look at Lesson 7, classification-evaluation."
   ]
  },
  {
   "cell_type": "markdown",
   "metadata": {},
   "source": [
    "# Overall Notes\n",
    "- I didn't like the blog post a lot. I fit the model explained in the blog post using statsmodels and it didn't converge because of the feature making DEP_TIME (departure time) into 24 categorical features, of which some had no observations. You cannot estimate a coefficient in the model when you have no observations with that value. Even though the model fitted in the blog didn't converge in statsmodels, it DID fit coefficients in scikit-learn. Overall I wouldn't be very confident in those coefficients and thus the model predictions. In the blog post, you can see that the std errors are really high for some of those coefficients.\n",
    "- Confusion about dummy variables. So sci-kit learn is weird in that it doesn't do this for you. You have to set up the categorical variables yourself, and that means one is left out as the baseline category. If you leave it out, you are 1) predicting one more coefficient than is necessary and 2) making your coefficients not easily interpretable. Instead of creating my own dummy variables manually, I used patsy, which helps you do that.\n",
    "- Confusion about the effect sizes. So some of the coefficients may be higher because of the units that were used. For example, if you had meters per hr vs. km per hour then the effect size would be much smaller (1 m per hr inc results in a .001 m increase in stopping dist wheres a 1 km per hr increase results in a like 1 m increase in stopping dist). You can look @ p-values if you want to see the most significant vars. Or look at important features through a tree based model.\n",
    "-  Good job with evaluating models based on R squared. What about AUC with ROC curves since this is a 0,1 outcome problem? Also, some people created a confusion matrix that predicted few (close to 0) delays and called it a good model. Note that the confusion matrix has a default threshold of 0.5 to determine predicting yes or no, and you can change that threshold to get more delay predictions.\n",
    "- Good EDA! Lots of great graphs :)\n",
    "- Many of you did a good job using test and training sets.\n"
   ]
  },
  {
   "cell_type": "code",
   "execution_count": 27,
   "metadata": {
    "collapsed": true
   },
   "outputs": [],
   "source": [
    "%matplotlib inline\n",
    "import pandas as pd\n",
    "import numpy as np\n",
    "import matplotlib.pyplot as plt\n",
    "from sklearn import linear_model, cross_validation\n",
    "from sklearn.metrics import mean_squared_error\n",
    "from sklearn import metrics\n",
    "import seaborn as sns\n",
    "import statsmodels.api as sm\n",
    "import statsmodels.formula.api as smf\n",
    "import patsy\n",
    "import math\n",
    "\n",
    "# Cool! A way to ignore pink warnings. Thanks to Jackie!\n",
    "import warnings\n",
    "warnings.filterwarnings('ignore')"
   ]
  },
  {
   "cell_type": "markdown",
   "metadata": {},
   "source": [
    "# Import data"
   ]
  },
  {
   "cell_type": "code",
   "execution_count": 3,
   "metadata": {
    "collapsed": false
   },
   "outputs": [],
   "source": [
    "flights = pd.read_excel(\"/Users/mtlee/Code/DAT-ATX-1/data/FlightDelays.xls\")"
   ]
  },
  {
   "cell_type": "code",
   "execution_count": 4,
   "metadata": {
    "collapsed": false
   },
   "outputs": [
    {
     "data": {
      "text/html": [
       "<div>\n",
       "<table border=\"1\" class=\"dataframe\">\n",
       "  <thead>\n",
       "    <tr style=\"text-align: right;\">\n",
       "      <th></th>\n",
       "      <th>CRS_DEP_TIME</th>\n",
       "      <th>CARRIER</th>\n",
       "      <th>DEP_TIME</th>\n",
       "      <th>DEST</th>\n",
       "      <th>DISTANCE</th>\n",
       "      <th>FL_DATE</th>\n",
       "      <th>FL_NUM</th>\n",
       "      <th>ORIGIN</th>\n",
       "      <th>Weather</th>\n",
       "      <th>DAY_WEEK</th>\n",
       "      <th>DAY_OF_MONTH</th>\n",
       "      <th>TAIL_NUM</th>\n",
       "      <th>Flight Status</th>\n",
       "      <th>Unnamed: 13</th>\n",
       "      <th>Unnamed: 14</th>\n",
       "    </tr>\n",
       "  </thead>\n",
       "  <tbody>\n",
       "    <tr>\n",
       "      <th>0</th>\n",
       "      <td>1455</td>\n",
       "      <td>OH</td>\n",
       "      <td>1455</td>\n",
       "      <td>JFK</td>\n",
       "      <td>184</td>\n",
       "      <td>2004-01-01</td>\n",
       "      <td>5935</td>\n",
       "      <td>BWI</td>\n",
       "      <td>0</td>\n",
       "      <td>4</td>\n",
       "      <td>1</td>\n",
       "      <td>N940CA</td>\n",
       "      <td>ontime</td>\n",
       "      <td>NaN</td>\n",
       "      <td>NaN</td>\n",
       "    </tr>\n",
       "    <tr>\n",
       "      <th>1</th>\n",
       "      <td>1640</td>\n",
       "      <td>DH</td>\n",
       "      <td>1640</td>\n",
       "      <td>JFK</td>\n",
       "      <td>213</td>\n",
       "      <td>2004-01-01</td>\n",
       "      <td>6155</td>\n",
       "      <td>DCA</td>\n",
       "      <td>0</td>\n",
       "      <td>4</td>\n",
       "      <td>1</td>\n",
       "      <td>N405FJ</td>\n",
       "      <td>ontime</td>\n",
       "      <td>All flights out of 3 DC airports (WAS)</td>\n",
       "      <td>NaN</td>\n",
       "    </tr>\n",
       "    <tr>\n",
       "      <th>2</th>\n",
       "      <td>1245</td>\n",
       "      <td>DH</td>\n",
       "      <td>1245</td>\n",
       "      <td>LGA</td>\n",
       "      <td>229</td>\n",
       "      <td>2004-01-01</td>\n",
       "      <td>7208</td>\n",
       "      <td>IAD</td>\n",
       "      <td>0</td>\n",
       "      <td>4</td>\n",
       "      <td>1</td>\n",
       "      <td>N695BR</td>\n",
       "      <td>ontime</td>\n",
       "      <td>into 3 NYC airports</td>\n",
       "      <td>NaN</td>\n",
       "    </tr>\n",
       "    <tr>\n",
       "      <th>3</th>\n",
       "      <td>1715</td>\n",
       "      <td>DH</td>\n",
       "      <td>1709</td>\n",
       "      <td>LGA</td>\n",
       "      <td>229</td>\n",
       "      <td>2004-01-01</td>\n",
       "      <td>7215</td>\n",
       "      <td>IAD</td>\n",
       "      <td>0</td>\n",
       "      <td>4</td>\n",
       "      <td>1</td>\n",
       "      <td>N662BR</td>\n",
       "      <td>ontime</td>\n",
       "      <td>not cancelled</td>\n",
       "      <td>NaN</td>\n",
       "    </tr>\n",
       "    <tr>\n",
       "      <th>4</th>\n",
       "      <td>1039</td>\n",
       "      <td>DH</td>\n",
       "      <td>1035</td>\n",
       "      <td>LGA</td>\n",
       "      <td>229</td>\n",
       "      <td>2004-01-01</td>\n",
       "      <td>7792</td>\n",
       "      <td>IAD</td>\n",
       "      <td>0</td>\n",
       "      <td>4</td>\n",
       "      <td>1</td>\n",
       "      <td>N698BR</td>\n",
       "      <td>ontime</td>\n",
       "      <td>flights in January 2004</td>\n",
       "      <td>NaN</td>\n",
       "    </tr>\n",
       "  </tbody>\n",
       "</table>\n",
       "</div>"
      ],
      "text/plain": [
       "   CRS_DEP_TIME CARRIER  DEP_TIME DEST  DISTANCE    FL_DATE  FL_NUM ORIGIN  \\\n",
       "0          1455      OH      1455  JFK       184 2004-01-01    5935    BWI   \n",
       "1          1640      DH      1640  JFK       213 2004-01-01    6155    DCA   \n",
       "2          1245      DH      1245  LGA       229 2004-01-01    7208    IAD   \n",
       "3          1715      DH      1709  LGA       229 2004-01-01    7215    IAD   \n",
       "4          1039      DH      1035  LGA       229 2004-01-01    7792    IAD   \n",
       "\n",
       "   Weather  DAY_WEEK  DAY_OF_MONTH TAIL_NUM Flight Status  \\\n",
       "0        0         4             1   N940CA        ontime   \n",
       "1        0         4             1   N405FJ        ontime   \n",
       "2        0         4             1   N695BR        ontime   \n",
       "3        0         4             1   N662BR        ontime   \n",
       "4        0         4             1   N698BR        ontime   \n",
       "\n",
       "                              Unnamed: 13 Unnamed: 14  \n",
       "0                                     NaN         NaN  \n",
       "1  All flights out of 3 DC airports (WAS)         NaN  \n",
       "2                     into 3 NYC airports         NaN  \n",
       "3                           not cancelled         NaN  \n",
       "4                 flights in January 2004         NaN  "
      ]
     },
     "execution_count": 4,
     "metadata": {},
     "output_type": "execute_result"
    }
   ],
   "source": [
    "flights.head()"
   ]
  },
  {
   "cell_type": "code",
   "execution_count": 5,
   "metadata": {
    "collapsed": false
   },
   "outputs": [
    {
     "name": "stdout",
     "output_type": "stream",
     "text": [
      "[u'CRS_DEP_TIME', u'CARRIER', u'DEP_TIME', u'DEST', u'DISTANCE', u'FL_DATE', u'FL_NUM', u'ORIGIN', u'Weather', u'DAY_WEEK', u'DAY_OF_MONTH', u'TAIL_NUM', u'Flight Status', 'Unnamed: 13', 'Unnamed: 14']\n"
     ]
    }
   ],
   "source": [
    "print flights.columns.tolist()"
   ]
  },
  {
   "cell_type": "markdown",
   "metadata": {},
   "source": [
    "Here's a data dictionary: (from Ian)\n",
    "\n",
    "|Column   |Definition   |\n",
    "|---|---|\n",
    "| CRS_DEP_TIME | Scheduled departure time |\n",
    "| CARRIER | The airline |\n",
    "| DEP_TIME | Actual departure time |\n",
    "| DEST | Destination airport in New York |\n",
    "| DISTANCE | Flight distance in miles |\n",
    "| FL_DATE | Flight date |\n",
    "| FL_NUM | Flight number |\n",
    "| ORIGIN | Origin airport in Washington D.C. |\n",
    "| Weather | Was the weather inclement or not? |\n",
    "| DAY_WEEK | Day of week; 1=Mon … 7=Sun |\n",
    "| DAY_OF_MONTH | Day of month |\n",
    "| TAIL_NUM | Airplane identifier |\n",
    "| Flight Status | Whether the flight was delayed or ontime |\n",
    "\n",
    "|Code   |Airline   |\n",
    "|---|---|\n",
    "| AA | American Airlines, Inc. |\n",
    "| CO | Continental Air Lines, Inc. |\n",
    "| DH | Atlantic Coast Airlines |\n",
    "| DL | Delta Air Lines, Inc. |\n",
    "| EV | Atlantic Southeast Airlines |\n",
    "| FL | Airtran Airways Corporation |\n",
    "| MQ | American Eagle Airlines,inc |\n",
    "| OH | Comair, Inc. |\n",
    "| RU | Continental Express Airline |\n",
    "| UA | United Air Lines, Inc. |\n",
    "| US | US Airways, Inc. |"
   ]
  },
  {
   "cell_type": "markdown",
   "metadata": {},
   "source": [
    "# Create some features"
   ]
  },
  {
   "cell_type": "code",
   "execution_count": 6,
   "metadata": {
    "collapsed": false
   },
   "outputs": [],
   "source": [
    "# This is our outcome variable of delay\n",
    "# Make it 1 if it's delayed, so we are predicting log likelihood of delay\n",
    "def status_zero_one(x):\n",
    "    if x == \"ontime\":\n",
    "        return 0\n",
    "    else:\n",
    "        return 1\n",
    "\n",
    "flights[\"Flight_Status\"] = flights[\"Flight Status\"].apply(status_zero_one)"
   ]
  },
  {
   "cell_type": "code",
   "execution_count": 7,
   "metadata": {
    "collapsed": false
   },
   "outputs": [
    {
     "data": {
      "text/plain": [
       "count    2201.000000\n",
       "mean        0.194457\n",
       "std         0.395872\n",
       "min         0.000000\n",
       "25%         0.000000\n",
       "50%         0.000000\n",
       "75%         0.000000\n",
       "max         1.000000\n",
       "Name: Flight_Status, dtype: float64"
      ]
     },
     "execution_count": 7,
     "metadata": {},
     "output_type": "execute_result"
    }
   ],
   "source": [
    "# Note that about 20% of flights in the sample were delayed\n",
    "flights[\"Flight_Status\"].describe()"
   ]
  },
  {
   "cell_type": "code",
   "execution_count": 8,
   "metadata": {
    "collapsed": false
   },
   "outputs": [
    {
     "name": "stdout",
     "output_type": "stream",
     "text": [
      "The most frequent actual departure time is 16\n",
      "The most frequent scheduled departure time is 17\n"
     ]
    }
   ],
   "source": [
    "# This is the feature that is used in the blog post\n",
    "# Create categorical variables of DEP_TIME and CRS_DEP_TIME\n",
    "# with 24 categories for each hour rounded down\n",
    "def map_hours(x):\n",
    "    \"\"\"\n",
    "    Function that groups departure times by hour.\n",
    "    \"\"\"\n",
    "    if x < 100:\n",
    "        return '0'\n",
    "    elif x < 200:\n",
    "        return '1'\n",
    "    elif x < 300:\n",
    "        return '2'\n",
    "    elif x < 400:\n",
    "        return '3'\n",
    "    elif x < 500:\n",
    "        return '4'\n",
    "    elif x < 600:\n",
    "        return '5'\n",
    "    elif x < 700:\n",
    "        return '6'\n",
    "    elif x < 800:\n",
    "        return '7'\n",
    "    elif x < 900:\n",
    "        return '8'\n",
    "    elif x < 1000:\n",
    "        return '9'\n",
    "    elif x < 1100:\n",
    "        return '10'\n",
    "    elif x < 1200:\n",
    "        return '11'\n",
    "    elif x < 1300:\n",
    "        return '12'\n",
    "    elif x < 1400:\n",
    "        return '13'\n",
    "    elif x < 1500:\n",
    "        return '14'\n",
    "    elif x < 1600:\n",
    "        return '15'\n",
    "    elif x < 1700:\n",
    "        return '16'\n",
    "    elif x < 1800:\n",
    "        return '17'\n",
    "    elif x < 1900:\n",
    "        return '18'\n",
    "    elif x < 2000:\n",
    "        return '19'\n",
    "    elif x < 2100:\n",
    "        return '20'\n",
    "    elif x < 2200:\n",
    "        return '21'\n",
    "    elif x < 2300:\n",
    "        return '22'\n",
    "    elif x < 2400:\n",
    "        return '23'\n",
    "\n",
    "# creating new grouping variable and examining    \n",
    "flights['dept_hours'] = flights['DEP_TIME'].apply(map_hours) #applying any function to the new column\n",
    "flights['crs_dept_hours'] = flights['CRS_DEP_TIME'].apply(map_hours) #applying any function to the new column\n",
    "\n",
    "# \n",
    "print \"The most frequent actual departure time is\", flights['dept_hours'].describe()[2]\n",
    "\n",
    "print \"The most frequent scheduled departure time is\", flights['crs_dept_hours'].describe()[2]"
   ]
  },
  {
   "cell_type": "code",
   "execution_count": 9,
   "metadata": {
    "collapsed": false
   },
   "outputs": [],
   "source": [
    "# Also create a continuous version of DEP_HOUR from 1-24\n",
    "def cont_DEP_HOUR(x):\n",
    "    return(int(math.floor(x/100.0)))\n",
    "\n",
    "flights[\"DEP_TIME_cont\"] = flights[\"DEP_TIME\"].apply(cont_DEP_HOUR)\n",
    "flights[\"CRS_DEP_TIME_cont\"] = flights[\"CRS_DEP_TIME\"].apply(cont_DEP_HOUR)"
   ]
  },
  {
   "cell_type": "code",
   "execution_count": 10,
   "metadata": {
    "collapsed": false
   },
   "outputs": [
    {
     "name": "stdout",
     "output_type": "stream",
     "text": [
      "0    14\n",
      "1    16\n",
      "2    12\n",
      "3    17\n",
      "4    10\n",
      "Name: DEP_TIME_cont, dtype: int64\n",
      "0    1455\n",
      "1    1640\n",
      "2    1245\n",
      "3    1709\n",
      "4    1035\n",
      "Name: DEP_TIME, dtype: int64\n"
     ]
    }
   ],
   "source": [
    "print flights[\"DEP_TIME_cont\"].head()\n",
    "print flights[\"DEP_TIME\"].head()"
   ]
  },
  {
   "cell_type": "code",
   "execution_count": 11,
   "metadata": {
    "collapsed": false
   },
   "outputs": [
    {
     "name": "stdout",
     "output_type": "stream",
     "text": [
      "0    14\n",
      "1    16\n",
      "2    12\n",
      "3    17\n",
      "4    10\n",
      "5     8\n",
      "6    12\n",
      "7    16\n",
      "8    17\n",
      "9    21\n",
      "Name: dept_hours, dtype: object\n",
      "0    1455\n",
      "1    1640\n",
      "2    1245\n",
      "3    1709\n",
      "4    1035\n",
      "5     839\n",
      "6    1243\n",
      "7    1644\n",
      "8    1710\n",
      "9    2129\n",
      "Name: DEP_TIME, dtype: int64\n"
     ]
    }
   ],
   "source": [
    "# Check that this has translated well\n",
    "print flights['dept_hours'].head(10)\n",
    "print flights['DEP_TIME'].head(10)"
   ]
  },
  {
   "cell_type": "code",
   "execution_count": 12,
   "metadata": {
    "collapsed": true
   },
   "outputs": [],
   "source": [
    "# Now create a feature that makes day of the week into a cat variable\n",
    "\n",
    "def flight_day_week(x):\n",
    "    if x == 1:\n",
    "        return \"Monday\"\n",
    "    elif x == 2:\n",
    "        return \"Tuesday\"\n",
    "    elif x == 3:\n",
    "        return \"Wednesday\"\n",
    "    elif x == 4:\n",
    "        return \"Thursday\"\n",
    "    elif x == 5:\n",
    "        return \"Friday\"\n",
    "    elif x == 6:\n",
    "        return \"Saturday\"\n",
    "    else:\n",
    "        return \"Sunday\"\n",
    "    \n",
    "flights[\"DAY_of_WEEK\"] = flights[\"DAY_WEEK\"].apply(flight_day_week)"
   ]
  },
  {
   "cell_type": "code",
   "execution_count": 13,
   "metadata": {
    "collapsed": false
   },
   "outputs": [
    {
     "name": "stdout",
     "output_type": "stream",
     "text": [
      "0    4\n",
      "1    4\n",
      "2    4\n",
      "3    4\n",
      "4    4\n",
      "Name: DAY_WEEK, dtype: int64\n",
      "0    Thursday\n",
      "1    Thursday\n",
      "2    Thursday\n",
      "3    Thursday\n",
      "4    Thursday\n",
      "Name: DAY_of_WEEK, dtype: object\n"
     ]
    }
   ],
   "source": [
    "# Check to see that this is translating\n",
    "\n",
    "print flights[\"DAY_WEEK\"].head()\n",
    "print flights[\"DAY_of_WEEK\"].head()"
   ]
  },
  {
   "cell_type": "code",
   "execution_count": 14,
   "metadata": {
    "collapsed": false
   },
   "outputs": [
    {
     "data": {
      "text/plain": [
       "count    2201.000000\n",
       "mean        0.014539\n",
       "std         0.119725\n",
       "min         0.000000\n",
       "25%         0.000000\n",
       "50%         0.000000\n",
       "75%         0.000000\n",
       "max         1.000000\n",
       "Name: Weather, dtype: float64"
      ]
     },
     "execution_count": 14,
     "metadata": {},
     "output_type": "execute_result"
    }
   ],
   "source": [
    "# We want to create a categorical variable for weather\n",
    "# The mean is 0.014 which means 1 must be bad weather\n",
    "# About 1% had noted bad weather\n",
    "flights[\"Weather\"].describe()"
   ]
  },
  {
   "cell_type": "code",
   "execution_count": 15,
   "metadata": {
    "collapsed": true
   },
   "outputs": [],
   "source": [
    "# Now create a \n",
    "def cat_weather(x):\n",
    "    if x == 1:\n",
    "        return \"bad\"\n",
    "    else:\n",
    "        return \"good\"\n",
    "    \n",
    "flights[\"Weather_cat\"]=flights[\"Weather\"].apply(cat_weather)"
   ]
  },
  {
   "cell_type": "code",
   "execution_count": 16,
   "metadata": {
    "collapsed": false
   },
   "outputs": [
    {
     "name": "stdout",
     "output_type": "stream",
     "text": [
      "0    good\n",
      "1    good\n",
      "2    good\n",
      "3    good\n",
      "4    good\n",
      "Name: Weather_cat, dtype: object\n",
      "0    0\n",
      "1    0\n",
      "2    0\n",
      "3    0\n",
      "4    0\n",
      "Name: Weather, dtype: int64\n"
     ]
    }
   ],
   "source": [
    "print flights[\"Weather_cat\"].head()\n",
    "print flights[\"Weather\"].head()"
   ]
  },
  {
   "cell_type": "markdown",
   "metadata": {},
   "source": [
    "# Now do some EDA\n",
    "Take a look at the data and graph it!\n",
    "EDA code from Matt Brown."
   ]
  },
  {
   "cell_type": "code",
   "execution_count": 17,
   "metadata": {
    "collapsed": false
   },
   "outputs": [
    {
     "data": {
      "text/plain": [
       "array([[<matplotlib.axes._subplots.AxesSubplot object at 0x109654cd0>,\n",
       "        <matplotlib.axes._subplots.AxesSubplot object at 0x109976990>,\n",
       "        <matplotlib.axes._subplots.AxesSubplot object at 0x1099e4e90>],\n",
       "       [<matplotlib.axes._subplots.AxesSubplot object at 0x109a69cd0>,\n",
       "        <matplotlib.axes._subplots.AxesSubplot object at 0x109ad0a10>,\n",
       "        <matplotlib.axes._subplots.AxesSubplot object at 0x109b51910>],\n",
       "       [<matplotlib.axes._subplots.AxesSubplot object at 0x109bd5750>,\n",
       "        <matplotlib.axes._subplots.AxesSubplot object at 0x109d56650>,\n",
       "        <matplotlib.axes._subplots.AxesSubplot object at 0x109dd8390>],\n",
       "       [<matplotlib.axes._subplots.AxesSubplot object at 0x109e3e410>,\n",
       "        <matplotlib.axes._subplots.AxesSubplot object at 0x109ec2310>,\n",
       "        <matplotlib.axes._subplots.AxesSubplot object at 0x109e61e50>]], dtype=object)"
      ]
     },
     "execution_count": 17,
     "metadata": {},
     "output_type": "execute_result"
    },
    {
     "data": {
      "image/png": "[encoded data removed]",
      "text/plain": [
       "<matplotlib.figure.Figure at 0x10958a450>"
      ]
     },
     "metadata": {},
     "output_type": "display_data"
    }
   ],
   "source": [
    "flights.hist(figsize=(18,12))"
   ]
  },
  {
   "cell_type": "code",
   "execution_count": 18,
   "metadata": {
    "collapsed": false
   },
   "outputs": [
    {
     "name": "stdout",
     "output_type": "stream",
     "text": [
      "4 flights depart at 11pm.\n",
      "1 flights depart at midnight.\n",
      "0 flights depart at 2 AM.\n",
      "But 219 depart at 4 PM.\n"
     ]
    }
   ],
   "source": [
    "# No flights with actual departure time at midnight, 1 AM or 2 AM\n",
    "# This will become a problem for fitting this cat feature\n",
    "\n",
    "print flights.loc[(flights.dept_hours == '23')].shape[0], \"flights depart at 11pm.\"\n",
    "print flights.loc[(flights.dept_hours == '0')].shape[0], \"flights depart at midnight.\"\n",
    "print flights.loc[(flights.dept_hours == '2')].shape[0], \"flights depart at 2 AM.\"\n",
    "\n",
    "# But many of them depart at 4 PM\n",
    "print \"But\", flights.loc[(flights.dept_hours == '16')].shape[0], \"depart at 4 PM.\""
   ]
  },
  {
   "cell_type": "code",
   "execution_count": 19,
   "metadata": {
    "collapsed": false
   },
   "outputs": [
    {
     "name": "stdout",
     "output_type": "stream",
     "text": [
      "(0, 22)\n",
      "(0, 22)\n",
      "(0, 22)\n",
      "(219, 22)\n"
     ]
    }
   ],
   "source": [
    "print flights.loc[(flights.DEP_TIME_cont == 24)].shape\n",
    "print flights.loc[(flights.DEP_TIME_cont == 3)].shape\n",
    "print flights.loc[(flights.dept_hours == '02')].shape\n",
    "\n",
    "# But many of them depart at 4 PM\n",
    "print flights.loc[(flights.dept_hours == '16')].shape"
   ]
  },
  {
   "cell_type": "code",
   "execution_count": 20,
   "metadata": {
    "collapsed": false
   },
   "outputs": [
    {
     "data": {
      "text/plain": [
       "<matplotlib.axes._subplots.AxesSubplot at 0x10a129390>"
      ]
     },
     "execution_count": 20,
     "metadata": {},
     "output_type": "execute_result"
    },
    {
     "data": {
      "image/png": "[encoded data removed]",
      "text/plain": [
       "<matplotlib.figure.Figure at 0x10a138890>"
      ]
     },
     "metadata": {},
     "output_type": "display_data"
    }
   ],
   "source": [
    "# ~20% of flights in the dataset were delayed.\n",
    "flights['Flight Status'].value_counts().plot(kind='bar')"
   ]
  },
  {
   "cell_type": "code",
   "execution_count": 21,
   "metadata": {
    "collapsed": false
   },
   "outputs": [
    {
     "name": "stdout",
     "output_type": "stream",
     "text": [
      "Flights seem to have a low probability of delay on Saturday.\n",
      "We see higher percentages and numbers of delays on Monday and Sunday.\n"
     ]
    },
    {
     "data": {
      "image/png": "[encoded data removed]",
      "text/plain": [
       "<matplotlib.figure.Figure at 0x10afb1f90>"
      ]
     },
     "metadata": {},
     "output_type": "display_data"
    },
    {
     "data": {
      "image/png": "[encoded data removed]",
      "text/plain": [
       "<matplotlib.figure.Figure at 0x10ac22f50>"
      ]
     },
     "metadata": {},
     "output_type": "display_data"
    }
   ],
   "source": [
    "# This imitates the blog post\n",
    "# See flight delays by day of the week\n",
    "# By number and percentage\n",
    "\n",
    "f2 = flights.groupby(['Flight Status', 'DAY_WEEK'])['DAY_WEEK'].count().unstack('Flight Status')\n",
    "f2['delayed_pct'] = f2['delayed']/(f2['delayed']+ f2['ontime'])\n",
    "f2['ontime_pct'] = 1-f2['delayed_pct']\n",
    "\n",
    "f2[['delayed','ontime']].plot(kind='bar', stacked=True)\n",
    "f2[['delayed_pct','ontime_pct']].plot(kind='bar', stacked=True)\n",
    "\n",
    "print \"Flights seem to have a low probability of delay on Saturday.\"\n",
    "print \"We see higher percentages and numbers of delays on Monday and Sunday.\""
   ]
  },
  {
   "cell_type": "code",
   "execution_count": 22,
   "metadata": {
    "collapsed": false
   },
   "outputs": [
    {
     "name": "stdout",
     "output_type": "stream",
     "text": [
      "Here we see some airports might be more associated with delays, such as EWR\n"
     ]
    },
    {
     "data": {
      "image/png": "[encoded data removed]",
      "text/plain": [
       "<matplotlib.figure.Figure at 0x10b925ed0>"
      ]
     },
     "metadata": {},
     "output_type": "display_data"
    },
    {
     "data": {
      "image/png": "[encoded data removed]",
      "text/plain": [
       "<matplotlib.figure.Figure at 0x10ba0e550>"
      ]
     },
     "metadata": {},
     "output_type": "display_data"
    }
   ],
   "source": [
    "# Next few are from Ian\n",
    "df2 = flights.groupby(['DEST', 'Flight Status'])['DEST'].count().unstack('Flight Status').fillna(0)\n",
    "\n",
    "df2['ot_perc'] = 1.0 * df2['ontime'] / (df2['delayed'] + df2['ontime']) * 100\n",
    "df2['del_perc'] = 1.0 * df2['delayed'] / (df2['delayed'] + df2['ontime']) * 100\n",
    "\n",
    "df2[['ontime','delayed']].plot(kind='bar', stacked=True)\n",
    "df2[['ot_perc','del_perc']].plot(kind='bar', stacked=True)\n",
    "\n",
    "del df2\n",
    "\n",
    "print \"Here we see some airports might be more associated with delays, such as EWR\""
   ]
  },
  {
   "cell_type": "code",
   "execution_count": 23,
   "metadata": {
    "collapsed": false
   },
   "outputs": [
    {
     "name": "stdout",
     "output_type": "stream",
     "text": [
      "Here we see some airports might be more associated with more on-time departures, such as DCA\n"
     ]
    },
    {
     "data": {
      "image/png": "[encoded data removed]",
      "text/plain": [
       "<matplotlib.figure.Figure at 0x10bf21c90>"
      ]
     },
     "metadata": {},
     "output_type": "display_data"
    },
    {
     "data": {
      "image/png": "[encoded data removed]",
      "text/plain": [
       "<matplotlib.figure.Figure at 0x10bf21b90>"
      ]
     },
     "metadata": {},
     "output_type": "display_data"
    }
   ],
   "source": [
    "df2 = flights.groupby(['ORIGIN', 'Flight Status'])['DEST'].count().unstack('Flight Status').fillna(0)\n",
    "\n",
    "df2['ot_perc'] = 1.0 * df2['ontime'] / (df2['delayed'] + df2['ontime']) * 100\n",
    "df2['del_perc'] = 1.0 * df2['delayed'] / (df2['delayed'] + df2['ontime']) * 100\n",
    "\n",
    "df2[['ontime','delayed']].plot(kind='bar', stacked=True)\n",
    "df2[['ot_perc','del_perc']].plot(kind='bar', stacked=True)\n",
    "\n",
    "del df2\n",
    "\n",
    "print \"Here we see some airports might be more associated with more on-time departures, such as DCA\""
   ]
  },
  {
   "cell_type": "code",
   "execution_count": 24,
   "metadata": {
    "collapsed": false
   },
   "outputs": [
    {
     "name": "stdout",
     "output_type": "stream",
     "text": [
      "Here we see some airlines might be more associated with delays, such as CO, DH, MQ, and RU.\n"
     ]
    },
    {
     "data": {
      "image/png": "[encoded data removed]",
      "text/plain": [
       "<matplotlib.figure.Figure at 0x10af9a410>"
      ]
     },
     "metadata": {},
     "output_type": "display_data"
    },
    {
     "data": {
      "image/png": "[encoded data removed]",
      "text/plain": [
       "<matplotlib.figure.Figure at 0x10afa2350>"
      ]
     },
     "metadata": {},
     "output_type": "display_data"
    }
   ],
   "source": [
    "df2 = flights.groupby(['CARRIER', 'Flight Status'])['CARRIER'].count().unstack('Flight Status').fillna(0)\n",
    "\n",
    "df2['ot_perc'] = 1.0 * df2['ontime'] / (df2['delayed'] + df2['ontime']) * 100\n",
    "df2['del_perc'] = 1.0 * df2['delayed'] / (df2['delayed'] + df2['ontime']) * 100\n",
    "\n",
    "df2[['ontime','delayed']].plot(kind='bar', stacked=True)\n",
    "df2[['ot_perc','del_perc']].plot(kind='bar', stacked=True)\n",
    "\n",
    "del df2\n",
    "print \"Here we see some airlines might be more associated with delays, such as CO, DH, MQ, and RU.\""
   ]
  },
  {
   "cell_type": "code",
   "execution_count": 50,
   "metadata": {
    "collapsed": false
   },
   "outputs": [
    {
     "name": "stdout",
     "output_type": "stream",
     "text": [
      "Looks like overall more flights delayed later in the day, even though overall number of flights goes down.\n",
      "Also, note that delays are culmulative. If earlier flights are delayed, then the ones afterwards are likely to be affected.\n"
     ]
    },
    {
     "data": {
      "image/png": "[encoded data removed]",
      "text/plain": [
       "<matplotlib.figure.Figure at 0x10bce4c90>"
      ]
     },
     "metadata": {},
     "output_type": "display_data"
    },
    {
     "data": {
      "image/png": "[encoded data removed]",
      "text/plain": [
       "<matplotlib.figure.Figure at 0x10d032dd0>"
      ]
     },
     "metadata": {},
     "output_type": "display_data"
    }
   ],
   "source": [
    "flights = flights.sort(['DEP_TIME_cont'], ascending=[1])\n",
    "\n",
    "df2 = flights.groupby(['DEP_TIME_cont', 'Flight Status'])['DEP_TIME_cont'].count().unstack('Flight Status').fillna(0)\n",
    "\n",
    "df2['ot_perc'] = 1.0 * df2['ontime'] / (df2['delayed'] + df2['ontime']) * 100\n",
    "df2['del_perc'] = 1.0 * df2['delayed'] / (df2['delayed'] + df2['ontime']) * 100\n",
    "\n",
    "df2[['ontime','delayed']].plot(kind='bar', stacked=True)\n",
    "df2[['ot_perc','del_perc']].plot(kind='bar', stacked=True)\n",
    "\n",
    "del df2\n",
    "print \"Looks like overall more flights delayed later in the day, even though overall number of flights goes down.\"\n",
    "print \"Also, note that delays are culmulative. If earlier flights are delayed, then the ones afterwards are likely to be affected.\""
   ]
  },
  {
   "cell_type": "code",
   "execution_count": 28,
   "metadata": {
    "collapsed": false
   },
   "outputs": [
    {
     "name": "stdout",
     "output_type": "stream",
     "text": [
      "See the same general trend for scheduled departure date.\n"
     ]
    },
    {
     "data": {
      "image/png": "[encoded data removed]",
      "text/plain": [
       "<matplotlib.figure.Figure at 0x10d167250>"
      ]
     },
     "metadata": {},
     "output_type": "display_data"
    },
    {
     "data": {
      "image/png": "[encoded data removed]",
      "text/plain": [
       "<matplotlib.figure.Figure at 0x10d0ca850>"
      ]
     },
     "metadata": {},
     "output_type": "display_data"
    }
   ],
   "source": [
    "flights = flights.sort(['CRS_DEP_TIME_cont'], ascending=[1])\n",
    "\n",
    "df2 = flights.groupby(['CRS_DEP_TIME_cont', 'Flight Status'])['CRS_DEP_TIME_cont'].count().unstack('Flight Status').fillna(0)\n",
    "\n",
    "df2['ot_perc'] = 1.0 * df2['ontime'] / (df2['delayed'] + df2['ontime']) * 100\n",
    "df2['del_perc'] = 1.0 * df2['delayed'] / (df2['delayed'] + df2['ontime']) * 100\n",
    "\n",
    "df2[['ontime','delayed']].plot(kind='bar', stacked=True)\n",
    "df2[['ot_perc','del_perc']].plot(kind='bar', stacked=True)\n",
    "\n",
    "del df2\n",
    "print \"See the same general trend for scheduled departure date.\""
   ]
  },
  {
   "cell_type": "markdown",
   "metadata": {},
   "source": [
    "# Now train the model described by the blog\n",
    "- Use Patsy to create the dummy vars needed\n",
    "- Then split into training and test set \n",
    "    - We do this in this order to avoid have a different number of levels in test and train.\n",
    "- Fit the model\n",
    "    - In statsmodel\n",
    "    - In scikit-learn\n",
    "- Calculate score, for logistic regression it's accuracy\n",
    "- Calculate AUC and draw ROC curve\n",
    "- Interpret"
   ]
  },
  {
   "cell_type": "code",
   "execution_count": 254,
   "metadata": {
    "collapsed": true
   },
   "outputs": [],
   "source": [
    "## THE BLOG MODEL\n",
    "## Call:\n",
    "## glm(formula = FlightStatus ~ ., family = binomial, data = train)\n",
    "## \n",
    "## Deviance Residuals: \n",
    "##     Min       1Q   Median       3Q      Max  \n",
    "## -2.9293   0.2287   0.4632   0.6330   1.4940  \n",
    "## \n",
    "## Coefficients: (1 not defined because of singularities)\n",
    "##                                Estimate Std. Error z value Pr(>|z|)    \n",
    "## (Intercept)                   -18.00948 2399.54481  -0.008 0.994012    \n",
    "## CARRIERDH                       1.22308    0.59115   2.069 0.038549 *  \n",
    "## CARRIERDL                       1.85836    0.54340   3.420 0.000627 ***\n",
    "## CARRIERMQ                       0.62141    0.51715   1.202 0.229517    \n",
    "## CARRIEROH                       2.21278    0.95203   2.324 0.020111 *  \n",
    "## CARRIERRU                       1.05671    0.44686   2.365 0.018043 *  \n",
    "## CARRIERUA                       1.59265    0.98043   1.624 0.104283    \n",
    "## CARRIERUS                       2.10368    0.55575   3.785 0.000154 ***\n",
    "## DESTJFK                        -0.02558    0.36198  -0.071 0.943666    \n",
    "## DESTLGA                        -0.28915    0.36769  -0.786 0.431636    \n",
    "## ORIGINDCA                       1.48927    0.42527   3.502 0.000462 ***\n",
    "## ORIGINIAD                       0.50949    0.40285   1.265 0.205968    \n",
    "## DAY_WEEK2                       0.27817    0.28915   0.962 0.336039    \n",
    "## DAY_WEEK3                       0.43535    0.28308   1.538 0.124070    \n",
    "## DAY_WEEK4                       0.48144    0.27512   1.750 0.080136 .  \n",
    "## DAY_WEEK5                       0.43374    0.27570   1.573 0.115672    \n",
    "## DAY_WEEK6                       1.28499    0.37066   3.467 0.000527 ***\n",
    "## DAY_WEEK7                      -0.02538    0.28445  -0.089 0.928917    \n",
    "## HourBlockDeptTimeHourBlock1          NA         NA      NA       NA    \n",
    "## HourBlockDeptTimeHourBlock10   18.07704 2399.54479   0.008 0.993989    \n",
    "## HourBlockDeptTimeHourBlock11   17.45879 2399.54487   0.007 0.994195    \n",
    "## HourBlockDeptTimeHourBlock12   18.09730 2399.54478   0.008 0.993982    \n",
    "## HourBlockDeptTimeHourBlock13   16.47483 2399.54476   0.007 0.994522    \n",
    "## HourBlockDeptTimeHourBlock14   17.78484 2399.54477   0.007 0.994086    \n",
    "## HourBlockDeptTimeHourBlock15   15.96003 2399.54477   0.007 0.994693    \n",
    "## HourBlockDeptTimeHourBlock16   16.99874 2399.54476   0.007 0.994348    \n",
    "## HourBlockDeptTimeHourBlock17   16.99070 2399.54476   0.007 0.994350    \n",
    "## HourBlockDeptTimeHourBlock18   16.69408 2399.54477   0.007 0.994449    \n",
    "## HourBlockDeptTimeHourBlock19   15.49419 2399.54478   0.006 0.994848    \n",
    "## HourBlockDeptTimeHourBlock20   16.30981 2399.54479   0.007 0.994577    \n",
    "## HourBlockDeptTimeHourBlock21   17.16271 2399.54477   0.007 0.994293    \n",
    "## HourBlockDeptTimeHourBlock22   -0.95332 2538.73457   0.000 0.999700    \n",
    "## HourBlockDeptTimeHourBlock23   -0.51317 2680.37215   0.000 0.999847    \n",
    "## HourBlockDeptTimeHourBlock5    17.46843 2399.54490   0.007 0.994192    \n",
    "## HourBlockDeptTimeHourBlock6    17.90277 2399.54478   0.007 0.994047    \n",
    "## HourBlockDeptTimeHourBlock7    17.51392 2399.54479   0.007 0.994176    \n",
    "## HourBlockDeptTimeHourBlock8    17.94252 2399.54478   0.007 0.994034    \n",
    "## HourBlockDeptTimeHourBlock9    16.07116 2399.54479   0.007 0.994656    \n",
    "## Weather                       -17.74165  493.32979  -0.036 0.971312    \n",
    "## ---"
   ]
  },
  {
   "cell_type": "code",
   "execution_count": 529,
   "metadata": {
    "collapsed": false
   },
   "outputs": [
    {
     "name": "stdout",
     "output_type": "stream",
     "text": [
      "(2201, 1) (2201, 39)\n"
     ]
    }
   ],
   "source": [
    "# Use Patsy to get the variables for the model\n",
    "# For both datasets\n",
    "# We have to first create dummy variables\n",
    "# Then split into test/train to make sure we have the same categories in both\n",
    "# So unfortunately, when we compare to another model with diff vars, test set will\n",
    "# be different\n",
    "#dept_hours\n",
    "#DEP_TIME_cont\n",
    "\n",
    "form = 'Flight_Status ~ CARRIER+DEST+ORIGIN+DAY_of_WEEK+Weather_cat+dept_hours'\n",
    "y_all, X_all = patsy.dmatrices(form, flights,return_type='dataframe')\n",
    "\n",
    "print y_all.shape, X_all.shape"
   ]
  },
  {
   "cell_type": "code",
   "execution_count": 604,
   "metadata": {
    "collapsed": false
   },
   "outputs": [
    {
     "name": "stdout",
     "output_type": "stream",
     "text": [
      "(1101, 1) (1101, 39)\n",
      "(1100, 1) (1100, 39)\n"
     ]
    }
   ],
   "source": [
    "# Test and train split\n",
    "X_train, X_test, y_train, y_test = cross_validation.train_test_split(X_all, y_all, train_size=0.5)\n",
    "\n",
    "print y_test.shape, X_test.shape\n",
    "print y_train.shape, X_train.shape"
   ]
  },
  {
   "cell_type": "code",
   "execution_count": 605,
   "metadata": {
    "collapsed": false
   },
   "outputs": [
    {
     "name": "stdout",
     "output_type": "stream",
     "text": [
      "Warning: Maximum number of iterations has been exceeded.\n",
      "         Current function value: 0.392745\n",
      "         Iterations: 35\n"
     ]
    },
    {
     "data": {
      "text/html": [
       "<table class=\"simpletable\">\n",
       "<caption>Logit Regression Results</caption>\n",
       "<tr>\n",
       "  <th>Dep. Variable:</th>   <td>Flight_Status</td>  <th>  No. Observations:  </th>  <td>  1100</td>  \n",
       "</tr>\n",
       "<tr>\n",
       "  <th>Model:</th>               <td>Logit</td>      <th>  Df Residuals:      </th>  <td>  1061</td>  \n",
       "</tr>\n",
       "<tr>\n",
       "  <th>Method:</th>               <td>MLE</td>       <th>  Df Model:          </th>  <td>    38</td>  \n",
       "</tr>\n",
       "<tr>\n",
       "  <th>Date:</th>          <td>Mon, 08 Feb 2016</td> <th>  Pseudo R-squ.:     </th>  <td>0.1966</td>  \n",
       "</tr>\n",
       "<tr>\n",
       "  <th>Time:</th>              <td>02:44:37</td>     <th>  Log-Likelihood:    </th> <td> -432.02</td> \n",
       "</tr>\n",
       "<tr>\n",
       "  <th>converged:</th>           <td>False</td>      <th>  LL-Null:           </th> <td> -537.73</td> \n",
       "</tr>\n",
       "<tr>\n",
       "  <th> </th>                      <td> </td>        <th>  LLR p-value:       </th> <td>6.269e-26</td>\n",
       "</tr>\n",
       "</table>\n",
       "<table class=\"simpletable\">\n",
       "<tr>\n",
       "              <td></td>                <th>coef</th>     <th>std err</th>      <th>z</th>      <th>P>|z|</th> <th>[95.0% Conf. Int.]</th> \n",
       "</tr>\n",
       "<tr>\n",
       "  <th>Intercept</th>                <td>   41.1946</td> <td> 2.55e+04</td> <td>    0.002</td> <td> 0.999</td> <td>   -5e+04  5.01e+04</td>\n",
       "</tr>\n",
       "<tr>\n",
       "  <th>CARRIER[T.DH]</th>            <td>   -1.2642</td> <td>    0.684</td> <td>   -1.849</td> <td> 0.064</td> <td>   -2.604     0.076</td>\n",
       "</tr>\n",
       "<tr>\n",
       "  <th>CARRIER[T.DL]</th>            <td>   -1.4267</td> <td>    0.627</td> <td>   -2.277</td> <td> 0.023</td> <td>   -2.655    -0.199</td>\n",
       "</tr>\n",
       "<tr>\n",
       "  <th>CARRIER[T.MQ]</th>            <td>   -0.1304</td> <td>    0.607</td> <td>   -0.215</td> <td> 0.830</td> <td>   -1.320     1.059</td>\n",
       "</tr>\n",
       "<tr>\n",
       "  <th>CARRIER[T.OH]</th>            <td>   -1.8843</td> <td>    1.086</td> <td>   -1.735</td> <td> 0.083</td> <td>   -4.013     0.244</td>\n",
       "</tr>\n",
       "<tr>\n",
       "  <th>CARRIER[T.RU]</th>            <td>   -0.4736</td> <td>    0.528</td> <td>   -0.897</td> <td> 0.370</td> <td>   -1.509     0.562</td>\n",
       "</tr>\n",
       "<tr>\n",
       "  <th>CARRIER[T.UA]</th>            <td>   -1.2763</td> <td>    1.050</td> <td>   -1.216</td> <td> 0.224</td> <td>   -3.334     0.782</td>\n",
       "</tr>\n",
       "<tr>\n",
       "  <th>CARRIER[T.US]</th>            <td>   -2.4010</td> <td>    0.674</td> <td>   -3.565</td> <td> 0.000</td> <td>   -3.721    -1.081</td>\n",
       "</tr>\n",
       "<tr>\n",
       "  <th>DEST[T.JFK]</th>              <td>    0.3841</td> <td>    0.415</td> <td>    0.924</td> <td> 0.355</td> <td>   -0.430     1.198</td>\n",
       "</tr>\n",
       "<tr>\n",
       "  <th>DEST[T.LGA]</th>              <td>    0.5224</td> <td>    0.422</td> <td>    1.236</td> <td> 0.216</td> <td>   -0.306     1.350</td>\n",
       "</tr>\n",
       "<tr>\n",
       "  <th>ORIGIN[T.DCA]</th>            <td>   -0.5603</td> <td>    0.482</td> <td>   -1.162</td> <td> 0.245</td> <td>   -1.505     0.385</td>\n",
       "</tr>\n",
       "<tr>\n",
       "  <th>ORIGIN[T.IAD]</th>            <td>    0.4079</td> <td>    0.444</td> <td>    0.919</td> <td> 0.358</td> <td>   -0.462     1.278</td>\n",
       "</tr>\n",
       "<tr>\n",
       "  <th>DAY_of_WEEK[T.Monday]</th>    <td>    0.3314</td> <td>    0.302</td> <td>    1.098</td> <td> 0.272</td> <td>   -0.260     0.923</td>\n",
       "</tr>\n",
       "<tr>\n",
       "  <th>DAY_of_WEEK[T.Saturday]</th>  <td>   -0.8875</td> <td>    0.434</td> <td>   -2.043</td> <td> 0.041</td> <td>   -1.739    -0.036</td>\n",
       "</tr>\n",
       "<tr>\n",
       "  <th>DAY_of_WEEK[T.Sunday]</th>    <td>    0.2751</td> <td>    0.307</td> <td>    0.896</td> <td> 0.370</td> <td>   -0.327     0.877</td>\n",
       "</tr>\n",
       "<tr>\n",
       "  <th>DAY_of_WEEK[T.Thursday]</th>  <td>   -0.0287</td> <td>    0.288</td> <td>   -0.100</td> <td> 0.921</td> <td>   -0.594     0.537</td>\n",
       "</tr>\n",
       "<tr>\n",
       "  <th>DAY_of_WEEK[T.Tuesday]</th>   <td>   -0.1293</td> <td>    0.316</td> <td>   -0.409</td> <td> 0.683</td> <td>   -0.749     0.490</td>\n",
       "</tr>\n",
       "<tr>\n",
       "  <th>DAY_of_WEEK[T.Wednesday]</th> <td>    0.0086</td> <td>    0.299</td> <td>    0.029</td> <td> 0.977</td> <td>   -0.578     0.595</td>\n",
       "</tr>\n",
       "<tr>\n",
       "  <th>Weather_cat[T.good]</th>      <td>  -24.2059</td> <td>  2.5e+04</td> <td>   -0.001</td> <td> 0.999</td> <td>-4.91e+04  4.91e+04</td>\n",
       "</tr>\n",
       "<tr>\n",
       "  <th>dept_hours[T.1]</th>          <td>    9.0711</td> <td> 3.86e+05</td> <td> 2.35e-05</td> <td> 1.000</td> <td>-7.56e+05  7.56e+05</td>\n",
       "</tr>\n",
       "<tr>\n",
       "  <th>dept_hours[T.10]</th>         <td>  -18.8151</td> <td> 4881.161</td> <td>   -0.004</td> <td> 0.997</td> <td>-9585.715  9548.084</td>\n",
       "</tr>\n",
       "<tr>\n",
       "  <th>dept_hours[T.11]</th>         <td>  -17.2206</td> <td> 4881.161</td> <td>   -0.004</td> <td> 0.997</td> <td>-9584.120  9549.679</td>\n",
       "</tr>\n",
       "<tr>\n",
       "  <th>dept_hours[T.12]</th>         <td>  -18.9282</td> <td> 4881.161</td> <td>   -0.004</td> <td> 0.997</td> <td>-9585.828  9547.971</td>\n",
       "</tr>\n",
       "<tr>\n",
       "  <th>dept_hours[T.13]</th>         <td>  -17.6572</td> <td> 4881.161</td> <td>   -0.004</td> <td> 0.997</td> <td>-9584.557  9549.242</td>\n",
       "</tr>\n",
       "<tr>\n",
       "  <th>dept_hours[T.14]</th>         <td>  -17.8850</td> <td> 4881.161</td> <td>   -0.004</td> <td> 0.997</td> <td>-9584.784  9549.014</td>\n",
       "</tr>\n",
       "<tr>\n",
       "  <th>dept_hours[T.15]</th>         <td>  -16.9874</td> <td> 4881.161</td> <td>   -0.003</td> <td> 0.997</td> <td>-9583.887  9549.912</td>\n",
       "</tr>\n",
       "<tr>\n",
       "  <th>dept_hours[T.16]</th>         <td>  -17.9013</td> <td> 4881.161</td> <td>   -0.004</td> <td> 0.997</td> <td>-9584.801  9548.998</td>\n",
       "</tr>\n",
       "<tr>\n",
       "  <th>dept_hours[T.17]</th>         <td>  -17.1640</td> <td> 4881.161</td> <td>   -0.004</td> <td> 0.997</td> <td>-9584.063  9549.735</td>\n",
       "</tr>\n",
       "<tr>\n",
       "  <th>dept_hours[T.18]</th>         <td>  -17.5034</td> <td> 4881.161</td> <td>   -0.004</td> <td> 0.997</td> <td>-9584.403  9549.396</td>\n",
       "</tr>\n",
       "<tr>\n",
       "  <th>dept_hours[T.19]</th>         <td>  -16.0882</td> <td> 4881.161</td> <td>   -0.003</td> <td> 0.997</td> <td>-9582.988  9550.811</td>\n",
       "</tr>\n",
       "<tr>\n",
       "  <th>dept_hours[T.20]</th>         <td>  -16.4814</td> <td> 4881.161</td> <td>   -0.003</td> <td> 0.997</td> <td>-9583.381  9550.418</td>\n",
       "</tr>\n",
       "<tr>\n",
       "  <th>dept_hours[T.21]</th>         <td>  -17.8246</td> <td> 4881.161</td> <td>   -0.004</td> <td> 0.997</td> <td>-9584.724  9549.075</td>\n",
       "</tr>\n",
       "<tr>\n",
       "  <th>dept_hours[T.22]</th>         <td>   14.6152</td> <td> 2.36e+06</td> <td> 6.19e-06</td> <td> 1.000</td> <td>-4.62e+06  4.62e+06</td>\n",
       "</tr>\n",
       "<tr>\n",
       "  <th>dept_hours[T.23]</th>         <td>    9.9065</td> <td> 5.32e+05</td> <td> 1.86e-05</td> <td> 1.000</td> <td>-1.04e+06  1.04e+06</td>\n",
       "</tr>\n",
       "<tr>\n",
       "  <th>dept_hours[T.5]</th>          <td>  -94.8413</td> <td> 3.16e+16</td> <td>   -3e-15</td> <td> 1.000</td> <td>-6.19e+16  6.19e+16</td>\n",
       "</tr>\n",
       "<tr>\n",
       "  <th>dept_hours[T.6]</th>          <td>  -18.3764</td> <td> 4881.161</td> <td>   -0.004</td> <td> 0.997</td> <td>-9585.276  9548.523</td>\n",
       "</tr>\n",
       "<tr>\n",
       "  <th>dept_hours[T.7]</th>          <td>  -18.1601</td> <td> 4881.161</td> <td>   -0.004</td> <td> 0.997</td> <td>-9585.060  9548.739</td>\n",
       "</tr>\n",
       "<tr>\n",
       "  <th>dept_hours[T.8]</th>          <td>  -18.3595</td> <td> 4881.161</td> <td>   -0.004</td> <td> 0.997</td> <td>-9585.259  9548.540</td>\n",
       "</tr>\n",
       "<tr>\n",
       "  <th>dept_hours[T.9]</th>          <td>  -17.2456</td> <td> 4881.161</td> <td>   -0.004</td> <td> 0.997</td> <td>-9584.145  9549.654</td>\n",
       "</tr>\n",
       "</table>"
      ],
      "text/plain": [
       "<class 'statsmodels.iolib.summary.Summary'>\n",
       "\"\"\"\n",
       "                           Logit Regression Results                           \n",
       "==============================================================================\n",
       "Dep. Variable:          Flight_Status   No. Observations:                 1100\n",
       "Model:                          Logit   Df Residuals:                     1061\n",
       "Method:                           MLE   Df Model:                           38\n",
       "Date:                Mon, 08 Feb 2016   Pseudo R-squ.:                  0.1966\n",
       "Time:                        02:44:37   Log-Likelihood:                -432.02\n",
       "converged:                      False   LL-Null:                       -537.73\n",
       "                                        LLR p-value:                 6.269e-26\n",
       "============================================================================================\n",
       "                               coef    std err          z      P>|z|      [95.0% Conf. Int.]\n",
       "--------------------------------------------------------------------------------------------\n",
       "Intercept                   41.1946   2.55e+04      0.002      0.999        -5e+04  5.01e+04\n",
       "CARRIER[T.DH]               -1.2642      0.684     -1.849      0.064        -2.604     0.076\n",
       "CARRIER[T.DL]               -1.4267      0.627     -2.277      0.023        -2.655    -0.199\n",
       "CARRIER[T.MQ]               -0.1304      0.607     -0.215      0.830        -1.320     1.059\n",
       "CARRIER[T.OH]               -1.8843      1.086     -1.735      0.083        -4.013     0.244\n",
       "CARRIER[T.RU]               -0.4736      0.528     -0.897      0.370        -1.509     0.562\n",
       "CARRIER[T.UA]               -1.2763      1.050     -1.216      0.224        -3.334     0.782\n",
       "CARRIER[T.US]               -2.4010      0.674     -3.565      0.000        -3.721    -1.081\n",
       "DEST[T.JFK]                  0.3841      0.415      0.924      0.355        -0.430     1.198\n",
       "DEST[T.LGA]                  0.5224      0.422      1.236      0.216        -0.306     1.350\n",
       "ORIGIN[T.DCA]               -0.5603      0.482     -1.162      0.245        -1.505     0.385\n",
       "ORIGIN[T.IAD]                0.4079      0.444      0.919      0.358        -0.462     1.278\n",
       "DAY_of_WEEK[T.Monday]        0.3314      0.302      1.098      0.272        -0.260     0.923\n",
       "DAY_of_WEEK[T.Saturday]     -0.8875      0.434     -2.043      0.041        -1.739    -0.036\n",
       "DAY_of_WEEK[T.Sunday]        0.2751      0.307      0.896      0.370        -0.327     0.877\n",
       "DAY_of_WEEK[T.Thursday]     -0.0287      0.288     -0.100      0.921        -0.594     0.537\n",
       "DAY_of_WEEK[T.Tuesday]      -0.1293      0.316     -0.409      0.683        -0.749     0.490\n",
       "DAY_of_WEEK[T.Wednesday]     0.0086      0.299      0.029      0.977        -0.578     0.595\n",
       "Weather_cat[T.good]        -24.2059    2.5e+04     -0.001      0.999     -4.91e+04  4.91e+04\n",
       "dept_hours[T.1]              9.0711   3.86e+05   2.35e-05      1.000     -7.56e+05  7.56e+05\n",
       "dept_hours[T.10]           -18.8151   4881.161     -0.004      0.997     -9585.715  9548.084\n",
       "dept_hours[T.11]           -17.2206   4881.161     -0.004      0.997     -9584.120  9549.679\n",
       "dept_hours[T.12]           -18.9282   4881.161     -0.004      0.997     -9585.828  9547.971\n",
       "dept_hours[T.13]           -17.6572   4881.161     -0.004      0.997     -9584.557  9549.242\n",
       "dept_hours[T.14]           -17.8850   4881.161     -0.004      0.997     -9584.784  9549.014\n",
       "dept_hours[T.15]           -16.9874   4881.161     -0.003      0.997     -9583.887  9549.912\n",
       "dept_hours[T.16]           -17.9013   4881.161     -0.004      0.997     -9584.801  9548.998\n",
       "dept_hours[T.17]           -17.1640   4881.161     -0.004      0.997     -9584.063  9549.735\n",
       "dept_hours[T.18]           -17.5034   4881.161     -0.004      0.997     -9584.403  9549.396\n",
       "dept_hours[T.19]           -16.0882   4881.161     -0.003      0.997     -9582.988  9550.811\n",
       "dept_hours[T.20]           -16.4814   4881.161     -0.003      0.997     -9583.381  9550.418\n",
       "dept_hours[T.21]           -17.8246   4881.161     -0.004      0.997     -9584.724  9549.075\n",
       "dept_hours[T.22]            14.6152   2.36e+06   6.19e-06      1.000     -4.62e+06  4.62e+06\n",
       "dept_hours[T.23]             9.9065   5.32e+05   1.86e-05      1.000     -1.04e+06  1.04e+06\n",
       "dept_hours[T.5]            -94.8413   3.16e+16     -3e-15      1.000     -6.19e+16  6.19e+16\n",
       "dept_hours[T.6]            -18.3764   4881.161     -0.004      0.997     -9585.276  9548.523\n",
       "dept_hours[T.7]            -18.1601   4881.161     -0.004      0.997     -9585.060  9548.739\n",
       "dept_hours[T.8]            -18.3595   4881.161     -0.004      0.997     -9585.259  9548.540\n",
       "dept_hours[T.9]            -17.2456   4881.161     -0.004      0.997     -9584.145  9549.654\n",
       "============================================================================================\n",
       "\"\"\""
      ]
     },
     "execution_count": 605,
     "metadata": {},
     "output_type": "execute_result"
    }
   ],
   "source": [
    "# Train a model using statsmodel\n",
    "# Doesn't converge so not sure if we should trust these coeffs\n",
    "# I think this does or doesn't converge depending on training set\n",
    "\n",
    "blog_mod = sm.Logit(y_train,X_train)\n",
    "results = blog_mod.fit()\n",
    "results.summary()"
   ]
  },
  {
   "cell_type": "code",
   "execution_count": 606,
   "metadata": {
    "collapsed": false
   },
   "outputs": [
    {
     "name": "stdout",
     "output_type": "stream",
     "text": [
      "(1100, 39)\n"
     ]
    },
    {
     "data": {
      "text/plain": [
       "LogisticRegression(C=1.0, class_weight=None, dual=False, fit_intercept=True,\n",
       "          intercept_scaling=1, max_iter=100, multi_class='ovr',\n",
       "          penalty='l2', random_state=None, solver='liblinear', tol=0.0001,\n",
       "          verbose=0)"
      ]
     },
     "execution_count": 606,
     "metadata": {},
     "output_type": "execute_result"
    }
   ],
   "source": [
    "# Use scikit learn to implement \n",
    "X_train1 = X_train.values\n",
    "y_train1 = y_train.values.ravel()\n",
    "\n",
    "print X_train1.shape\n",
    "blog_mod_f = linear_model.LogisticRegression()\n",
    "blog_mod_f.fit(X_train1, y_train1)"
   ]
  },
  {
   "cell_type": "code",
   "execution_count": 607,
   "metadata": {
    "collapsed": false
   },
   "outputs": [
    {
     "name": "stdout",
     "output_type": "stream",
     "text": [
      "----------------------------------\n",
      "[('Intercept', 0.50816564936279196),\n",
      " ('CARRIER[T.DH]', -0.23382465999501953),\n",
      " ('CARRIER[T.DL]', -0.56427307317728193),\n",
      " ('CARRIER[T.MQ]', 0.59204992015629443),\n",
      " ('CARRIER[T.OH]', -0.48352031846449656),\n",
      " ('CARRIER[T.RU]', 0.16819050880321038),\n",
      " ('CARRIER[T.UA]', -0.016131242566644811),\n",
      " ('CARRIER[T.US]', -1.3973362376781975),\n",
      " ('DEST[T.JFK]', 0.013647938065593246),\n",
      " ('DEST[T.LGA]', 0.18149264001111237),\n",
      " ('ORIGIN[T.DCA]', -0.22253569349511196),\n",
      " ('ORIGIN[T.IAD]', 0.48512429411794183),\n",
      " ('DAY_of_WEEK[T.Monday]', 0.41693986242049141),\n",
      " ('DAY_of_WEEK[T.Saturday]', -0.74799778249483118),\n",
      " ('DAY_of_WEEK[T.Sunday]', 0.26457633810938169),\n",
      " ('DAY_of_WEEK[T.Thursday]', -0.012581104237108048),\n",
      " ('DAY_of_WEEK[T.Tuesday]', -0.03849782092599565),\n",
      " ('DAY_of_WEEK[T.Wednesday]', -0.0039839589740820304),\n",
      " ('Weather_cat[T.good]', -2.3607869087615749),\n",
      " ('dept_hours[T.1]', 0.58169274883697319),\n",
      " ('dept_hours[T.10]', -0.9597468369497103),\n",
      " ('dept_hours[T.11]', 0.1705792991542458),\n",
      " ('dept_hours[T.12]', -1.1755679353859678),\n",
      " ('dept_hours[T.13]', -0.14219728978828869),\n",
      " ('dept_hours[T.14]', -0.33817979828007833),\n",
      " ('dept_hours[T.15]', 0.50517080124812486),\n",
      " ('dept_hours[T.16]', -0.35057239387919786),\n",
      " ('dept_hours[T.17]', 0.38050890204758592),\n",
      " ('dept_hours[T.18]', 0.077234585418378104),\n",
      " ('dept_hours[T.19]', 1.2880547169727066),\n",
      " ('dept_hours[T.20]', 0.84487643683956937),\n",
      " ('dept_hours[T.21]', -0.29673277747048793),\n",
      " ('dept_hours[T.22]', 1.6269827571168658),\n",
      " ('dept_hours[T.23]', 0.53509749267497897),\n",
      " ('dept_hours[T.5]', -1.0482657274503755),\n",
      " ('dept_hours[T.6]', -0.79683181779686796),\n",
      " ('dept_hours[T.7]', -0.38571353805868536),\n",
      " ('dept_hours[T.8]', -0.85310571694994775),\n",
      " ('dept_hours[T.9]', 0.2259854345145943)]\n",
      "----------------------------------\n",
      "\n",
      "Positively associated with delay: MQ airline, Monday, Sunday, and Hours 1, 9, 13, 15, 16, 18, 19, 20, 22, 23.\n",
      "Why would it make sense that later times are associated with flight delay?\n"
     ]
    }
   ],
   "source": [
    "# from Pat K\n",
    "import pprint\n",
    "pp = pprint.PrettyPrinter()\n",
    "\n",
    "X_train_cols = list(X_train.columns.values)\n",
    "print \"----------------------------------\"\n",
    "pp.pprint(zip(X_train_cols, blog_mod_f.coef_[0]))\n",
    "print \"----------------------------------\"\n",
    "print \"\"\n",
    "print \"Positively associated with delay: MQ airline, Monday, Sunday, and Hours 1, 9, 13, 15, 16, 18, 19, 20, 22, 23.\"\n",
    "print \"Why would it make sense that later times are associated with flight delay?\""
   ]
  },
  {
   "cell_type": "code",
   "execution_count": 608,
   "metadata": {
    "collapsed": false
   },
   "outputs": [
    {
     "data": {
      "text/plain": [
       "[<matplotlib.lines.Line2D at 0x1122477d0>,\n",
       " <matplotlib.lines.Line2D at 0x112247a90>]"
      ]
     },
     "execution_count": 608,
     "metadata": {},
     "output_type": "execute_result"
    },
    {
     "data": {
      "image/png": "[encoded data removed]",
      "text/plain": [
       "<matplotlib.figure.Figure at 0x10fa5d490>"
      ]
     },
     "metadata": {},
     "output_type": "display_data"
    }
   ],
   "source": [
    "# Calculate AUC\n",
    "fpr, tpr, thresholds = metrics.roc_curve(y_test, blog_mod_f.predict_proba(X_test)[:,1])\n",
    "\n",
    "plt.plot(fpr, tpr,\n",
    "         fpr, fpr) # Second x,y pairs here are just to plot a line with slop 1.\n",
    "\n",
    "# This is the correct version as opposed to Lesson 7\n",
    "# metrics.roc_auc_score(y_test, model.predict(X_test))\n",
    "# Using that code, the ROC would be 0.5 which does not match the pictures"
   ]
  },
  {
   "cell_type": "code",
   "execution_count": 609,
   "metadata": {
    "collapsed": false
   },
   "outputs": [
    {
     "name": "stdout",
     "output_type": "stream",
     "text": [
      "The AUC of this model is 0.732215839189\n"
     ]
    }
   ],
   "source": [
    "# AUC for this model\n",
    "auc = metrics.roc_auc_score(y_test, blog_mod_f.predict_proba(X_test)[:,1])\n",
    "print \"The AUC of this model is\", auc"
   ]
  },
  {
   "cell_type": "code",
   "execution_count": 610,
   "metadata": {
    "collapsed": false
   },
   "outputs": [
    {
     "name": "stdout",
     "output_type": "stream",
     "text": [
      "The accuracy of the blog model on the train set is 0.839090909091\n",
      "The accuracy of the blog model on the test set is 0.83378746594\n"
     ]
    }
   ],
   "source": [
    "# score this model\n",
    "accuracy = blog_mod_f.score(X_train, y_train)\n",
    "accuracy1 = blog_mod_f.score(X_test, y_test)\n",
    "print \"The accuracy of the blog model on the train set is\", accuracy\n",
    "print \"The accuracy of the blog model on the test set is\", accuracy1"
   ]
  },
  {
   "cell_type": "code",
   "execution_count": 613,
   "metadata": {
    "collapsed": false
   },
   "outputs": [
    {
     "name": "stdout",
     "output_type": "stream",
     "text": [
      "[ 0.8115942   0.22826087  0.34782609  0.64855072  0.15272727  0.2919708\n",
      "  0.27737226  0.60218978]\n",
      "Accuracy: 0.42 (+/- 0.44)\n"
     ]
    }
   ],
   "source": [
    "# Try running cross-validation\n",
    "# Cross validation metric here is accuracy = # correct / # total \n",
    "from sklearn import cross_validation\n",
    "\n",
    "# Scores are mean accuracy \n",
    "\n",
    "model_accuracy_scores = cross_validation.cross_val_score(blog_mod_f, X_all.values, y_all.values.ravel(), cv=8)\n",
    "print model_accuracy_scores\n",
    "print(\"Accuracy: %0.2f (+/- %0.2f)\" % (model_accuracy_scores.mean(), model_accuracy_scores.std() * 2))"
   ]
  },
  {
   "cell_type": "code",
   "execution_count": 601,
   "metadata": {
    "collapsed": false
   },
   "outputs": [],
   "source": [
    "# Turn probabilities into predictions with a 0.3 threshold\n",
    "def thres(dec):\n",
    "    if dec <= 0.3:\n",
    "        return 0\n",
    "    else: \n",
    "        return 1\n",
    "    \n",
    "blog_mod_f_probs = blog_mod_f.predict_proba(X_test)[:,1]\n",
    "blog_mod_f_binary = map(thres, blog_mod_f_probs)"
   ]
  },
  {
   "cell_type": "code",
   "execution_count": 602,
   "metadata": {
    "collapsed": false
   },
   "outputs": [
    {
     "data": {
      "text/plain": [
       "array([[320,  34],\n",
       "       [ 46,  41]])"
      ]
     },
     "execution_count": 602,
     "metadata": {},
     "output_type": "execute_result"
    }
   ],
   "source": [
    "from sklearn.metrics import confusion_matrix\n",
    "\n",
    "confusion_matrix(y_test.values, blog_mod_f_binary)"
   ]
  },
  {
   "cell_type": "code",
   "execution_count": 603,
   "metadata": {
    "collapsed": false
   },
   "outputs": [
    {
     "name": "stdout",
     "output_type": "stream",
     "text": [
      "Use these numbers to see the rows are actuals. 1st row: actual on time. 2nd row actual delayed. diagnoals are correct predictions.\n",
      "count    441.000000\n",
      "mean       0.197279\n",
      "std        0.398397\n",
      "min        0.000000\n",
      "25%        0.000000\n",
      "50%        0.000000\n",
      "75%        0.000000\n",
      "max        1.000000\n",
      "Name: Flight_Status, dtype: float64\n",
      "85.744512 355.255488\n"
     ]
    }
   ],
   "source": [
    "print \"Use these numbers to see the rows are actuals. 1st row: actual on time. 2nd row actual delayed. diagnoals are correct predictions.\"\n",
    "print y_test[\"Flight_Status\"].describe()\n",
    "print 441*.194432, 441-441*.194432"
   ]
  },
  {
   "cell_type": "markdown",
   "metadata": {},
   "source": [
    "A few things about the blog model: \n",
    "- Having too many coefficients to estimate with not a whole lot of data (Some of those hours had very few flight departures) is a bad idea because the model might not estimate them or it might not converge. You can see how high some of those standard errors are from the blog post in his model output: http://dataillumination.blogspot.hk/2015/03/predicting-flights-delay-using.html\n",
    "- Also with fitting each hour as a separate category, you lose the ability to see the effect of time over the whole day, i.e. the ordered and ordinal relationship of the data.\n",
    "- Model AUC was around 0.65- 0.75, depending on train and test split. In this specific run it was 0.71.\n",
    "- Performed well on the test set (0.82) but overall low accuracy on cross validation (0.42). Why such a large difference?\n",
    "- Some interepretations make sense for coefficients.\n",
    "- Useful model despite some pitfalls.\n",
    "\n",
    "# Now fit a different model\n"
   ]
  },
  {
   "cell_type": "code",
   "execution_count": 485,
   "metadata": {
    "collapsed": false
   },
   "outputs": [
    {
     "name": "stdout",
     "output_type": "stream",
     "text": [
      "(2201, 1) (2201, 19)\n"
     ]
    }
   ],
   "source": [
    "# Use Patsy to get the variables for the model\n",
    "# For both datasets\n",
    "# We have to first create dummy variables\n",
    "# Then split into test/train to make sure we have the same categories in both\n",
    "# So unfortunately, when we compare to another model with diff vars, test set will\n",
    "# be different\n",
    "#dept_hours\n",
    "#DEP_TIME_cont\n",
    "\n",
    "form2 = 'Flight_Status ~ CARRIER+DEST+ORIGIN+DAY_of_WEEK+DEP_TIME_cont'\n",
    "y_all2, X_all2 = patsy.dmatrices(form2, flights, return_type='dataframe')\n",
    "\n",
    "print y_all2.shape, X_all2.shape"
   ]
  },
  {
   "cell_type": "code",
   "execution_count": 497,
   "metadata": {
    "collapsed": false
   },
   "outputs": [
    {
     "name": "stdout",
     "output_type": "stream",
     "text": [
      "(441, 1) (441, 19)\n",
      "(1760, 1) (1760, 19)\n"
     ]
    }
   ],
   "source": [
    "# Test and train split\n",
    "# Note this is a different test and train set, unfortunately.\n",
    "X_train2, X_test2, y_train2, y_test2 = cross_validation.train_test_split(X_all2, y_all2, train_size=0.80)\n",
    "\n",
    "print y_test2.shape, X_test2.shape\n",
    "print y_train2.shape, X_train2.shape"
   ]
  },
  {
   "cell_type": "code",
   "execution_count": 498,
   "metadata": {
    "collapsed": false
   },
   "outputs": [
    {
     "name": "stdout",
     "output_type": "stream",
     "text": [
      "Optimization terminated successfully.\n",
      "         Current function value: 0.443559\n",
      "         Iterations 7\n"
     ]
    },
    {
     "data": {
      "text/html": [
       "<table class=\"simpletable\">\n",
       "<caption>Logit Regression Results</caption>\n",
       "<tr>\n",
       "  <th>Dep. Variable:</th>   <td>Flight_Status</td>  <th>  No. Observations:  </th>  <td>  1760</td>  \n",
       "</tr>\n",
       "<tr>\n",
       "  <th>Model:</th>               <td>Logit</td>      <th>  Df Residuals:      </th>  <td>  1741</td>  \n",
       "</tr>\n",
       "<tr>\n",
       "  <th>Method:</th>               <td>MLE</td>       <th>  Df Model:          </th>  <td>    18</td>  \n",
       "</tr>\n",
       "<tr>\n",
       "  <th>Date:</th>          <td>Mon, 08 Feb 2016</td> <th>  Pseudo R-squ.:     </th>  <td>0.08713</td> \n",
       "</tr>\n",
       "<tr>\n",
       "  <th>Time:</th>              <td>02:27:33</td>     <th>  Log-Likelihood:    </th> <td> -780.66</td> \n",
       "</tr>\n",
       "<tr>\n",
       "  <th>converged:</th>           <td>True</td>       <th>  LL-Null:           </th> <td> -855.17</td> \n",
       "</tr>\n",
       "<tr>\n",
       "  <th> </th>                      <td> </td>        <th>  LLR p-value:       </th> <td>1.154e-22</td>\n",
       "</tr>\n",
       "</table>\n",
       "<table class=\"simpletable\">\n",
       "<tr>\n",
       "              <td></td>                <th>coef</th>     <th>std err</th>      <th>z</th>      <th>P>|z|</th> <th>[95.0% Conf. Int.]</th> \n",
       "</tr>\n",
       "<tr>\n",
       "  <th>Intercept</th>                <td>   -1.6222</td> <td>    0.480</td> <td>   -3.383</td> <td> 0.001</td> <td>   -2.562    -0.682</td>\n",
       "</tr>\n",
       "<tr>\n",
       "  <th>CARRIER[T.DH]</th>            <td>   -0.6760</td> <td>    0.447</td> <td>   -1.511</td> <td> 0.131</td> <td>   -1.553     0.201</td>\n",
       "</tr>\n",
       "<tr>\n",
       "  <th>CARRIER[T.DL]</th>            <td>   -0.9743</td> <td>    0.415</td> <td>   -2.349</td> <td> 0.019</td> <td>   -1.787    -0.161</td>\n",
       "</tr>\n",
       "<tr>\n",
       "  <th>CARRIER[T.MQ]</th>            <td>   -0.0778</td> <td>    0.404</td> <td>   -0.193</td> <td> 0.847</td> <td>   -0.869     0.714</td>\n",
       "</tr>\n",
       "<tr>\n",
       "  <th>CARRIER[T.OH]</th>            <td>   -1.6163</td> <td>    0.804</td> <td>   -2.011</td> <td> 0.044</td> <td>   -3.192    -0.041</td>\n",
       "</tr>\n",
       "<tr>\n",
       "  <th>CARRIER[T.RU]</th>            <td>   -0.6191</td> <td>    0.346</td> <td>   -1.789</td> <td> 0.074</td> <td>   -1.297     0.059</td>\n",
       "</tr>\n",
       "<tr>\n",
       "  <th>CARRIER[T.UA]</th>            <td>   -1.4218</td> <td>    0.894</td> <td>   -1.591</td> <td> 0.112</td> <td>   -3.173     0.330</td>\n",
       "</tr>\n",
       "<tr>\n",
       "  <th>CARRIER[T.US]</th>            <td>   -1.5826</td> <td>    0.437</td> <td>   -3.625</td> <td> 0.000</td> <td>   -2.438    -0.727</td>\n",
       "</tr>\n",
       "<tr>\n",
       "  <th>DEST[T.JFK]</th>              <td>   -0.2391</td> <td>    0.269</td> <td>   -0.889</td> <td> 0.374</td> <td>   -0.766     0.288</td>\n",
       "</tr>\n",
       "<tr>\n",
       "  <th>DEST[T.LGA]</th>              <td>    0.0010</td> <td>    0.278</td> <td>    0.004</td> <td> 0.997</td> <td>   -0.543     0.545</td>\n",
       "</tr>\n",
       "<tr>\n",
       "  <th>ORIGIN[T.DCA]</th>            <td>   -0.6977</td> <td>    0.327</td> <td>   -2.137</td> <td> 0.033</td> <td>   -1.338    -0.058</td>\n",
       "</tr>\n",
       "<tr>\n",
       "  <th>ORIGIN[T.IAD]</th>            <td>   -0.2921</td> <td>    0.322</td> <td>   -0.907</td> <td> 0.364</td> <td>   -0.923     0.339</td>\n",
       "</tr>\n",
       "<tr>\n",
       "  <th>DAY_of_WEEK[T.Monday]</th>    <td>    0.7123</td> <td>    0.214</td> <td>    3.334</td> <td> 0.001</td> <td>    0.294     1.131</td>\n",
       "</tr>\n",
       "<tr>\n",
       "  <th>DAY_of_WEEK[T.Saturday]</th>  <td>   -0.7744</td> <td>    0.289</td> <td>   -2.675</td> <td> 0.007</td> <td>   -1.342    -0.207</td>\n",
       "</tr>\n",
       "<tr>\n",
       "  <th>DAY_of_WEEK[T.Sunday]</th>    <td>    0.3824</td> <td>    0.231</td> <td>    1.655</td> <td> 0.098</td> <td>   -0.070     0.835</td>\n",
       "</tr>\n",
       "<tr>\n",
       "  <th>DAY_of_WEEK[T.Thursday]</th>  <td>   -0.3176</td> <td>    0.227</td> <td>   -1.397</td> <td> 0.163</td> <td>   -0.763     0.128</td>\n",
       "</tr>\n",
       "<tr>\n",
       "  <th>DAY_of_WEEK[T.Tuesday]</th>   <td>    0.2232</td> <td>    0.221</td> <td>    1.009</td> <td> 0.313</td> <td>   -0.210     0.657</td>\n",
       "</tr>\n",
       "<tr>\n",
       "  <th>DAY_of_WEEK[T.Wednesday]</th> <td>    0.0101</td> <td>    0.228</td> <td>    0.044</td> <td> 0.965</td> <td>   -0.437     0.457</td>\n",
       "</tr>\n",
       "<tr>\n",
       "  <th>DEP_TIME_cont</th>            <td>    0.0990</td> <td>    0.015</td> <td>    6.434</td> <td> 0.000</td> <td>    0.069     0.129</td>\n",
       "</tr>\n",
       "</table>"
      ],
      "text/plain": [
       "<class 'statsmodels.iolib.summary.Summary'>\n",
       "\"\"\"\n",
       "                           Logit Regression Results                           \n",
       "==============================================================================\n",
       "Dep. Variable:          Flight_Status   No. Observations:                 1760\n",
       "Model:                          Logit   Df Residuals:                     1741\n",
       "Method:                           MLE   Df Model:                           18\n",
       "Date:                Mon, 08 Feb 2016   Pseudo R-squ.:                 0.08713\n",
       "Time:                        02:27:33   Log-Likelihood:                -780.66\n",
       "converged:                       True   LL-Null:                       -855.17\n",
       "                                        LLR p-value:                 1.154e-22\n",
       "============================================================================================\n",
       "                               coef    std err          z      P>|z|      [95.0% Conf. Int.]\n",
       "--------------------------------------------------------------------------------------------\n",
       "Intercept                   -1.6222      0.480     -3.383      0.001        -2.562    -0.682\n",
       "CARRIER[T.DH]               -0.6760      0.447     -1.511      0.131        -1.553     0.201\n",
       "CARRIER[T.DL]               -0.9743      0.415     -2.349      0.019        -1.787    -0.161\n",
       "CARRIER[T.MQ]               -0.0778      0.404     -0.193      0.847        -0.869     0.714\n",
       "CARRIER[T.OH]               -1.6163      0.804     -2.011      0.044        -3.192    -0.041\n",
       "CARRIER[T.RU]               -0.6191      0.346     -1.789      0.074        -1.297     0.059\n",
       "CARRIER[T.UA]               -1.4218      0.894     -1.591      0.112        -3.173     0.330\n",
       "CARRIER[T.US]               -1.5826      0.437     -3.625      0.000        -2.438    -0.727\n",
       "DEST[T.JFK]                 -0.2391      0.269     -0.889      0.374        -0.766     0.288\n",
       "DEST[T.LGA]                  0.0010      0.278      0.004      0.997        -0.543     0.545\n",
       "ORIGIN[T.DCA]               -0.6977      0.327     -2.137      0.033        -1.338    -0.058\n",
       "ORIGIN[T.IAD]               -0.2921      0.322     -0.907      0.364        -0.923     0.339\n",
       "DAY_of_WEEK[T.Monday]        0.7123      0.214      3.334      0.001         0.294     1.131\n",
       "DAY_of_WEEK[T.Saturday]     -0.7744      0.289     -2.675      0.007        -1.342    -0.207\n",
       "DAY_of_WEEK[T.Sunday]        0.3824      0.231      1.655      0.098        -0.070     0.835\n",
       "DAY_of_WEEK[T.Thursday]     -0.3176      0.227     -1.397      0.163        -0.763     0.128\n",
       "DAY_of_WEEK[T.Tuesday]       0.2232      0.221      1.009      0.313        -0.210     0.657\n",
       "DAY_of_WEEK[T.Wednesday]     0.0101      0.228      0.044      0.965        -0.437     0.457\n",
       "DEP_TIME_cont                0.0990      0.015      6.434      0.000         0.069     0.129\n",
       "============================================================================================\n",
       "\"\"\""
      ]
     },
     "execution_count": 498,
     "metadata": {},
     "output_type": "execute_result"
    }
   ],
   "source": [
    "# Train a model using statsmodel\n",
    "# Doesn't converge so not sure if we should trust these coeffs\n",
    "# I think this does or doesn't converge depending on training set\n",
    "\n",
    "flights_mod = sm.Logit(y_train2,X_train2)\n",
    "results2 = flights_mod.fit()\n",
    "results2.summary()"
   ]
  },
  {
   "cell_type": "markdown",
   "metadata": {},
   "source": [
    "Looking at these results, we can say: \n",
    "- Departure time is significantly affecting probability of delay. As time increase, the probability of delay increases.\n",
    "- Departing on Sat and Monday significantly increase the probability of delay.\n",
    "- Flying into LGA significantly increase the probability of delay.\n",
    "- We didn't include weather because there aren't that many bad weather observations and so sometimes the model wouldn't converge."
   ]
  },
  {
   "cell_type": "code",
   "execution_count": 508,
   "metadata": {
    "collapsed": false
   },
   "outputs": [
    {
     "data": {
      "text/plain": [
       "array([[ 1127.,   299.],\n",
       "       [  162.,   172.]])"
      ]
     },
     "execution_count": 508,
     "metadata": {},
     "output_type": "execute_result"
    }
   ],
   "source": [
    "# Confusion matrix for training set\n",
    "results2.pred_table(threshold=0.25)"
   ]
  },
  {
   "cell_type": "code",
   "execution_count": 509,
   "metadata": {
    "collapsed": false
   },
   "outputs": [
    {
     "name": "stdout",
     "output_type": "stream",
     "text": [
      "(1760, 19)\n"
     ]
    },
    {
     "data": {
      "text/plain": [
       "LogisticRegression(C=1.0, class_weight=None, dual=False, fit_intercept=True,\n",
       "          intercept_scaling=1, max_iter=100, multi_class='ovr',\n",
       "          penalty='l2', random_state=None, solver='liblinear', tol=0.0001,\n",
       "          verbose=0)"
      ]
     },
     "execution_count": 509,
     "metadata": {},
     "output_type": "execute_result"
    }
   ],
   "source": [
    "# Use scikit learn to implement \n",
    "X_train3 = X_train2.values\n",
    "y_train3 = y_train2.values.ravel()\n",
    "\n",
    "print X_train2.shape\n",
    "flight_mod2 = linear_model.LogisticRegression()\n",
    "flight_mod2.fit(X_train3, y_train3)"
   ]
  },
  {
   "cell_type": "code",
   "execution_count": 510,
   "metadata": {
    "collapsed": false
   },
   "outputs": [
    {
     "name": "stdout",
     "output_type": "stream",
     "text": [
      "----------------------------------\n",
      "[('Intercept', -0.94275162171252513),\n",
      " ('CARRIER[T.DH]', -0.26386563705440064),\n",
      " ('CARRIER[T.DL]', -0.58572322568801272),\n",
      " ('CARRIER[T.MQ]', 0.27608011379397518),\n",
      " ('CARRIER[T.OH]', -0.84413855079953404),\n",
      " ('CARRIER[T.RU]', -0.34654937745554787),\n",
      " ('CARRIER[T.UA]', -0.63991467099122257),\n",
      " ('CARRIER[T.US]', -1.1583905601253808),\n",
      " ('DEST[T.JFK]', -0.38681862999935918),\n",
      " ('DEST[T.LGA]', -0.18175821363373629),\n",
      " ('ORIGIN[T.DCA]', -0.56631794908427968),\n",
      " ('ORIGIN[T.IAD]', -0.27001043061037394),\n",
      " ('DAY_of_WEEK[T.Monday]', 0.66332655859410683),\n",
      " ('DAY_of_WEEK[T.Saturday]', -0.765088657113562),\n",
      " ('DAY_of_WEEK[T.Sunday]', 0.34750136493716033),\n",
      " ('DAY_of_WEEK[T.Thursday]', -0.33110026233304812),\n",
      " ('DAY_of_WEEK[T.Tuesday]', 0.19222523334446079),\n",
      " ('DAY_of_WEEK[T.Wednesday]', -0.015469635333160035),\n",
      " ('DEP_TIME_cont', 0.096620998719989387)]\n",
      "----------------------------------\n",
      "\n"
     ]
    }
   ],
   "source": [
    "# from Pat K\n",
    "import pprint\n",
    "pp = pprint.PrettyPrinter()\n",
    "\n",
    "X_train_cols2 = list(X_train2.columns.values)\n",
    "print \"----------------------------------\"\n",
    "pp.pprint(zip(X_train_cols2, flight_mod2.coef_[0]))\n",
    "print \"----------------------------------\"\n",
    "print \"\""
   ]
  },
  {
   "cell_type": "code",
   "execution_count": 511,
   "metadata": {
    "collapsed": false
   },
   "outputs": [
    {
     "data": {
      "text/plain": [
       "[<matplotlib.lines.Line2D at 0x110baccd0>,\n",
       " <matplotlib.lines.Line2D at 0x110bacf90>]"
      ]
     },
     "execution_count": 511,
     "metadata": {},
     "output_type": "execute_result"
    },
    {
     "data": {
      "image/png": "[encoded data removed]",
      "text/plain": [
       "<matplotlib.figure.Figure at 0x110876310>"
      ]
     },
     "metadata": {},
     "output_type": "display_data"
    }
   ],
   "source": [
    "# Calculate AUC\n",
    "fpr2, tpr2, thresholds2 = metrics.roc_curve(y_test2, flight_mod2.predict_proba(X_test2)[:,1])\n",
    "\n",
    "plt.plot(fpr2, tpr2,\n",
    "         fpr2, fpr2) # Second x,y pairs here are just to plot a line with slop 1.\n",
    "\n",
    "# This is the correct version as opposed to Lesson 7\n",
    "# metrics.roc_auc_score(y_test, model.predict(X_test))\n",
    "# Using that code, the ROC would be 0.5 which does not match the pictures"
   ]
  },
  {
   "cell_type": "code",
   "execution_count": 512,
   "metadata": {
    "collapsed": false
   },
   "outputs": [
    {
     "name": "stdout",
     "output_type": "stream",
     "text": [
      "The AUC of this model is 0.709638849715\n"
     ]
    }
   ],
   "source": [
    "# AUC for this model\n",
    "auc2 = metrics.roc_auc_score(y_test2, flight_mod2.predict_proba(X_test2)[:,1])\n",
    "print \"The AUC of this model is\", auc2"
   ]
  },
  {
   "cell_type": "code",
   "execution_count": 513,
   "metadata": {
    "collapsed": false
   },
   "outputs": [
    {
     "name": "stdout",
     "output_type": "stream",
     "text": [
      "The accuracy of the blog model on the train set is 0.813068181818\n",
      "The accuracy of the blog model on the test set is 0.791383219955\n"
     ]
    }
   ],
   "source": [
    "# score this model\n",
    "accuracy_train = flight_mod2.score(X_train2, y_train2)\n",
    "accuracy_test = flight_mod2.score(X_test2, y_test2)\n",
    "print \"The accuracy of the blog model on the train set is\", accuracy_train\n",
    "print \"The accuracy of the blog model on the test set is\", accuracy_test"
   ]
  },
  {
   "cell_type": "code",
   "execution_count": 514,
   "metadata": {
    "collapsed": false
   },
   "outputs": [
    {
     "name": "stdout",
     "output_type": "stream",
     "text": [
      "[ 0.80434783  0.80434783  0.80434783  0.80434783  0.80727273  0.80656934\n",
      "  0.82116788  0.77372263]\n",
      "Accuracy: 0.80 (+/- 0.02)\n"
     ]
    }
   ],
   "source": [
    "# Try running cross-validation\n",
    "# Cross validation metric here is accuracy = # correct / # total \n",
    "# Scores are mean accuracy \n",
    "\n",
    "model_accuracy_scores2 = cross_validation.cross_val_score(flight_mod2, X_all2.values, y_all2.values.ravel(), cv=8)\n",
    "print model_accuracy_scores2\n",
    "print(\"Accuracy: %0.2f (+/- %0.2f)\" % (model_accuracy_scores2.mean(), model_accuracy_scores2.std() * 2))"
   ]
  },
  {
   "cell_type": "code",
   "execution_count": 515,
   "metadata": {
    "collapsed": false
   },
   "outputs": [],
   "source": [
    "# Turn probabilities into predictions with a 0.3 threshold\n",
    "def thres(dec):\n",
    "    if dec <= 0.3:\n",
    "        return 0\n",
    "    else: \n",
    "        return 1\n",
    "    \n",
    "flight_mod2_probs = flight_mod2.predict_proba(X_test2)[:,1]\n",
    "flight_mod2_binary = map(thres, flight_mod2_probs)"
   ]
  },
  {
   "cell_type": "code",
   "execution_count": 516,
   "metadata": {
    "collapsed": false
   },
   "outputs": [
    {
     "data": {
      "text/plain": [
       "array([[302,  45],\n",
       "       [ 46,  48]])"
      ]
     },
     "execution_count": 516,
     "metadata": {},
     "output_type": "execute_result"
    }
   ],
   "source": [
    "confusion_matrix(y_test2.values, flight_mod2_binary)"
   ]
  },
  {
   "cell_type": "markdown",
   "metadata": {},
   "source": [
    "Compare with previous model: \n",
    "array([[340,  49],\n",
    "       [ 59,  37]])"
   ]
  },
  {
   "cell_type": "markdown",
   "metadata": {},
   "source": [
    "Overall, flight_mod2 and blog_mod_f have a similar performance on the test set of ~.80 accuacy and of ~.70. However, we did see differences in k-fold cross validation. The blog model had accuracy of 0.42 while the second model had accuracy of 0.80. Perhaps the first model doesn't train well on smaller datasets because of the number of coefficients it needs to predict."
   ]
  },
  {
   "cell_type": "code",
   "execution_count": null,
   "metadata": {
    "collapsed": true
   },
   "outputs": [],
   "source": []
  }
 ],
 "metadata": {
  "kernelspec": {
   "display_name": "Python 2",
   "language": "python",
   "name": "python2"
  },
  "language_info": {
   "codemirror_mode": {
    "name": "ipython",
    "version": 2
   },
   "file_extension": ".py",
   "mimetype": "text/x-python",
   "name": "python",
   "nbconvert_exporter": "python",
   "pygments_lexer": "ipython2",
   "version": "2.7.11"
  }
 },
 "nbformat": 4,
 "nbformat_minor": 0
}
