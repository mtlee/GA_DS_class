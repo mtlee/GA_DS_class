{
 "cells": [
  {
   "cell_type": "markdown",
   "metadata": {},
   "source": [
    "HW 1 Solutions"
   ]
  },
  {
   "cell_type": "markdown",
   "metadata": {},
   "source": [
    "Complete the NFL Ticket Price Analysis described at the end of the Lesson 1 Notebook."
   ]
  },
  {
   "cell_type": "code",
   "execution_count": null,
   "metadata": {
    "collapsed": true
   },
   "outputs": [],
   "source": [
    "%matplotlib inline\n",
    "import csv\n",
    "import requests\n",
    "import numpy as np\n",
    "import pandas as pd\n",
    "from random import randint\n",
    "from __future__ import division"
   ]
  },
  {
   "cell_type": "code",
   "execution_count": null,
   "metadata": {
    "collapsed": false
   },
   "outputs": [],
   "source": [
    "r = requests.get('https://raw.githubusercontent.com/fivethirtyeight/data/master/nfl-ticket-prices/2014-average-ticket-price.csv')\n",
    "data = [row for row in csv.reader(r.iter_lines())]"
   ]
  },
  {
   "cell_type": "code",
   "execution_count": null,
   "metadata": {
    "collapsed": false
   },
   "outputs": [],
   "source": [
    "# Prune out unneeded rows. \n",
    "data = data[1:97]"
   ]
  },
  {
   "cell_type": "code",
   "execution_count": null,
   "metadata": {
    "collapsed": false
   },
   "outputs": [],
   "source": [
    "data[0]"
   ]
  },
  {
   "cell_type": "code",
   "execution_count": null,
   "metadata": {
    "collapsed": false
   },
   "outputs": [],
   "source": [
    "# Function to transform the game string into a list of home and away teams\n",
    "def get_team_names(game_string):\n",
    "    return game_string[:game_string.find(\"Tickets\")].split(\" at \") \n"
   ]
  },
  {
   "cell_type": "code",
   "execution_count": null,
   "metadata": {
    "collapsed": false
   },
   "outputs": [],
   "source": [
    "# List like: [[home team, away team, ticket price]\n",
    "games_list = [get_team_names(r[0]) + [int(r[2])] for r in data]\n",
    "print games_list[0]\n",
    "print len(games_list)"
   ]
  },
  {
   "cell_type": "code",
   "execution_count": null,
   "metadata": {
    "collapsed": false
   },
   "outputs": [],
   "source": [
    "# str.strip() removes extra whitespace\n",
    "games_dicts = [{\"away\": r[0].strip(), \n",
    "               \"home\": r[1].strip(),\n",
    "               \"price\": r[2]} for r in games_list]"
   ]
  },
  {
   "cell_type": "code",
   "execution_count": null,
   "metadata": {
    "collapsed": false
   },
   "outputs": [],
   "source": [
    "games_dicts[0]"
   ]
  },
  {
   "cell_type": "code",
   "execution_count": null,
   "metadata": {
    "collapsed": false
   },
   "outputs": [],
   "source": [
    "df = pd.DataFrame(games_dicts)"
   ]
  },
  {
   "cell_type": "code",
   "execution_count": null,
   "metadata": {
    "collapsed": false
   },
   "outputs": [],
   "source": [
    "df.head()"
   ]
  },
  {
   "cell_type": "code",
   "execution_count": null,
   "metadata": {
    "collapsed": false
   },
   "outputs": [],
   "source": [
    "df['price'].describe()"
   ]
  },
  {
   "cell_type": "code",
   "execution_count": null,
   "metadata": {
    "collapsed": false
   },
   "outputs": [],
   "source": [
    "# Here's the tricky part. See: http://stackoverflow.com/questions/17071871/select-rows-from-a-dataframe-based-on-values-in-a-column-in-pandas\n",
    "ravens_home_df = df.loc[df['home']==\"Baltimore Ravens\"]\n",
    "ravens_home_df.head()"
   ]
  },
  {
   "cell_type": "code",
   "execution_count": null,
   "metadata": {
    "collapsed": false
   },
   "outputs": [],
   "source": [
    "ravens_away_df = df.loc[df['away']==\"Baltimore Ravens\"]\n",
    "ravens_away_df.head()"
   ]
  },
  {
   "cell_type": "code",
   "execution_count": null,
   "metadata": {
    "collapsed": false
   },
   "outputs": [],
   "source": [
    "ravens_home_df.describe()"
   ]
  },
  {
   "cell_type": "code",
   "execution_count": null,
   "metadata": {
    "collapsed": false
   },
   "outputs": [],
   "source": [
    "ravens_away_df.describe()"
   ]
  },
  {
   "cell_type": "markdown",
   "metadata": {},
   "source": [
    "The average cost of a Ravens home game was \\$157 and the average cost of a Ravens away game was \\$122. The average cost of a NFL ticket in this dataset was \\$135."
   ]
  },
  {
   "cell_type": "markdown",
   "metadata": {},
   "source": [
    "---"
   ]
  },
  {
   "cell_type": "markdown",
   "metadata": {},
   "source": [
    "Complete the Coin Flip and Die-rolling simulations."
   ]
  },
  {
   "cell_type": "code",
   "execution_count": null,
   "metadata": {
    "collapsed": true
   },
   "outputs": [],
   "source": [
    "def flip_coin():\n",
    "    return randint(0,1)\n",
    "    "
   ]
  },
  {
   "cell_type": "code",
   "execution_count": null,
   "metadata": {
    "collapsed": false
   },
   "outputs": [],
   "source": [
    "def flip_n_coins(n):\n",
    "    tosses = [flip_coin() for x in range(n)]\n",
    "    return {\"heads\": sum(tosses),\n",
    "            \"tails\": len(tosses) - sum(tosses)}"
   ]
  },
  {
   "cell_type": "code",
   "execution_count": null,
   "metadata": {
    "collapsed": false
   },
   "outputs": [],
   "source": [
    "flip_n_coins(10)"
   ]
  },
  {
   "cell_type": "code",
   "execution_count": null,
   "metadata": {
    "collapsed": false
   },
   "outputs": [],
   "source": [
    "number_of_trials = 10000\n",
    "trials = [flip_n_coins(4) for trial in range(number_of_trials)]\n",
    "trials_df = pd.DataFrame(trials)\n",
    "trials_df.head()"
   ]
  },
  {
   "cell_type": "code",
   "execution_count": null,
   "metadata": {
    "collapsed": false
   },
   "outputs": [],
   "source": [
    "trials_df.hist()"
   ]
  },
  {
   "cell_type": "code",
   "execution_count": null,
   "metadata": {
    "collapsed": false
   },
   "outputs": [],
   "source": [
    "grped_df = trials_df.groupby('heads').agg(np.size).reset_index().rename(columns={\"heads\": \"heads_count\", \"tails\": \"occurances\"})\n",
    "grped_df"
   ]
  },
  {
   "cell_type": "code",
   "execution_count": null,
   "metadata": {
    "collapsed": false
   },
   "outputs": [],
   "source": [
    "# probability of getting exactly 3 heads\n",
    "grped_df['occurances'].loc[3]/number_of_trials"
   ]
  },
  {
   "cell_type": "markdown",
   "metadata": {},
   "source": [
    "---"
   ]
  },
  {
   "cell_type": "markdown",
   "metadata": {},
   "source": [
    "Complete the Matrix Addition and Multiplication Lab "
   ]
  },
  {
   "cell_type": "code",
   "execution_count": null,
   "metadata": {
    "collapsed": true
   },
   "outputs": [],
   "source": [
    "def matrix_vector_mult1(m, v):\n",
    "    \"\"\"\n",
    "    basic function to multiply matrix with a vector\n",
    "    prints each step for inspection.\n",
    "    @param list m     matrix of m*n items\n",
    "    @param list v     vector of n items\n",
    "    \"\"\"\n",
    "    rows = len(m)\n",
    "    w = [0]*rows\n",
    "    print 'Result Vector Shape', w\n",
    "    irange = range(len(v))\n",
    "    print 'Irange,', irange\n",
    "    sum = 0\n",
    "    for j in range(rows):\n",
    "        print 'iteration j ', j\n",
    "        r = m[j]\n",
    "        print 'row, ', r\n",
    "        for i in irange:\n",
    "            prod = r[i]*v[i]\n",
    "            print r[i], '*', v[i], '=', prod\n",
    "            sum += prod\n",
    "        w[j],sum = sum,0\n",
    "    return w"
   ]
  },
  {
   "cell_type": "code",
   "execution_count": null,
   "metadata": {
    "collapsed": true
   },
   "outputs": [],
   "source": [
    "def dot(x, y):\n",
    "    \"\"\"\n",
    "    dot product of a matrix row and a vector\n",
    "    checks for equal length\n",
    "    @param list x     matrix row n items\n",
    "    @param list y     vector of n items\n",
    "    \"\"\"\n",
    "    assert len(x) == len(y)\n",
    "    return sum(itertools.starmap(operator.mul, itertools.izip(x, y)))"
   ]
  },
  {
   "cell_type": "code",
   "execution_count": null,
   "metadata": {
    "collapsed": true
   },
   "outputs": [],
   "source": [
    "def matrix_vector_mult2(m, v):\n",
    "    \"\"\"\n",
    "    advanced function to multiply a matrix with a vector\n",
    "    @param list m     matrix of m*n items\n",
    "    @param list v     vector of n items\n",
    "    \"\"\"\n",
    "    return [dot(row, v) for row in m]"
   ]
  },
  {
   "cell_type": "code",
   "execution_count": null,
   "metadata": {
    "collapsed": true
   },
   "outputs": [],
   "source": [
    "def matrix_mult1(a, b):\n",
    "    \"\"\"\n",
    "    basic function to multiply two matrices\n",
    "    @param list a     matrix of i*k items\n",
    "    @param list b     matrix of k*j items\n",
    "    \"\"\"\n",
    "    rows_a, cols_a = len(a), len(a[0])\n",
    "    rows_b, cols_b = len(b), len(b[0])\n",
    "\n",
    "    assert cols_a == rows_b\n",
    "\n",
    "    # create the result matrix\n",
    "    # Dimensions would be rows_a x cols_b\n",
    "    c = [[0 for row in range(cols_b)] for col in range(rows_a)]\n",
    "\n",
    "    for i in range(rows_a):\n",
    "        for j in range(cols_b):\n",
    "            for k in range(cols_a):\n",
    "                c[i][j] += a[i][k]*b[k][j]\n",
    "    return c"
   ]
  },
  {
   "cell_type": "code",
   "execution_count": null,
   "metadata": {
    "collapsed": true
   },
   "outputs": [],
   "source": [
    "def matrix_mult2(a,b):\n",
    "    \"\"\"\n",
    "    advanced function to multiply two matrices\n",
    "    @param list a     matrix of i*k items\n",
    "    @param list b     matrix of k*j items\n",
    "    \"\"\"\n",
    "    zip_b = zip(*b)\n",
    "    return [[sum(ele_a*ele_b for ele_a, ele_b in zip(row_a, col_b)) for col_b in zip_b] for row_a in a]"
   ]
  },
  {
   "cell_type": "code",
   "execution_count": null,
   "metadata": {
    "collapsed": true
   },
   "outputs": [],
   "source": [
    "def transpose_matrix1(matrix):\n",
    "    \"\"\"\n",
    "    verbose function to transpose matrix\n",
    "    @param list matrix     matrix to be transposed\n",
    "    \"\"\"\n",
    "    return [[row[i] for row in matrix] for i in range(len(matrix[0]))]"
   ]
  },
  {
   "cell_type": "code",
   "execution_count": null,
   "metadata": {
    "collapsed": true
   },
   "outputs": [],
   "source": [
    "def transpose_matrix2(matrix):\n",
    "    \"\"\"\n",
    "    concise function to transpose matrix\n",
    "    @param list matrix     matrix to be transposed\n",
    "    \"\"\"\n",
    "    return zip(*matrix)"
   ]
  },
  {
   "cell_type": "code",
   "execution_count": null,
   "metadata": {
    "collapsed": true
   },
   "outputs": [],
   "source": [
    "def i_matrix(size):\n",
    "    \"\"\"\n",
    "    @param int size     size of the matrix to generate\n",
    "    \"\"\"\n",
    "    size = range(size)\n",
    "    return [[ 1 if  x == y else 0 for x in size] for y in size]"
   ]
  },
  {
   "cell_type": "code",
   "execution_count": null,
   "metadata": {
    "collapsed": true
   },
   "outputs": [],
   "source": [
    "def is_identity_matrix(matrix):\n",
    "    \"\"\"\n",
    "    @param list matrix     matrix to be checked for identity\n",
    "    \"\"\"\n",
    "    return all(val == (x == y)\n",
    "        for y, row in enumerate(matrix)\n",
    "            for x, val in enumerate(row))"
   ]
  },
  {
   "cell_type": "code",
   "execution_count": null,
   "metadata": {
    "collapsed": true
   },
   "outputs": [],
   "source": [
    "# Commented version of the Matrix * Vector Multiplication\n",
    "\n",
    "def matrix_vector_mult3(m, v):\n",
    "    # Count the number of rows in the matrix     \n",
    "    rows = len(m)\n",
    "    # Prepare a vector to store the results, it will be the same length as the matrix has rows.\n",
    "    result = [0]*rows\n",
    "    # Count the number of colums in the matrix, it's the same as the length of the vector\n",
    "    cols = len(v)\n",
    "    # Matrix multiplication is about summing the item-by-item results of a matrix-row and vector multiplication\n",
    "    # So initialise the counter to 0     \n",
    "    sum = 0\n",
    "    # Now comes the iteration logic. We multiple row for row with the vector, so we first iterate through the matrix' rows\n",
    "    for row in range(rows):\n",
    "        # 'row' isn't actually the row, but merely refers to the position of the row, so let's save the actual row.         \n",
    "        r = m[row]\n",
    "        # The second step of the iteration logic is to loop through all the items in both the matrix' row and the vector,\n",
    "        # and to multiple them\n",
    "        for col in range(cols):\n",
    "            # with each iteration, the result of m[row][col] and v[col] is added to the sum\n",
    "            # the sum is 'complete' when all items are iterated through.             \n",
    "            sum = sum + r[col] * v[col]\n",
    "        # Now we drop back to the outer loop, and store the result of the inner loop, that is the 'sum' into the right \n",
    "        # position in the result vector. The sum is reset to 0 and the next iteration of the outer loop is ready to begin.\n",
    "        # If this is still cryptic, read up on multiple assignment in python.\n",
    "        result[row], sum = sum, 0\n",
    "    # Now that also the outer loop is finished, we can return the full result.\n",
    "    return result"
   ]
  }
 ],
 "metadata": {
  "kernelspec": {
   "display_name": "Python 2",
   "language": "python",
   "name": "python2"
  },
  "language_info": {
   "codemirror_mode": {
    "name": "ipython",
    "version": 2
   },
   "file_extension": ".py",
   "mimetype": "text/x-python",
   "name": "python",
   "nbconvert_exporter": "python",
   "pygments_lexer": "ipython2",
   "version": "2.7.10"
  }
 },
 "nbformat": 4,
 "nbformat_minor": 0
}
