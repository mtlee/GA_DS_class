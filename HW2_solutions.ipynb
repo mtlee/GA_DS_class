{
 "cells": [
  {
   "cell_type": "markdown",
   "metadata": {},
   "source": [
    "### HW 2"
   ]
  },
  {
   "cell_type": "markdown",
   "metadata": {},
   "source": [
    "**Processing Data Lab Part I**: Can you create df_ctr which is a data frame that captures the click through rate or CTR of each age group? CTR is defined as clicks/impressions * 100. Which age group has the highest CTR? Why do you think so? Why do you think there are people aged 0 in the dataset?\n",
    "\n",
    "**Processing Data Lab Part II**: Put together the NYT data from 30 different files into one file. Run df.shape and report the dimensions of your final dataframe.\n",
    "\n",
    "**Processing Data Lab Part III**: Come up with one new visualization for the nyt1 file. Feel free to use the data file you've put together in Lab Part II if you like, it just takes longer to run."
   ]
  },
  {
   "cell_type": "markdown",
   "metadata": {},
   "source": [
    "**Regression Part** \n",
    "Assemble the cleaned up aggregation nytimes data\n",
    "\n",
    "1. Generate a new model using the log of brain and body, which we know generated a much better distribution and cleaner set of data. Compare the results to the model using the raw data (a few examples are given below). Remember that exp() can be\n",
    "used to \"normalize\" our \"logged\" values. ***Note: Make sure you start a new linear regression object!***\n",
    "\n",
    "2. Using your aggregate data compiled from nytimes1-30.csv, write a python script that determines the best model predicting CTR based off of age and gender. Since gender is not actually numeric (it is binary), investigate ways to vectorize this feature. ***Clue: you may want two features now instead of one.***\n",
    "\n",
    "3. Compare this practice to making two separate models based on Gender --- that is, separate models for men and women --- with Age as your one feature predicting CTR. How are your results different? Which results would you be more confident in presenting to your manager? Why's that?\n",
    "\n",
    "4. Evaluate what data you could still use to improve your nytimes model. Consider plotting your model to service your explanations and write a short blurb about insights gained and next steps in your \"data collection.\"\n",
    "\n",
    "***"
   ]
  },
  {
   "cell_type": "markdown",
   "metadata": {},
   "source": [
    "### Processing Data Lab Part I\n",
    "Can you create df_ctr which is a data frame that captures the click through rate or CTR of each age group? CTR is defined as clicks/impressions * 100. Which age group has the highest CTR? Why do you think so? Why do you think there are people aged 0 in the dataset?\n",
    "\n",
    "Note that this is only using Part 1 of the NYT data versus the full dataset."
   ]
  },
  {
   "cell_type": "code",
   "execution_count": 1,
   "metadata": {
    "collapsed": false
   },
   "outputs": [],
   "source": [
    "%matplotlib inline\n",
    "import csv\n",
    "import requests\n",
    "import numpy as np\n",
    "import pandas as pd\n",
    "from random import randint\n",
    "from __future__ import division\n",
    "import matplotlib.pyplot as plt"
   ]
  },
  {
   "cell_type": "code",
   "execution_count": 2,
   "metadata": {
    "collapsed": false
   },
   "outputs": [
    {
     "name": "stdout",
     "output_type": "stream",
     "text": [
      "  % Total    % Received % Xferd  Average Speed   Time    Time     Time  Current\n",
      "                                 Dload  Upload   Total   Spent    Left  Speed\n",
      "100 4805k  100 4805k    0     0  1274k      0  0:00:03  0:00:03 --:--:-- 1274k\n"
     ]
    }
   ],
   "source": [
    "# Run the curl command if you don't have the data already \n",
    "# Go to where you want to store this data and run pwd to get the location\n",
    "!curl http://stat.columbia.edu/~rachel/datasets/nyt1.csv > /Users/mtlee/Code/DAT_mtl/nytimes.csv"
   ]
  },
  {
   "cell_type": "code",
   "execution_count": 3,
   "metadata": {
    "collapsed": false
   },
   "outputs": [],
   "source": [
    "# Replace this with your path\n",
    "df = pd.read_csv('/Users/mtlee/Code/DAT_mtl/nytimes.csv')"
   ]
  },
  {
   "cell_type": "code",
   "execution_count": 4,
   "metadata": {
    "collapsed": false
   },
   "outputs": [
    {
     "data": {
      "text/html": [
       "<div>\n",
       "<table border=\"1\" class=\"dataframe\">\n",
       "  <thead>\n",
       "    <tr style=\"text-align: right;\">\n",
       "      <th></th>\n",
       "      <th>Age</th>\n",
       "      <th>Gender</th>\n",
       "      <th>Impressions</th>\n",
       "      <th>Clicks</th>\n",
       "      <th>Signed_In</th>\n",
       "    </tr>\n",
       "  </thead>\n",
       "  <tbody>\n",
       "    <tr>\n",
       "      <th>0</th>\n",
       "      <td>36</td>\n",
       "      <td>0</td>\n",
       "      <td>3</td>\n",
       "      <td>0</td>\n",
       "      <td>1</td>\n",
       "    </tr>\n",
       "    <tr>\n",
       "      <th>1</th>\n",
       "      <td>73</td>\n",
       "      <td>1</td>\n",
       "      <td>3</td>\n",
       "      <td>0</td>\n",
       "      <td>1</td>\n",
       "    </tr>\n",
       "    <tr>\n",
       "      <th>2</th>\n",
       "      <td>30</td>\n",
       "      <td>0</td>\n",
       "      <td>3</td>\n",
       "      <td>0</td>\n",
       "      <td>1</td>\n",
       "    </tr>\n",
       "    <tr>\n",
       "      <th>3</th>\n",
       "      <td>49</td>\n",
       "      <td>1</td>\n",
       "      <td>3</td>\n",
       "      <td>0</td>\n",
       "      <td>1</td>\n",
       "    </tr>\n",
       "    <tr>\n",
       "      <th>4</th>\n",
       "      <td>47</td>\n",
       "      <td>1</td>\n",
       "      <td>11</td>\n",
       "      <td>0</td>\n",
       "      <td>1</td>\n",
       "    </tr>\n",
       "  </tbody>\n",
       "</table>\n",
       "</div>"
      ],
      "text/plain": [
       "   Age  Gender  Impressions  Clicks  Signed_In\n",
       "0   36       0            3       0          1\n",
       "1   73       1            3       0          1\n",
       "2   30       0            3       0          1\n",
       "3   49       1            3       0          1\n",
       "4   47       1           11       0          1"
      ]
     },
     "execution_count": 4,
     "metadata": {},
     "output_type": "execute_result"
    }
   ],
   "source": [
    "df.head()"
   ]
  },
  {
   "cell_type": "code",
   "execution_count": 5,
   "metadata": {
    "collapsed": false
   },
   "outputs": [
    {
     "data": {
      "text/html": [
       "<div>\n",
       "<table border=\"1\" class=\"dataframe\">\n",
       "  <thead>\n",
       "    <tr style=\"text-align: right;\">\n",
       "      <th></th>\n",
       "      <th>Age</th>\n",
       "      <th>Gender</th>\n",
       "      <th>Impressions</th>\n",
       "      <th>Clicks</th>\n",
       "      <th>Signed_In</th>\n",
       "    </tr>\n",
       "  </thead>\n",
       "  <tbody>\n",
       "    <tr>\n",
       "      <th>count</th>\n",
       "      <td>458441.000000</td>\n",
       "      <td>458441.000000</td>\n",
       "      <td>458441.000000</td>\n",
       "      <td>458441.000000</td>\n",
       "      <td>458441.000000</td>\n",
       "    </tr>\n",
       "    <tr>\n",
       "      <th>mean</th>\n",
       "      <td>29.482551</td>\n",
       "      <td>0.367037</td>\n",
       "      <td>5.007316</td>\n",
       "      <td>0.092594</td>\n",
       "      <td>0.700930</td>\n",
       "    </tr>\n",
       "    <tr>\n",
       "      <th>std</th>\n",
       "      <td>23.607034</td>\n",
       "      <td>0.481997</td>\n",
       "      <td>2.239349</td>\n",
       "      <td>0.309973</td>\n",
       "      <td>0.457851</td>\n",
       "    </tr>\n",
       "    <tr>\n",
       "      <th>min</th>\n",
       "      <td>0.000000</td>\n",
       "      <td>0.000000</td>\n",
       "      <td>0.000000</td>\n",
       "      <td>0.000000</td>\n",
       "      <td>0.000000</td>\n",
       "    </tr>\n",
       "    <tr>\n",
       "      <th>25%</th>\n",
       "      <td>0.000000</td>\n",
       "      <td>0.000000</td>\n",
       "      <td>3.000000</td>\n",
       "      <td>0.000000</td>\n",
       "      <td>0.000000</td>\n",
       "    </tr>\n",
       "    <tr>\n",
       "      <th>50%</th>\n",
       "      <td>31.000000</td>\n",
       "      <td>0.000000</td>\n",
       "      <td>5.000000</td>\n",
       "      <td>0.000000</td>\n",
       "      <td>1.000000</td>\n",
       "    </tr>\n",
       "    <tr>\n",
       "      <th>75%</th>\n",
       "      <td>48.000000</td>\n",
       "      <td>1.000000</td>\n",
       "      <td>6.000000</td>\n",
       "      <td>0.000000</td>\n",
       "      <td>1.000000</td>\n",
       "    </tr>\n",
       "    <tr>\n",
       "      <th>max</th>\n",
       "      <td>108.000000</td>\n",
       "      <td>1.000000</td>\n",
       "      <td>20.000000</td>\n",
       "      <td>4.000000</td>\n",
       "      <td>1.000000</td>\n",
       "    </tr>\n",
       "  </tbody>\n",
       "</table>\n",
       "</div>"
      ],
      "text/plain": [
       "                 Age         Gender    Impressions         Clicks  \\\n",
       "count  458441.000000  458441.000000  458441.000000  458441.000000   \n",
       "mean       29.482551       0.367037       5.007316       0.092594   \n",
       "std        23.607034       0.481997       2.239349       0.309973   \n",
       "min         0.000000       0.000000       0.000000       0.000000   \n",
       "25%         0.000000       0.000000       3.000000       0.000000   \n",
       "50%        31.000000       0.000000       5.000000       0.000000   \n",
       "75%        48.000000       1.000000       6.000000       0.000000   \n",
       "max       108.000000       1.000000      20.000000       4.000000   \n",
       "\n",
       "           Signed_In  \n",
       "count  458441.000000  \n",
       "mean        0.700930  \n",
       "std         0.457851  \n",
       "min         0.000000  \n",
       "25%         0.000000  \n",
       "50%         1.000000  \n",
       "75%         1.000000  \n",
       "max         1.000000  "
      ]
     },
     "execution_count": 5,
     "metadata": {},
     "output_type": "execute_result"
    }
   ],
   "source": [
    "df.describe()"
   ]
  },
  {
   "cell_type": "code",
   "execution_count": 6,
   "metadata": {
    "collapsed": false
   },
   "outputs": [
    {
     "data": {
      "text/plain": [
       "(458441, 5)"
      ]
     },
     "execution_count": 6,
     "metadata": {},
     "output_type": "execute_result"
    }
   ],
   "source": [
    "df.shape"
   ]
  },
  {
   "cell_type": "code",
   "execution_count": 7,
   "metadata": {
    "collapsed": true
   },
   "outputs": [],
   "source": [
    "def map_age_category(x):\n",
    "    \"\"\"\n",
    "    Function that groups users by age.\n",
    "    \"\"\"\n",
    "    if x == 0:\n",
    "        return 0\n",
    "    elif x < 18:\n",
    "        return 1\n",
    "    elif x < 25:\n",
    "        return 2\n",
    "    elif x < 32:\n",
    "        return 3\n",
    "    elif x < 45:\n",
    "        return 4\n",
    "    else:\n",
    "        return 5"
   ]
  },
  {
   "cell_type": "code",
   "execution_count": 8,
   "metadata": {
    "collapsed": false
   },
   "outputs": [
    {
     "data": {
      "text/html": [
       "<div>\n",
       "<table border=\"1\" class=\"dataframe\">\n",
       "  <thead>\n",
       "    <tr style=\"text-align: right;\">\n",
       "      <th></th>\n",
       "      <th>age_categories</th>\n",
       "    </tr>\n",
       "  </thead>\n",
       "  <tbody>\n",
       "    <tr>\n",
       "      <th>count</th>\n",
       "      <td>458441.000000</td>\n",
       "    </tr>\n",
       "    <tr>\n",
       "      <th>mean</th>\n",
       "      <td>2.744600</td>\n",
       "    </tr>\n",
       "    <tr>\n",
       "      <th>std</th>\n",
       "      <td>2.056163</td>\n",
       "    </tr>\n",
       "    <tr>\n",
       "      <th>min</th>\n",
       "      <td>0.000000</td>\n",
       "    </tr>\n",
       "    <tr>\n",
       "      <th>25%</th>\n",
       "      <td>0.000000</td>\n",
       "    </tr>\n",
       "    <tr>\n",
       "      <th>50%</th>\n",
       "      <td>3.000000</td>\n",
       "    </tr>\n",
       "    <tr>\n",
       "      <th>75%</th>\n",
       "      <td>5.000000</td>\n",
       "    </tr>\n",
       "    <tr>\n",
       "      <th>max</th>\n",
       "      <td>5.000000</td>\n",
       "    </tr>\n",
       "  </tbody>\n",
       "</table>\n",
       "</div>"
      ],
      "text/plain": [
       "       age_categories\n",
       "count   458441.000000\n",
       "mean         2.744600\n",
       "std          2.056163\n",
       "min          0.000000\n",
       "25%          0.000000\n",
       "50%          3.000000\n",
       "75%          5.000000\n",
       "max          5.000000"
      ]
     },
     "execution_count": 8,
     "metadata": {},
     "output_type": "execute_result"
    }
   ],
   "source": [
    "df['age_categories'] = df['Age'].apply(map_age_category)\n",
    "\n",
    "df[['age_categories']].describe()"
   ]
  },
  {
   "cell_type": "markdown",
   "metadata": {},
   "source": [
    "So there were two different ways that people thought about this. Neither is wrong, but they are different metrics\n",
    "\n",
    "- The first way is to group the data by age_categories and then sum the Impressions and Clicks overall in each age_categories. Then to calculate the CTR by dividing overall Impressions by overall Clicks in each of the age_categories.\n",
    "- The second way is to calculate a CTR for each individual and then average those within each of the age_categories."
   ]
  },
  {
   "cell_type": "code",
   "execution_count": 9,
   "metadata": {
    "collapsed": false
   },
   "outputs": [],
   "source": [
    "# Create the average impressions and clicks for each age.\n",
    "cols  = ['age_categories', 'Impressions', 'Clicks']\n",
    "df_ctr = df[cols].groupby(['age_categories']).sum().reset_index()"
   ]
  },
  {
   "cell_type": "code",
   "execution_count": 10,
   "metadata": {
    "collapsed": false
   },
   "outputs": [
    {
     "data": {
      "text/html": [
       "<div>\n",
       "<table border=\"1\" class=\"dataframe\">\n",
       "  <thead>\n",
       "    <tr style=\"text-align: right;\">\n",
       "      <th></th>\n",
       "      <th>age_categories</th>\n",
       "      <th>Impressions</th>\n",
       "      <th>Clicks</th>\n",
       "    </tr>\n",
       "  </thead>\n",
       "  <tbody>\n",
       "    <tr>\n",
       "      <th>0</th>\n",
       "      <td>0</td>\n",
       "      <td>685483</td>\n",
       "      <td>19480</td>\n",
       "    </tr>\n",
       "    <tr>\n",
       "      <th>1</th>\n",
       "      <td>1</td>\n",
       "      <td>69239</td>\n",
       "      <td>2065</td>\n",
       "    </tr>\n",
       "    <tr>\n",
       "      <th>2</th>\n",
       "      <td>2</td>\n",
       "      <td>203585</td>\n",
       "      <td>2167</td>\n",
       "    </tr>\n",
       "    <tr>\n",
       "      <th>3</th>\n",
       "      <td>3</td>\n",
       "      <td>209538</td>\n",
       "      <td>2121</td>\n",
       "    </tr>\n",
       "    <tr>\n",
       "      <th>4</th>\n",
       "      <td>4</td>\n",
       "      <td>436797</td>\n",
       "      <td>4478</td>\n",
       "    </tr>\n",
       "    <tr>\n",
       "      <th>5</th>\n",
       "      <td>5</td>\n",
       "      <td>690917</td>\n",
       "      <td>12138</td>\n",
       "    </tr>\n",
       "  </tbody>\n",
       "</table>\n",
       "</div>"
      ],
      "text/plain": [
       "   age_categories  Impressions  Clicks\n",
       "0               0       685483   19480\n",
       "1               1        69239    2065\n",
       "2               2       203585    2167\n",
       "3               3       209538    2121\n",
       "4               4       436797    4478\n",
       "5               5       690917   12138"
      ]
     },
     "execution_count": 10,
     "metadata": {},
     "output_type": "execute_result"
    }
   ],
   "source": [
    "df_ctr"
   ]
  },
  {
   "cell_type": "code",
   "execution_count": 11,
   "metadata": {
    "collapsed": false
   },
   "outputs": [],
   "source": [
    "df_ctr['CTR_overall']=(df_ctr['Clicks']/df_ctr['Impressions']*100).round(decimals=2)"
   ]
  },
  {
   "cell_type": "code",
   "execution_count": 12,
   "metadata": {
    "collapsed": false
   },
   "outputs": [
    {
     "data": {
      "text/html": [
       "<div>\n",
       "<table border=\"1\" class=\"dataframe\">\n",
       "  <thead>\n",
       "    <tr style=\"text-align: right;\">\n",
       "      <th></th>\n",
       "      <th>age_categories</th>\n",
       "      <th>Impressions</th>\n",
       "      <th>Clicks</th>\n",
       "      <th>CTR_overall</th>\n",
       "    </tr>\n",
       "  </thead>\n",
       "  <tbody>\n",
       "    <tr>\n",
       "      <th>1</th>\n",
       "      <td>1</td>\n",
       "      <td>69239</td>\n",
       "      <td>2065</td>\n",
       "      <td>2.98</td>\n",
       "    </tr>\n",
       "    <tr>\n",
       "      <th>0</th>\n",
       "      <td>0</td>\n",
       "      <td>685483</td>\n",
       "      <td>19480</td>\n",
       "      <td>2.84</td>\n",
       "    </tr>\n",
       "    <tr>\n",
       "      <th>5</th>\n",
       "      <td>5</td>\n",
       "      <td>690917</td>\n",
       "      <td>12138</td>\n",
       "      <td>1.76</td>\n",
       "    </tr>\n",
       "    <tr>\n",
       "      <th>2</th>\n",
       "      <td>2</td>\n",
       "      <td>203585</td>\n",
       "      <td>2167</td>\n",
       "      <td>1.06</td>\n",
       "    </tr>\n",
       "    <tr>\n",
       "      <th>4</th>\n",
       "      <td>4</td>\n",
       "      <td>436797</td>\n",
       "      <td>4478</td>\n",
       "      <td>1.03</td>\n",
       "    </tr>\n",
       "    <tr>\n",
       "      <th>3</th>\n",
       "      <td>3</td>\n",
       "      <td>209538</td>\n",
       "      <td>2121</td>\n",
       "      <td>1.01</td>\n",
       "    </tr>\n",
       "  </tbody>\n",
       "</table>\n",
       "</div>"
      ],
      "text/plain": [
       "   age_categories  Impressions  Clicks  CTR_overall\n",
       "1               1        69239    2065         2.98\n",
       "0               0       685483   19480         2.84\n",
       "5               5       690917   12138         1.76\n",
       "2               2       203585    2167         1.06\n",
       "4               4       436797    4478         1.03\n",
       "3               3       209538    2121         1.01"
      ]
     },
     "execution_count": 12,
     "metadata": {},
     "output_type": "execute_result"
    }
   ],
   "source": [
    "df_ctr.sort_values(by=\"CTR_overall\", ascending=False)"
   ]
  },
  {
   "cell_type": "markdown",
   "metadata": {},
   "source": [
    "Calculated this way, we see age categories 1 (1-17) and 0 (age 0... hmm) having the highest CTR.\n",
    "\n",
    "Now let's try calculating the other way..."
   ]
  },
  {
   "cell_type": "code",
   "execution_count": 13,
   "metadata": {
    "collapsed": false
   },
   "outputs": [
    {
     "data": {
      "text/plain": [
       "count    455375.000000\n",
       "mean          1.847053\n",
       "std           6.903449\n",
       "min           0.000000\n",
       "25%           0.000000\n",
       "50%           0.000000\n",
       "75%           0.000000\n",
       "max         100.000000\n",
       "Name: Individual_CTR, dtype: float64"
      ]
     },
     "execution_count": 13,
     "metadata": {},
     "output_type": "execute_result"
    }
   ],
   "source": [
    "df['Individual_CTR'] = 100*df['Clicks'].astype('float').div(df['Impressions'].astype('float'),axis='index')\n",
    "df['Individual_CTR'].describe()"
   ]
  },
  {
   "cell_type": "code",
   "execution_count": 14,
   "metadata": {
    "collapsed": false
   },
   "outputs": [],
   "source": [
    "# Create the average individual CTR for each age.\n",
    "cols  = ['age_categories', 'Individual_CTR']\n",
    "df_ctr_2 = df[cols].groupby(['age_categories']).mean().reset_index()"
   ]
  },
  {
   "cell_type": "code",
   "execution_count": 15,
   "metadata": {
    "collapsed": false
   },
   "outputs": [
    {
     "data": {
      "text/html": [
       "<div>\n",
       "<table border=\"1\" class=\"dataframe\">\n",
       "  <thead>\n",
       "    <tr style=\"text-align: right;\">\n",
       "      <th></th>\n",
       "      <th>age_categories</th>\n",
       "      <th>Individual_CTR</th>\n",
       "    </tr>\n",
       "  </thead>\n",
       "  <tbody>\n",
       "    <tr>\n",
       "      <th>1</th>\n",
       "      <td>1</td>\n",
       "      <td>3.027722</td>\n",
       "    </tr>\n",
       "    <tr>\n",
       "      <th>0</th>\n",
       "      <td>0</td>\n",
       "      <td>2.835491</td>\n",
       "    </tr>\n",
       "    <tr>\n",
       "      <th>5</th>\n",
       "      <td>5</td>\n",
       "      <td>1.746032</td>\n",
       "    </tr>\n",
       "    <tr>\n",
       "      <th>2</th>\n",
       "      <td>2</td>\n",
       "      <td>1.073376</td>\n",
       "    </tr>\n",
       "    <tr>\n",
       "      <th>4</th>\n",
       "      <td>4</td>\n",
       "      <td>1.030909</td>\n",
       "    </tr>\n",
       "    <tr>\n",
       "      <th>3</th>\n",
       "      <td>3</td>\n",
       "      <td>1.004526</td>\n",
       "    </tr>\n",
       "  </tbody>\n",
       "</table>\n",
       "</div>"
      ],
      "text/plain": [
       "   age_categories  Individual_CTR\n",
       "1               1        3.027722\n",
       "0               0        2.835491\n",
       "5               5        1.746032\n",
       "2               2        1.073376\n",
       "4               4        1.030909\n",
       "3               3        1.004526"
      ]
     },
     "execution_count": 15,
     "metadata": {},
     "output_type": "execute_result"
    }
   ],
   "source": [
    "df_ctr_2.sort_values(by=\"Individual_CTR\", ascending=False)"
   ]
  },
  {
   "cell_type": "markdown",
   "metadata": {},
   "source": [
    "While we get slightly different numbers, the result here is the same. Age category 1 followed by age category 0 have the highest click through rates.\n",
    "\n",
    "- Maybe younger people and kids are more likely to click on ads because they don't understand them. See examples of kids making lots of in app purchases in games.\n",
    "- Age 0 is weird... Let's look more at what may be going on. "
   ]
  },
  {
   "cell_type": "code",
   "execution_count": 16,
   "metadata": {
    "collapsed": false
   },
   "outputs": [
    {
     "data": {
      "text/html": [
       "<div>\n",
       "<table border=\"1\" class=\"dataframe\">\n",
       "  <thead>\n",
       "    <tr style=\"text-align: right;\">\n",
       "      <th></th>\n",
       "      <th>Age</th>\n",
       "      <th>Gender</th>\n",
       "      <th>Impressions</th>\n",
       "      <th>Clicks</th>\n",
       "      <th>Signed_In</th>\n",
       "      <th>age_categories</th>\n",
       "      <th>Individual_CTR</th>\n",
       "    </tr>\n",
       "  </thead>\n",
       "  <tbody>\n",
       "    <tr>\n",
       "      <th>6</th>\n",
       "      <td>0</td>\n",
       "      <td>0</td>\n",
       "      <td>7</td>\n",
       "      <td>1</td>\n",
       "      <td>0</td>\n",
       "      <td>0</td>\n",
       "      <td>14.285714</td>\n",
       "    </tr>\n",
       "    <tr>\n",
       "      <th>10</th>\n",
       "      <td>0</td>\n",
       "      <td>0</td>\n",
       "      <td>8</td>\n",
       "      <td>1</td>\n",
       "      <td>0</td>\n",
       "      <td>0</td>\n",
       "      <td>12.500000</td>\n",
       "    </tr>\n",
       "    <tr>\n",
       "      <th>12</th>\n",
       "      <td>0</td>\n",
       "      <td>0</td>\n",
       "      <td>4</td>\n",
       "      <td>0</td>\n",
       "      <td>0</td>\n",
       "      <td>0</td>\n",
       "      <td>0.000000</td>\n",
       "    </tr>\n",
       "    <tr>\n",
       "      <th>15</th>\n",
       "      <td>0</td>\n",
       "      <td>0</td>\n",
       "      <td>6</td>\n",
       "      <td>0</td>\n",
       "      <td>0</td>\n",
       "      <td>0</td>\n",
       "      <td>0.000000</td>\n",
       "    </tr>\n",
       "    <tr>\n",
       "      <th>19</th>\n",
       "      <td>0</td>\n",
       "      <td>0</td>\n",
       "      <td>5</td>\n",
       "      <td>0</td>\n",
       "      <td>0</td>\n",
       "      <td>0</td>\n",
       "      <td>0.000000</td>\n",
       "    </tr>\n",
       "    <tr>\n",
       "      <th>24</th>\n",
       "      <td>0</td>\n",
       "      <td>0</td>\n",
       "      <td>4</td>\n",
       "      <td>0</td>\n",
       "      <td>0</td>\n",
       "      <td>0</td>\n",
       "      <td>0.000000</td>\n",
       "    </tr>\n",
       "    <tr>\n",
       "      <th>39</th>\n",
       "      <td>0</td>\n",
       "      <td>0</td>\n",
       "      <td>7</td>\n",
       "      <td>2</td>\n",
       "      <td>0</td>\n",
       "      <td>0</td>\n",
       "      <td>28.571429</td>\n",
       "    </tr>\n",
       "    <tr>\n",
       "      <th>41</th>\n",
       "      <td>0</td>\n",
       "      <td>0</td>\n",
       "      <td>4</td>\n",
       "      <td>0</td>\n",
       "      <td>0</td>\n",
       "      <td>0</td>\n",
       "      <td>0.000000</td>\n",
       "    </tr>\n",
       "    <tr>\n",
       "      <th>46</th>\n",
       "      <td>0</td>\n",
       "      <td>0</td>\n",
       "      <td>3</td>\n",
       "      <td>0</td>\n",
       "      <td>0</td>\n",
       "      <td>0</td>\n",
       "      <td>0.000000</td>\n",
       "    </tr>\n",
       "    <tr>\n",
       "      <th>47</th>\n",
       "      <td>0</td>\n",
       "      <td>0</td>\n",
       "      <td>7</td>\n",
       "      <td>0</td>\n",
       "      <td>0</td>\n",
       "      <td>0</td>\n",
       "      <td>0.000000</td>\n",
       "    </tr>\n",
       "  </tbody>\n",
       "</table>\n",
       "</div>"
      ],
      "text/plain": [
       "    Age  Gender  Impressions  Clicks  Signed_In  age_categories  \\\n",
       "6     0       0            7       1          0               0   \n",
       "10    0       0            8       1          0               0   \n",
       "12    0       0            4       0          0               0   \n",
       "15    0       0            6       0          0               0   \n",
       "19    0       0            5       0          0               0   \n",
       "24    0       0            4       0          0               0   \n",
       "39    0       0            7       2          0               0   \n",
       "41    0       0            4       0          0               0   \n",
       "46    0       0            3       0          0               0   \n",
       "47    0       0            7       0          0               0   \n",
       "\n",
       "    Individual_CTR  \n",
       "6        14.285714  \n",
       "10       12.500000  \n",
       "12        0.000000  \n",
       "15        0.000000  \n",
       "19        0.000000  \n",
       "24        0.000000  \n",
       "39       28.571429  \n",
       "41        0.000000  \n",
       "46        0.000000  \n",
       "47        0.000000  "
      ]
     },
     "execution_count": 16,
     "metadata": {},
     "output_type": "execute_result"
    }
   ],
   "source": [
    "df_zeros_age = df[df.Age==0]\n",
    "df_zeros_age.head(10)"
   ]
  },
  {
   "cell_type": "markdown",
   "metadata": {},
   "source": [
    "Note that all the observations (people) with Age = 0 also have Gender = 0. Looks like this denotes missing data."
   ]
  },
  {
   "cell_type": "code",
   "execution_count": 17,
   "metadata": {
    "collapsed": false
   },
   "outputs": [
    {
     "data": {
      "text/plain": [
       "count    137106\n",
       "mean          0\n",
       "std           0\n",
       "min           0\n",
       "25%           0\n",
       "50%           0\n",
       "75%           0\n",
       "max           0\n",
       "Name: Gender, dtype: float64"
      ]
     },
     "execution_count": 17,
     "metadata": {},
     "output_type": "execute_result"
    }
   ],
   "source": [
    "# Check to see that all the obs with Age = 0 also have Gender = 0 \n",
    "df_zeros_age['Gender'].describe()"
   ]
  },
  {
   "cell_type": "markdown",
   "metadata": {},
   "source": [
    "### Processing Data Lab Part II:"
   ]
  },
  {
   "cell_type": "markdown",
   "metadata": {},
   "source": [
    "Put together the NYT data from 30 different files into one file. Run df.shape and report the dimensions of your final dataframe."
   ]
  },
  {
   "cell_type": "code",
   "execution_count": 18,
   "metadata": {
    "collapsed": true
   },
   "outputs": [],
   "source": [
    "# First I created a file called nytfiles and curled all 30 files\n",
    "\n",
    "import pandas as pd\n",
    "import glob\n",
    "\n",
    "path =r'/Users/mtlee/Code/DAT_mtl/nytfiles/' # use your path\n",
    "allFiles = glob.glob(path + \"/nyt*.csv\")\n",
    "\n",
    "# frame will be the final df\n",
    "# list will be a list of individual csv files to be concatenated\n",
    "frame = pd.DataFrame()\n",
    "list_ = []\n",
    "\n",
    "for file_ in allFiles:\n",
    "    df = pd.read_csv(file_,index_col=None, header=0)\n",
    "    list_.append(df)\n",
    "\n",
    "frame = pd.concat(list_, axis=0)"
   ]
  },
  {
   "cell_type": "code",
   "execution_count": 19,
   "metadata": {
    "collapsed": false
   },
   "outputs": [
    {
     "data": {
      "text/plain": [
       "14465753"
      ]
     },
     "execution_count": 19,
     "metadata": {},
     "output_type": "execute_result"
    }
   ],
   "source": [
    "len(frame)"
   ]
  },
  {
   "cell_type": "code",
   "execution_count": 20,
   "metadata": {
    "collapsed": false
   },
   "outputs": [
    {
     "data": {
      "text/plain": [
       "(14465753, 5)"
      ]
     },
     "execution_count": 20,
     "metadata": {},
     "output_type": "execute_result"
    }
   ],
   "source": [
    "frame.shape"
   ]
  },
  {
   "cell_type": "markdown",
   "metadata": {},
   "source": [
    "## Processing Data Lab Part II\n",
    "Come up with one new visualization for the nyt1 file. Feel free to use the data file you've put together in Lab Part II if you like, it just takes longer to run."
   ]
  },
  {
   "cell_type": "code",
   "execution_count": 21,
   "metadata": {
    "collapsed": false
   },
   "outputs": [
    {
     "data": {
      "text/html": [
       "<div>\n",
       "<table border=\"1\" class=\"dataframe\">\n",
       "  <thead>\n",
       "    <tr style=\"text-align: right;\">\n",
       "      <th></th>\n",
       "      <th>Age</th>\n",
       "      <th>Gender</th>\n",
       "      <th>Impressions</th>\n",
       "      <th>Clicks</th>\n",
       "      <th>Signed_In</th>\n",
       "    </tr>\n",
       "  </thead>\n",
       "  <tbody>\n",
       "    <tr>\n",
       "      <th>0</th>\n",
       "      <td>27</td>\n",
       "      <td>1</td>\n",
       "      <td>3</td>\n",
       "      <td>0</td>\n",
       "      <td>1</td>\n",
       "    </tr>\n",
       "    <tr>\n",
       "      <th>1</th>\n",
       "      <td>14</td>\n",
       "      <td>1</td>\n",
       "      <td>4</td>\n",
       "      <td>0</td>\n",
       "      <td>1</td>\n",
       "    </tr>\n",
       "    <tr>\n",
       "      <th>2</th>\n",
       "      <td>29</td>\n",
       "      <td>1</td>\n",
       "      <td>4</td>\n",
       "      <td>0</td>\n",
       "      <td>1</td>\n",
       "    </tr>\n",
       "    <tr>\n",
       "      <th>3</th>\n",
       "      <td>0</td>\n",
       "      <td>0</td>\n",
       "      <td>7</td>\n",
       "      <td>0</td>\n",
       "      <td>0</td>\n",
       "    </tr>\n",
       "    <tr>\n",
       "      <th>4</th>\n",
       "      <td>35</td>\n",
       "      <td>1</td>\n",
       "      <td>7</td>\n",
       "      <td>0</td>\n",
       "      <td>1</td>\n",
       "    </tr>\n",
       "  </tbody>\n",
       "</table>\n",
       "</div>"
      ],
      "text/plain": [
       "   Age  Gender  Impressions  Clicks  Signed_In\n",
       "0   27       1            3       0          1\n",
       "1   14       1            4       0          1\n",
       "2   29       1            4       0          1\n",
       "3    0       0            7       0          0\n",
       "4   35       1            7       0          1"
      ]
     },
     "execution_count": 21,
     "metadata": {},
     "output_type": "execute_result"
    }
   ],
   "source": [
    "df.head()"
   ]
  },
  {
   "cell_type": "code",
   "execution_count": 22,
   "metadata": {
    "collapsed": false
   },
   "outputs": [
    {
     "data": {
      "image/png": "[encoded data removed]",
      "text/plain": [
       "<matplotlib.figure.Figure at 0x1134e8790>"
      ]
     },
     "metadata": {},
     "output_type": "display_data"
    }
   ],
   "source": [
    "# This plot reinforces our guess that the 0 age individuals are missing age\n",
    "import seaborn as sns\n",
    "sns.distplot(df['Age']);"
   ]
  },
  {
   "cell_type": "code",
   "execution_count": 23,
   "metadata": {
    "collapsed": false
   },
   "outputs": [
    {
     "data": {
      "text/html": [
       "<div>\n",
       "<table border=\"1\" class=\"dataframe\">\n",
       "  <thead>\n",
       "    <tr style=\"text-align: right;\">\n",
       "      <th></th>\n",
       "      <th>age_categories</th>\n",
       "      <th>Individual_CTR</th>\n",
       "    </tr>\n",
       "  </thead>\n",
       "  <tbody>\n",
       "    <tr>\n",
       "      <th>0</th>\n",
       "      <td>0</td>\n",
       "      <td>2.835491</td>\n",
       "    </tr>\n",
       "    <tr>\n",
       "      <th>1</th>\n",
       "      <td>1</td>\n",
       "      <td>3.027722</td>\n",
       "    </tr>\n",
       "    <tr>\n",
       "      <th>2</th>\n",
       "      <td>2</td>\n",
       "      <td>1.073376</td>\n",
       "    </tr>\n",
       "    <tr>\n",
       "      <th>3</th>\n",
       "      <td>3</td>\n",
       "      <td>1.004526</td>\n",
       "    </tr>\n",
       "    <tr>\n",
       "      <th>4</th>\n",
       "      <td>4</td>\n",
       "      <td>1.030909</td>\n",
       "    </tr>\n",
       "  </tbody>\n",
       "</table>\n",
       "</div>"
      ],
      "text/plain": [
       "   age_categories  Individual_CTR\n",
       "0               0        2.835491\n",
       "1               1        3.027722\n",
       "2               2        1.073376\n",
       "3               3        1.004526\n",
       "4               4        1.030909"
      ]
     },
     "execution_count": 23,
     "metadata": {},
     "output_type": "execute_result"
    }
   ],
   "source": [
    "df_ctr_2.head()"
   ]
  },
  {
   "cell_type": "code",
   "execution_count": 24,
   "metadata": {
    "collapsed": false
   },
   "outputs": [
    {
     "data": {
      "image/png": "[encoded data removed]",
      "text/plain": [
       "<matplotlib.figure.Figure at 0x113ee1490>"
      ]
     },
     "metadata": {},
     "output_type": "display_data"
    }
   ],
   "source": [
    "# This is visualizing what we found earlier... age category 0 and 1 have highest mean CTR's \n",
    "df_ctr_2['Individual_CTR'].plot(kind='bar');"
   ]
  },
  {
   "cell_type": "markdown",
   "metadata": {},
   "source": [
    "## Regression Part\n",
    "Assemble the cleaned up aggregation nytimes data\n",
    "\n",
    "1. Generate a new model using the log of brain and body, which we know generated a much better distribution and cleaner set of data. Compare the results to the model using the raw data (a few examples are given below). Remember that exp() can be\n",
    "used to \"normalize\" our \"logged\" values. ***Note: Make sure you start a new linear regression object!***"
   ]
  },
  {
   "cell_type": "markdown",
   "metadata": {},
   "source": [
    "Take the mammal data and fit both a linear model to the original data and then to the log transformed x's and y's.\n",
    "\n",
    "For the predictions, we can get predictions for the original brain values. We can also get the predictions for log_brain and then take e and raise it to the log_brain power to get brain predictions."
   ]
  },
  {
   "cell_type": "code",
   "execution_count": 25,
   "metadata": {
    "collapsed": false
   },
   "outputs": [],
   "source": [
    "from sklearn import linear_model\n",
    "\n",
    "# Replace with the location of your csv\n",
    "mammals = pd.read_csv('/Users/mtlee/Code/DAT_mtl/mammals.csv')\n",
    "\n",
    "lm = linear_model.LinearRegression()\n",
    "log_lm = linear_model.LinearRegression()"
   ]
  },
  {
   "cell_type": "code",
   "execution_count": 26,
   "metadata": {
    "collapsed": true
   },
   "outputs": [],
   "source": [
    "# grab features\n",
    "body = [ [x] for x in mammals['body'].values]\n",
    "brain = mammals['brain'].values\n",
    "\n",
    "log_body = [ [x] for x in np.log(mammals['body'].values)]\n",
    "log_brain = np.log(mammals['brain'].values)"
   ]
  },
  {
   "cell_type": "code",
   "execution_count": 27,
   "metadata": {
    "collapsed": false
   },
   "outputs": [
    {
     "data": {
      "text/plain": [
       "LinearRegression(copy_X=True, fit_intercept=True, n_jobs=1, normalize=False)"
      ]
     },
     "execution_count": 27,
     "metadata": {},
     "output_type": "execute_result"
    }
   ],
   "source": [
    "# Fit linear models\n",
    "lm.fit(body, brain)\n",
    "\n",
    "log_lm.fit(log_body, log_brain)"
   ]
  },
  {
   "cell_type": "code",
   "execution_count": 28,
   "metadata": {
    "collapsed": false
   },
   "outputs": [
    {
     "data": {
      "text/plain": [
       "0     94.275986\n",
       "1     91.468314\n",
       "2     92.309166\n",
       "3    540.425207\n",
       "4    126.117209\n",
       "Name: predict, dtype: float64"
      ]
     },
     "execution_count": 28,
     "metadata": {},
     "output_type": "execute_result"
    }
   ],
   "source": [
    "lm.predict(body)\n",
    "mammals['predict'] = lm.predict(body)\n",
    "mammals['predict'].head()"
   ]
  },
  {
   "cell_type": "code",
   "execution_count": 29,
   "metadata": {
    "collapsed": false
   },
   "outputs": [
    {
     "data": {
      "text/plain": [
       "0     21.144078\n",
       "1      4.869905\n",
       "2     10.594903\n",
       "3    855.487784\n",
       "4    125.879932\n",
       "Name: log_predict, dtype: float64"
      ]
     },
     "execution_count": 29,
     "metadata": {},
     "output_type": "execute_result"
    }
   ],
   "source": [
    "log_lm.predict(log_body)\n",
    "mammals['log_predict'] = np.exp(log_lm.predict(log_body))\n",
    "mammals['log_predict'].head()"
   ]
  },
  {
   "cell_type": "code",
   "execution_count": 30,
   "metadata": {
    "collapsed": false
   },
   "outputs": [
    {
     "data": {
      "text/html": [
       "<div>\n",
       "<table border=\"1\" class=\"dataframe\">\n",
       "  <thead>\n",
       "    <tr style=\"text-align: right;\">\n",
       "      <th></th>\n",
       "      <th>Name</th>\n",
       "      <th>body</th>\n",
       "      <th>brain</th>\n",
       "      <th>predict</th>\n",
       "      <th>log_predict</th>\n",
       "    </tr>\n",
       "  </thead>\n",
       "  <tbody>\n",
       "    <tr>\n",
       "      <th>0</th>\n",
       "      <td>Arctic fox</td>\n",
       "      <td>3.385</td>\n",
       "      <td>44.5</td>\n",
       "      <td>94.275986</td>\n",
       "      <td>21.144078</td>\n",
       "    </tr>\n",
       "    <tr>\n",
       "      <th>1</th>\n",
       "      <td>Owl monkey</td>\n",
       "      <td>0.480</td>\n",
       "      <td>15.5</td>\n",
       "      <td>91.468314</td>\n",
       "      <td>4.869905</td>\n",
       "    </tr>\n",
       "    <tr>\n",
       "      <th>2</th>\n",
       "      <td>Mountain beaver</td>\n",
       "      <td>1.350</td>\n",
       "      <td>8.1</td>\n",
       "      <td>92.309166</td>\n",
       "      <td>10.594903</td>\n",
       "    </tr>\n",
       "    <tr>\n",
       "      <th>3</th>\n",
       "      <td>Cow</td>\n",
       "      <td>465.000</td>\n",
       "      <td>423.0</td>\n",
       "      <td>540.425207</td>\n",
       "      <td>855.487784</td>\n",
       "    </tr>\n",
       "    <tr>\n",
       "      <th>4</th>\n",
       "      <td>Grey wolf</td>\n",
       "      <td>36.330</td>\n",
       "      <td>119.5</td>\n",
       "      <td>126.117209</td>\n",
       "      <td>125.879932</td>\n",
       "    </tr>\n",
       "  </tbody>\n",
       "</table>\n",
       "</div>"
      ],
      "text/plain": [
       "              Name     body  brain     predict  log_predict\n",
       "0       Arctic fox    3.385   44.5   94.275986    21.144078\n",
       "1       Owl monkey    0.480   15.5   91.468314     4.869905\n",
       "2  Mountain beaver    1.350    8.1   92.309166    10.594903\n",
       "3              Cow  465.000  423.0  540.425207   855.487784\n",
       "4        Grey wolf   36.330  119.5  126.117209   125.879932"
      ]
     },
     "execution_count": 30,
     "metadata": {},
     "output_type": "execute_result"
    }
   ],
   "source": [
    "mammals.head()"
   ]
  },
  {
   "cell_type": "code",
   "execution_count": 31,
   "metadata": {
    "collapsed": false
   },
   "outputs": [
    {
     "data": {
      "text/plain": [
       "0.873"
      ]
     },
     "execution_count": 31,
     "metadata": {},
     "output_type": "execute_result"
    }
   ],
   "source": [
    "round(lm.score(body, brain),3)"
   ]
  },
  {
   "cell_type": "code",
   "execution_count": 32,
   "metadata": {
    "collapsed": false
   },
   "outputs": [
    {
     "data": {
      "text/plain": [
       "0.921"
      ]
     },
     "execution_count": 32,
     "metadata": {},
     "output_type": "execute_result"
    }
   ],
   "source": [
    "round(log_lm.score(log_body, log_brain),3)"
   ]
  },
  {
   "cell_type": "markdown",
   "metadata": {},
   "source": [
    "Looking at R^2, looks like the log model does better. Matches up with what we saw when graphing both of them."
   ]
  },
  {
   "cell_type": "code",
   "execution_count": 33,
   "metadata": {
    "collapsed": false
   },
   "outputs": [
    {
     "data": {
      "text/plain": [
       "[<matplotlib.lines.Line2D at 0x11d530210>]"
      ]
     },
     "execution_count": 33,
     "metadata": {},
     "output_type": "execute_result"
    },
    {
     "name": "stderr",
     "output_type": "stream",
     "text": [
      "/Applications/anaconda/envs/my_env_2/lib/python2.7/site-packages/matplotlib/collections.py:590: FutureWarning: elementwise comparison failed; returning scalar instead, but in the future will perform elementwise comparison\n",
      "  if self._edgecolors == str('face'):\n"
     ]
    },
    {
     "data": {
      "image/png": "[encoded data removed]",
      "text/plain": [
       "<matplotlib.figure.Figure at 0x11d530050>"
      ]
     },
     "metadata": {},
     "output_type": "display_data"
    }
   ],
   "source": [
    "plt.scatter(body, brain)\n",
    "plt.plot(body, lm.predict(body), color='blue', linewidth=1)"
   ]
  },
  {
   "cell_type": "code",
   "execution_count": 34,
   "metadata": {
    "collapsed": false
   },
   "outputs": [
    {
     "data": {
      "image/png": "[encoded data removed]",
      "text/plain": [
       "<matplotlib.figure.Figure at 0x11cef9e90>"
      ]
     },
     "metadata": {},
     "output_type": "display_data"
    }
   ],
   "source": [
    "from numpy import log\n",
    "\n",
    "mammals['body'] = log(mammals['body'])\n",
    "mammals['log_brain'] = log(mammals['brain'])\n",
    "\n",
    "plt.scatter(log_body, log_brain)\n",
    "plt.plot(log_body, log_lm.predict(log_body), color='red', linewidth=1)\n",
    "plt.show()"
   ]
  },
  {
   "cell_type": "code",
   "execution_count": 35,
   "metadata": {
    "collapsed": false
   },
   "outputs": [
    {
     "name": "stdout",
     "output_type": "stream",
     "text": [
      "Let's interpret our results for the non-log model: \n",
      "For an animal with body weight as 0, we expect it to have brain weight of 91.0.\n",
      "For an increase of 1 in body weight, we expect an increase of 0.97 in the animal's brain weight.\n"
     ]
    }
   ],
   "source": [
    "print \"Let's interpret our results for the non-log model: \" \n",
    "\n",
    "print \"For an animal with body weight as 0, we expect it to have brain weight of \" + str(round(lm.intercept_,2)) + \".\"\n",
    "\n",
    "print \"For an increase of 1 in body weight, we expect an increase of \" + str(round(lm.coef_[0],2)) + \" in the animal's brain weight.\""
   ]
  },
  {
   "cell_type": "code",
   "execution_count": 36,
   "metadata": {
    "collapsed": false
   },
   "outputs": [
    {
     "name": "stdout",
     "output_type": "stream",
     "text": [
      "Let's interpret our results for the log model: \n",
      "For an animal with log of its body weight as 0, we expect it to have log brain weight of 2.13.\n",
      "For an increase of 1 in log of body weight, we expect an increase of 0.75 in log of brain weight.\n"
     ]
    }
   ],
   "source": [
    "print \"Let's interpret our results for the log model: \" \n",
    "\n",
    "print \"For an animal with log of its body weight as 0, we expect it to have log brain weight of \" + str(round(log_lm.intercept_,2)) + \".\"\n",
    "\n",
    "print \"For an increase of 1 in log of body weight, we expect an increase of \" + str(round(log_lm.coef_[0],2)) + \" in log of brain weight.\""
   ]
  },
  {
   "cell_type": "markdown",
   "metadata": {},
   "source": [
    "# NYT data regression\n",
    "\n",
    "2. Using your aggregate data compiled from nytimes1-30.csv, write a python script that determines the best model predicting CTR based off of age and gender. Since gender is not actually numeric (it is binary), investigate ways to vectorize this feature. ***Clue: you may want two features now instead of one.***"
   ]
  },
  {
   "cell_type": "code",
   "execution_count": 37,
   "metadata": {
    "collapsed": false
   },
   "outputs": [
    {
     "data": {
      "text/html": [
       "<div>\n",
       "<table border=\"1\" class=\"dataframe\">\n",
       "  <thead>\n",
       "    <tr style=\"text-align: right;\">\n",
       "      <th></th>\n",
       "      <th>Age</th>\n",
       "      <th>Gender</th>\n",
       "      <th>Impressions</th>\n",
       "      <th>Clicks</th>\n",
       "      <th>Signed_In</th>\n",
       "    </tr>\n",
       "  </thead>\n",
       "  <tbody>\n",
       "    <tr>\n",
       "      <th>0</th>\n",
       "      <td>36</td>\n",
       "      <td>0</td>\n",
       "      <td>3</td>\n",
       "      <td>0</td>\n",
       "      <td>1</td>\n",
       "    </tr>\n",
       "    <tr>\n",
       "      <th>1</th>\n",
       "      <td>73</td>\n",
       "      <td>1</td>\n",
       "      <td>3</td>\n",
       "      <td>0</td>\n",
       "      <td>1</td>\n",
       "    </tr>\n",
       "    <tr>\n",
       "      <th>2</th>\n",
       "      <td>30</td>\n",
       "      <td>0</td>\n",
       "      <td>3</td>\n",
       "      <td>0</td>\n",
       "      <td>1</td>\n",
       "    </tr>\n",
       "    <tr>\n",
       "      <th>3</th>\n",
       "      <td>49</td>\n",
       "      <td>1</td>\n",
       "      <td>3</td>\n",
       "      <td>0</td>\n",
       "      <td>1</td>\n",
       "    </tr>\n",
       "    <tr>\n",
       "      <th>4</th>\n",
       "      <td>47</td>\n",
       "      <td>1</td>\n",
       "      <td>11</td>\n",
       "      <td>0</td>\n",
       "      <td>1</td>\n",
       "    </tr>\n",
       "  </tbody>\n",
       "</table>\n",
       "</div>"
      ],
      "text/plain": [
       "   Age  Gender  Impressions  Clicks  Signed_In\n",
       "0   36       0            3       0          1\n",
       "1   73       1            3       0          1\n",
       "2   30       0            3       0          1\n",
       "3   49       1            3       0          1\n",
       "4   47       1           11       0          1"
      ]
     },
     "execution_count": 37,
     "metadata": {},
     "output_type": "execute_result"
    }
   ],
   "source": [
    "frame.head()"
   ]
  },
  {
   "cell_type": "markdown",
   "metadata": {},
   "source": [
    "OK so I'm not sure what it wants you to do in terms of \"vectorizing\" the data, so I'm just fitting a linear regression with gender and age predicting individual CTR. And then I will interpret the coefficients and intercept."
   ]
  },
  {
   "cell_type": "code",
   "execution_count": 38,
   "metadata": {
    "collapsed": false
   },
   "outputs": [
    {
     "data": {
      "text/plain": [
       "count    14368701.000000\n",
       "mean            1.957311\n",
       "std             7.116836\n",
       "min             0.000000\n",
       "25%             0.000000\n",
       "50%             0.000000\n",
       "75%             0.000000\n",
       "max           100.000000\n",
       "Name: CTR_new, dtype: float64"
      ]
     },
     "execution_count": 38,
     "metadata": {},
     "output_type": "execute_result"
    }
   ],
   "source": [
    "# Create individual level CTR data, this will be our outcome to predict\n",
    "\n",
    "frame['CTR_new'] = 100*frame['Clicks'].astype('float').div(frame['Impressions'].astype('float'),axis='index')\n",
    "frame['CTR_new'].describe()"
   ]
  },
  {
   "cell_type": "code",
   "execution_count": 39,
   "metadata": {
    "collapsed": false
   },
   "outputs": [
    {
     "name": "stdout",
     "output_type": "stream",
     "text": [
      "14368701\n"
     ]
    }
   ],
   "source": [
    "# Now let's get rid of observations with CTR_new as NaN\n",
    "# This is a division by zero issue and we can't run the regression with them\n",
    "\n",
    "NaN_mask = [not i for i in pd.isnull(frame.CTR_new)]\n",
    "df_nyt_drop_NaN_1 = frame[NaN_mask]\n",
    "print len(df_nyt_drop_NaN_1)"
   ]
  },
  {
   "cell_type": "code",
   "execution_count": 40,
   "metadata": {
    "collapsed": false
   },
   "outputs": [
    {
     "data": {
      "text/html": [
       "<div>\n",
       "<table border=\"1\" class=\"dataframe\">\n",
       "  <thead>\n",
       "    <tr style=\"text-align: right;\">\n",
       "      <th></th>\n",
       "      <th>Age</th>\n",
       "      <th>Gender</th>\n",
       "      <th>Impressions</th>\n",
       "      <th>Clicks</th>\n",
       "      <th>Signed_In</th>\n",
       "      <th>CTR_new</th>\n",
       "    </tr>\n",
       "  </thead>\n",
       "  <tbody>\n",
       "    <tr>\n",
       "      <th>count</th>\n",
       "      <td>14368701.000000</td>\n",
       "      <td>14368701.000000</td>\n",
       "      <td>14368701.000000</td>\n",
       "      <td>14368701.000000</td>\n",
       "      <td>14368701.000000</td>\n",
       "      <td>14368701.000000</td>\n",
       "    </tr>\n",
       "    <tr>\n",
       "      <th>mean</th>\n",
       "      <td>26.145179</td>\n",
       "      <td>0.322048</td>\n",
       "      <td>5.033459</td>\n",
       "      <td>0.098537</td>\n",
       "      <td>0.621087</td>\n",
       "      <td>1.957311</td>\n",
       "    </tr>\n",
       "    <tr>\n",
       "      <th>std</th>\n",
       "      <td>24.137322</td>\n",
       "      <td>0.467261</td>\n",
       "      <td>2.205085</td>\n",
       "      <td>0.320218</td>\n",
       "      <td>0.485116</td>\n",
       "      <td>7.116836</td>\n",
       "    </tr>\n",
       "    <tr>\n",
       "      <th>min</th>\n",
       "      <td>0.000000</td>\n",
       "      <td>0.000000</td>\n",
       "      <td>1.000000</td>\n",
       "      <td>0.000000</td>\n",
       "      <td>0.000000</td>\n",
       "      <td>0.000000</td>\n",
       "    </tr>\n",
       "    <tr>\n",
       "      <th>25%</th>\n",
       "      <td>0.000000</td>\n",
       "      <td>0.000000</td>\n",
       "      <td>3.000000</td>\n",
       "      <td>0.000000</td>\n",
       "      <td>0.000000</td>\n",
       "      <td>0.000000</td>\n",
       "    </tr>\n",
       "    <tr>\n",
       "      <th>50%</th>\n",
       "      <td>26.000000</td>\n",
       "      <td>0.000000</td>\n",
       "      <td>5.000000</td>\n",
       "      <td>0.000000</td>\n",
       "      <td>1.000000</td>\n",
       "      <td>0.000000</td>\n",
       "    </tr>\n",
       "    <tr>\n",
       "      <th>75%</th>\n",
       "      <td>46.000000</td>\n",
       "      <td>1.000000</td>\n",
       "      <td>6.000000</td>\n",
       "      <td>0.000000</td>\n",
       "      <td>1.000000</td>\n",
       "      <td>0.000000</td>\n",
       "    </tr>\n",
       "    <tr>\n",
       "      <th>max</th>\n",
       "      <td>115.000000</td>\n",
       "      <td>1.000000</td>\n",
       "      <td>21.000000</td>\n",
       "      <td>6.000000</td>\n",
       "      <td>1.000000</td>\n",
       "      <td>100.000000</td>\n",
       "    </tr>\n",
       "  </tbody>\n",
       "</table>\n",
       "</div>"
      ],
      "text/plain": [
       "                   Age           Gender      Impressions           Clicks  \\\n",
       "count  14368701.000000  14368701.000000  14368701.000000  14368701.000000   \n",
       "mean         26.145179         0.322048         5.033459         0.098537   \n",
       "std          24.137322         0.467261         2.205085         0.320218   \n",
       "min           0.000000         0.000000         1.000000         0.000000   \n",
       "25%           0.000000         0.000000         3.000000         0.000000   \n",
       "50%          26.000000         0.000000         5.000000         0.000000   \n",
       "75%          46.000000         1.000000         6.000000         0.000000   \n",
       "max         115.000000         1.000000        21.000000         6.000000   \n",
       "\n",
       "             Signed_In          CTR_new  \n",
       "count  14368701.000000  14368701.000000  \n",
       "mean          0.621087         1.957311  \n",
       "std           0.485116         7.116836  \n",
       "min           0.000000         0.000000  \n",
       "25%           0.000000         0.000000  \n",
       "50%           1.000000         0.000000  \n",
       "75%           1.000000         0.000000  \n",
       "max           1.000000       100.000000  "
      ]
     },
     "execution_count": 40,
     "metadata": {},
     "output_type": "execute_result"
    }
   ],
   "source": [
    "df_nyt_drop_NaN_1.describe()"
   ]
  },
  {
   "cell_type": "markdown",
   "metadata": {},
   "source": [
    "Now remove the missing data points. Why? Because we know those age values and gender values are not actual zeros so adding them to our linear model will mess up our predictions for the more \"real\" data."
   ]
  },
  {
   "cell_type": "code",
   "execution_count": 41,
   "metadata": {
    "collapsed": false
   },
   "outputs": [
    {
     "data": {
      "text/plain": [
       "8924220"
      ]
     },
     "execution_count": 41,
     "metadata": {},
     "output_type": "execute_result"
    }
   ],
   "source": [
    "df_nyt_drop_NaN = df_nyt_drop_NaN_1[df_nyt_drop_NaN_1.Age>0]\n",
    "len(df_nyt_drop_NaN)"
   ]
  },
  {
   "cell_type": "code",
   "execution_count": 42,
   "metadata": {
    "collapsed": false
   },
   "outputs": [
    {
     "name": "stdout",
     "output_type": "stream",
     "text": [
      "0.576200433077 [-0.0053927   0.02014332]\n"
     ]
    }
   ],
   "source": [
    "from sklearn.linear_model import LinearRegression\n",
    "\n",
    "# create X and y\n",
    "feature_cols = ['Gender', 'Age']\n",
    "X = df_nyt_drop_NaN[feature_cols]\n",
    "y = df_nyt_drop_NaN.CTR_new\n",
    "\n",
    "# instantiate, fit\n",
    "lm_nyt = LinearRegression()\n",
    "lm_nyt.fit(X, y)\n",
    "print lm_nyt.intercept_, lm_nyt.coef_"
   ]
  },
  {
   "cell_type": "code",
   "execution_count": 43,
   "metadata": {
    "collapsed": false
   },
   "outputs": [
    {
     "data": {
      "text/plain": [
       "0.57620043307690538"
      ]
     },
     "execution_count": 43,
     "metadata": {},
     "output_type": "execute_result"
    }
   ],
   "source": [
    "lm_nyt.intercept_"
   ]
  },
  {
   "cell_type": "markdown",
   "metadata": {},
   "source": [
    "Interpret the intercept: For an female aged 0, their average individual CTR is 0.58. Not a really meaningful interpretation because we're not interested in people with age near or at \n",
    "0."
   ]
  },
  {
   "cell_type": "code",
   "execution_count": 44,
   "metadata": {
    "collapsed": false
   },
   "outputs": [
    {
     "name": "stdout",
     "output_type": "stream",
     "text": [
      "-0.00539270226083\n",
      "0.0201433228632\n"
     ]
    }
   ],
   "source": [
    "print lm_nyt.coef_[0]\n",
    "print lm_nyt.coef_[1]"
   ]
  },
  {
   "cell_type": "markdown",
   "metadata": {},
   "source": [
    "Interpret the coefficients: Holding age constant, on average, a female has a CTR that is 0.005 higher than a male.\n",
    "\n",
    "Holding gender constant, a one year increase in age would result in an increase of 0.02 in predicted CTR.\n",
    "\n",
    "Neither coefficient seems particularly different than 0 and age seems to have more of an effect than gender. But you'd use hypothesis testing to test to make sure (p-values, etc.)."
   ]
  },
  {
   "cell_type": "code",
   "execution_count": 206,
   "metadata": {
    "collapsed": false
   },
   "outputs": [
    {
     "data": {
      "image/png": "[encoded data removed]",
      "text/plain": [
       "<matplotlib.figure.Figure at 0x10e05e390>"
      ]
     },
     "metadata": {},
     "output_type": "display_data"
    }
   ],
   "source": [
    "#plot the male and female fit vs age\n",
    "plt.plot(df_nyt_drop_NaN[\"Age\"].values, df_nyt_drop_NaN.CTR_new,'b.')\n",
    "plt.plot(df_nyt_drop_NaN[\"Age\"].values, lm_nyt.predict(X),'r.')\n",
    "plt.xlabel('Age')\n",
    "plt.ylabel('CTR')\n",
    "plt.title('INDIVIDUAL CTR rate by age observed (blue) versus predicted (red)')\n",
    "\n",
    "plt.show()"
   ]
  },
  {
   "cell_type": "code",
   "execution_count": 52,
   "metadata": {
    "collapsed": false
   },
   "outputs": [
    {
     "data": {
      "image/png": "[encoded data removed]",
      "text/plain": [
       "<matplotlib.figure.Figure at 0x109ce6710>"
      ]
     },
     "metadata": {},
     "output_type": "display_data"
    }
   ],
   "source": [
    "#plot the male and female fit vs gender\n",
    "plt.plot(df_nyt_drop_NaN[\"Gender\"].values, df_nyt_drop_NaN.CTR_new,'b.')\n",
    "plt.plot(df_nyt_drop_NaN[\"Gender\"].values, lm_nyt.predict(X),'r.')\n",
    "plt.xlabel('Gender')\n",
    "plt.ylabel('CTR')\n",
    "plt.title('INDIVIDUAL CTR rate by gender observed (blue) versus predicted (red)')\n",
    "\n",
    "plt.show()"
   ]
  },
  {
   "cell_type": "code",
   "execution_count": 157,
   "metadata": {
    "collapsed": false,
    "scrolled": true
   },
   "outputs": [
    {
     "name": "stdout",
     "output_type": "stream",
     "text": [
      "count    8924220.000000\n",
      "mean           1.421354\n",
      "std            6.040055\n",
      "min            0.000000\n",
      "25%            0.000000\n",
      "50%            0.000000\n",
      "75%            0.000000\n",
      "max          100.000000\n",
      "Name: CTR_new, dtype: float64\n",
      "                    0\n",
      "count  8924220.000000\n",
      "mean         1.421354\n",
      "std          0.329120\n",
      "min          0.631238\n",
      "25%          1.154964\n",
      "50%          1.402077\n",
      "75%          1.643797\n",
      "max          2.892683\n",
      "0.00296910969297\n"
     ]
    }
   ],
   "source": [
    "# The above might seem confusing because our guesses are nowhere near\n",
    "# the real CTR values for the data.\n",
    "# Does this distribution help you explain why our predictions are so low?\n",
    "# Perhaps we don't have the right features or age and gender are not\n",
    "# linearly related to CTR.\n",
    "print df_nyt_drop_NaN.CTR_new.describe()\n",
    "print pd.DataFrame(lm_nyt.predict(X)).describe()"
   ]
  },
  {
   "cell_type": "code",
   "execution_count": 158,
   "metadata": {
    "collapsed": false
   },
   "outputs": [
    {
     "name": "stdout",
     "output_type": "stream",
     "text": [
      "0.00296910969297\n"
     ]
    }
   ],
   "source": [
    "# Also note that the R^2 here is tiny\n",
    "# In this dataset, age and gender account for little of the variation\n",
    "\n",
    "print lm_nyt.score(X,y)"
   ]
  },
  {
   "cell_type": "markdown",
   "metadata": {},
   "source": [
    "3. Compare this practice to making two separate models based on Gender --- that is, separate models for men and women --- with Age as your one feature predicting CTR. How are your results different? Which results would you be more confident in presenting to your manager? Why's that?"
   ]
  },
  {
   "cell_type": "code",
   "execution_count": 45,
   "metadata": {
    "collapsed": false
   },
   "outputs": [
    {
     "data": {
      "text/plain": [
       "4627411"
      ]
     },
     "execution_count": 45,
     "metadata": {},
     "output_type": "execute_result"
    }
   ],
   "source": [
    "df_male = df_nyt_drop_NaN[df_nyt_drop_NaN['Gender']==1]\n",
    "len(df_male)"
   ]
  },
  {
   "cell_type": "code",
   "execution_count": 46,
   "metadata": {
    "collapsed": false
   },
   "outputs": [
    {
     "data": {
      "text/plain": [
       "4296809"
      ]
     },
     "execution_count": 46,
     "metadata": {},
     "output_type": "execute_result"
    }
   ],
   "source": [
    "df_female = df_nyt_drop_NaN[df_nyt_drop_NaN['Gender']==0]\n",
    "len(df_female)"
   ]
  },
  {
   "cell_type": "code",
   "execution_count": 47,
   "metadata": {
    "collapsed": false
   },
   "outputs": [
    {
     "name": "stdout",
     "output_type": "stream",
     "text": [
      "0.822734528509 [ 0.01397517]\n",
      "R squared male value 0.00136179406223\n"
     ]
    }
   ],
   "source": [
    "# create X and y for males\n",
    "feature_cols = ['Age']\n",
    "X_male = df_male[feature_cols]\n",
    "y_male = df_male.CTR_new\n",
    "\n",
    "# instantiate, fit\n",
    "lm_male = LinearRegression()\n",
    "lm_male.fit(X_male, y_male)\n",
    "print lm_male.intercept_, lm_male.coef_\n",
    "print \"R squared male value \" + str(lm_male.score(X_male, y_male))"
   ]
  },
  {
   "cell_type": "code",
   "execution_count": 48,
   "metadata": {
    "collapsed": false
   },
   "outputs": [
    {
     "name": "stdout",
     "output_type": "stream",
     "text": [
      "0.320538783939 [ 0.02602807]\n",
      "R squared female value 0.00512159126752\n"
     ]
    }
   ],
   "source": [
    "# create X and y for females\n",
    "feature_cols = ['Age']\n",
    "X_female = df_female[feature_cols]\n",
    "y_female = df_female.CTR_new\n",
    "\n",
    "# instantiate, fit\n",
    "lm_female = LinearRegression()\n",
    "lm_female.fit(X_female, y_female)\n",
    "print lm_female.intercept_, lm_female.coef_\n",
    "print \"R squared female value \" + str(lm_female.score(X_female, y_female))"
   ]
  },
  {
   "cell_type": "markdown",
   "metadata": {},
   "source": [
    "So yes these results are different than the previous model. Let's interpret:\n",
    "\n",
    "A male aged zero has an average CTR of 0.82. An increase in one year of age for males results in an increase of 0.01 in predicted CTR.\n",
    "\n",
    "A female aged zero has an average CTR of 0.32. An increase in one year of age for females results in an increase of 0.03 in predicted CTR.\n",
    "\n",
    "While you might be tempted to see this result and say that gender may affect CTR, remember that we might have more older folks in the male group or other differences in age distribution between men and women. So I like the first model better because it controls for age in doing a comparison between men and women and finds a 0.005 difference in gender. "
   ]
  },
  {
   "cell_type": "markdown",
   "metadata": {},
   "source": [
    "4. Evaluate what data you could still use to improve your nytimes model. Consider plotting your model to service your explanations and write a short blurb about insights gained and next steps in your \"data collection.\""
   ]
  },
  {
   "cell_type": "markdown",
   "metadata": {},
   "source": [
    "Note that our model is going to predict 0 almost all of the time... that is because more than 75% of our data is 0's. Maybe we can look into getting more data with clicks. We can also try different types of models. This is an issue with sparse data (as in almost everyone is 0). We could try a logistic model to predict CTR = 0 or CTR > 0. \n",
    "\n",
    "## SEE THE NEXT MODEL AT THE END OF THIS NOTEBOOK.\n",
    "\n",
    "In terms of data collection, we could collect information on the type of ad that the person saw (perhaps a link to a features article or sports article could be received differently). Also we could possibly track what the person read on the website."
   ]
  },
  {
   "cell_type": "markdown",
   "metadata": {},
   "source": [
    "Here's another interpretation of CTR used in a model. As Click Through Rate is often not looked at on an individual basis, (https://en.wikipedia.org/wiki/Click-through_rate) I pooled together all the observations within a certain age and gender and then calculated a CTR rate for those people. In this way, there are fewer 0's and it ends up looking possibly linear.  "
   ]
  },
  {
   "cell_type": "code",
   "execution_count": 53,
   "metadata": {
    "collapsed": false
   },
   "outputs": [],
   "source": [
    "# Create the average impressions and clicks for each age.\n",
    "cols2  = ['Age', 'Gender', 'Impressions', 'Clicks']\n",
    "frame_compressed = df_nyt_drop_NaN[cols2].groupby(['Age', 'Gender'], as_index=False).sum()"
   ]
  },
  {
   "cell_type": "code",
   "execution_count": 57,
   "metadata": {
    "collapsed": false
   },
   "outputs": [
    {
     "name": "stdout",
     "output_type": "stream",
     "text": [
      "    Age  Gender  Impressions  Clicks   CTR_new\n",
      "0     3       0            2       0  0.000000\n",
      "1     3       1            2       0  0.000000\n",
      "2     4       0            8       0  0.000000\n",
      "3     5       0           32       0  0.000000\n",
      "4     5       1           27       2  7.407407\n",
      "5     6       0           59       2  3.389831\n",
      "6     6       1          112       4  3.571429\n",
      "7     7       0          277      12  4.332130\n",
      "8     7       1          560      19  3.392857\n",
      "9     8       0          814      21  2.579853\n",
      "10    8       1         1715      58  3.381924\n",
      "11    9       0         2043      54  2.643172\n",
      "12    9       1         4641     153  3.296703\n",
      "13   10       0         5451     163  2.990277\n",
      "14   10       1        11841     372  3.141627\n",
      "15   11       0        12816     363  2.832397\n",
      "16   11       1        26634     798  2.996170\n",
      "17   12       0        26705     792  2.965737\n",
      "18   12       1        55492    1644  2.962589\n",
      "19   13       0        48117    1485  3.086227\n"
     ]
    }
   ],
   "source": [
    "print frame_compressed.head(20)"
   ]
  },
  {
   "cell_type": "code",
   "execution_count": 58,
   "metadata": {
    "collapsed": false
   },
   "outputs": [
    {
     "data": {
      "text/plain": [
       "count    217.000000\n",
       "mean       2.171263\n",
       "std        1.360052\n",
       "min        0.000000\n",
       "25%        1.003748\n",
       "50%        2.067146\n",
       "75%        2.999549\n",
       "max        8.000000\n",
       "Name: CTR_new, dtype: float64"
      ]
     },
     "execution_count": 58,
     "metadata": {},
     "output_type": "execute_result"
    }
   ],
   "source": [
    "frame_compressed['CTR_new']=100*frame_compressed['Clicks'].astype('float').div(frame_compressed['Impressions'].astype('float'),axis='index')\n",
    "frame_compressed['CTR_new'].describe()"
   ]
  },
  {
   "cell_type": "code",
   "execution_count": 59,
   "metadata": {
    "collapsed": false
   },
   "outputs": [
    {
     "name": "stdout",
     "output_type": "stream",
     "text": [
      "1.31264722209 [ 0.01311526  0.21736012]\n"
     ]
    }
   ],
   "source": [
    "# create X and y\n",
    "feature_cols = ['Age','Gender']\n",
    "X_comp = frame_compressed[feature_cols]\n",
    "y_comp = frame_compressed.CTR_new\n",
    "\n",
    "# instantiate, fit\n",
    "lm_nyt_comp = LinearRegression()\n",
    "lm_nyt_comp.fit(X_comp, y_comp)\n",
    "print lm_nyt_comp.intercept_, lm_nyt_comp.coef_"
   ]
  },
  {
   "cell_type": "code",
   "execution_count": 60,
   "metadata": {
    "collapsed": false
   },
   "outputs": [
    {
     "name": "stdout",
     "output_type": "stream",
     "text": [
      "0.0982205241733\n"
     ]
    }
   ],
   "source": [
    "# Still really low R squared, about 10% \n",
    "# However, much higher than before.\n",
    "print lm_nyt_comp.score(X_comp, y_comp)"
   ]
  },
  {
   "cell_type": "code",
   "execution_count": 207,
   "metadata": {
    "collapsed": false,
    "scrolled": true
   },
   "outputs": [
    {
     "data": {
      "image/png": "[encoded data removed]",
      "text/plain": [
       "<matplotlib.figure.Figure at 0x10e726490>"
      ]
     },
     "metadata": {},
     "output_type": "display_data"
    }
   ],
   "source": [
    "# Plot the fit vs age\n",
    "# See that there is a possible linear relationship\n",
    "plt.plot(frame_compressed[\"Age\"].values, frame_compressed.CTR_new,'b.')\n",
    "plt.plot(frame_compressed[\"Age\"].values, lm_nyt_comp.predict(X_comp),'r.')\n",
    "plt.xlabel('Age')\n",
    "plt.ylabel('CTR')\n",
    "plt.title('COMPRESSED CTR rate by age observed (blue) versus predicted (red)')\n",
    "\n",
    "plt.show()"
   ]
  },
  {
   "cell_type": "code",
   "execution_count": 61,
   "metadata": {
    "collapsed": false
   },
   "outputs": [
    {
     "data": {
      "image/png": "[encoded data removed]",
      "text/plain": [
       "<matplotlib.figure.Figure at 0x10d7acb50>"
      ]
     },
     "metadata": {},
     "output_type": "display_data"
    }
   ],
   "source": [
    "# Plot the fit vs gender\n",
    "plt.plot(frame_compressed[\"Gender\"].values, frame_compressed.CTR_new,'b.')\n",
    "plt.plot(frame_compressed[\"Gender\"].values, lm_nyt_comp.predict(X_comp),'r.')\n",
    "\n",
    "plt.xlabel('Gender')\n",
    "plt.ylabel('CTR')\n",
    "plt.title('COMPRESSED CTR rate by gender observed (blue) versus predicted (red)')\n",
    "\n",
    "plt.show()"
   ]
  },
  {
   "cell_type": "markdown",
   "metadata": {},
   "source": [
    "Even though this model isn't terribly amazing (R-squared is 10% versus a \"good\" R squared which we've seen up to 80% or 90%) however, it is much higher than the R squared we got when we took individual CTR (R-squared of about .13%). And looks more linear."
   ]
  }
 ],
 "metadata": {
  "kernelspec": {
   "display_name": "Python 2",
   "language": "python",
   "name": "python2"
  },
  "language_info": {
   "codemirror_mode": {
    "name": "ipython",
    "version": 2
   },
   "file_extension": ".py",
   "mimetype": "text/x-python",
   "name": "python",
   "nbconvert_exporter": "python",
   "pygments_lexer": "ipython2",
   "version": "2.7.11"
  }
 },
 "nbformat": 4,
 "nbformat_minor": 0
}
