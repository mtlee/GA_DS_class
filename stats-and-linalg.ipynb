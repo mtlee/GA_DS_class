{
 "cells": [
  {
   "cell_type": "markdown",
   "metadata": {},
   "source": [
    "** Organizational **:\n",
    "- Vote on office hours\n",
    "\n",
    "** Lecture **:\n",
    "\n",
    "- Probability Review\n",
    "- Vector Math Overview\n",
    "\n",
    "** Labs **:\n",
    "\n",
    "- Coins and dice\n",
    "- Matrix Multiplication in Python\n",
    "- These will all be submitted as HW's so no worries if you don't finish in class."
   ]
  },
  {
   "cell_type": "markdown",
   "metadata": {},
   "source": [
    "# Probability"
   ]
  },
  {
   "cell_type": "markdown",
   "metadata": {},
   "source": [
    "## Objectives:\n",
    "- Students will be able to calculate a conditional probability\n",
    "- Students will be able to simulate random events to verify calculations\n",
    "- Students will be able to apply Bayes Theorem and interpret the meaning of the results"
   ]
  },
  {
   "cell_type": "markdown",
   "metadata": {},
   "source": [
    "### Definitions"
   ]
  },
  {
   "cell_type": "markdown",
   "metadata": {},
   "source": [
    "- Measure of likeliness of event occurring\n",
    "- Goes from 0 to 1\n",
    "- P(not C) = 1 - P(C)"
   ]
  },
  {
   "cell_type": "markdown",
   "metadata": {},
   "source": [
    "### Probabilities for multiple events P(a and B)"
   ]
  },
  {
   "cell_type": "markdown",
   "metadata": {},
   "source": [
    "P(A and B) = P(A) * P(B) if A and B are independent. \n",
    "\n",
    "P(A and B) = P(A) * P(B|A) if A and B are not independent. \n",
    "\n",
    "P(B|A) is the \"probability of B given A has happened.\"\n",
    "\n",
    "Which of these two situations are independent and which is dependent? Why?\n",
    "- A: Rolling a die and getting a 2, B: Rolling a die and getting a 6\n",
    "- A: Drawing a card from a standard deck and getting a queen, B: Without replacement, drawing another queen.\n",
    "\n",
    "Calculate P(A and B) for each of these scenarios.\n"
   ]
  },
  {
   "cell_type": "markdown",
   "metadata": {},
   "source": [
    "### Probabilities for multiple events P(A or B) in single experiement\n",
    "\n",
    "P(A or B) = P(A) + P(B) if A, B are mutually exclusive\n",
    "P(A or B) = P(A) + P(B) - P(A and B) if A, B are not mutually exclusive\n",
    "\n",
    "Which of these two examples describe two mutually exclusive events? Why?\n",
    "\n",
    "- Rolling one die and A: Getting a 2 B: Getting a 5.\n",
    "- Drawing a card from a normal deck of 52 and A: Getting a Queen B: Getting a red card.\n",
    "\n",
    "Calculate P(A or B) for each scenario."
   ]
  },
  {
   "cell_type": "markdown",
   "metadata": {},
   "source": [
    "** Lab question**: Say you flip 4 fair coins. What is the probability of getting exactly 3 heads?\n",
    "\n",
    "How would you approach this?"
   ]
  },
  {
   "cell_type": "code",
   "execution_count": 8,
   "metadata": {
    "collapsed": false
   },
   "outputs": [],
   "source": [
    "from random import randint\n",
    "\n",
    "# Can you write code that actually flips 4 coins 1000 times?\n",
    "# Then find the number with 3 heads and that probability?\n",
    "# Does this approach the probability you calculated?\n",
    "# x is the number of times you run the experience of flipping 4 coins\n",
    "# prob_3_heads is the probability of getting exactly 3 heads in the experiment x times\n",
    "def flip_coin(x):\n",
    "    \"\"\"\n",
    "    Explain exactly what is needed\n",
    "    \"\"\"\n",
    "    return prob_3_heads "
   ]
  },
  {
   "cell_type": "markdown",
   "metadata": {},
   "source": [
    "### Visualizing P(A or B)\n",
    "Thinking about a Venn Diagram helps, we are substracting A and B which we've counted twice."
   ]
  },
  {
   "cell_type": "code",
   "execution_count": 5,
   "metadata": {
    "collapsed": false
   },
   "outputs": [
    {
     "data": {
      "image/png": "[encoded data removed]",
      "text/plain": [
       "<IPython.core.display.Image object>"
      ]
     },
     "execution_count": 5,
     "metadata": {},
     "output_type": "execute_result"
    }
   ],
   "source": [
    "from IPython.display import Image\n",
    "Image(filename='images/VennDiagram_9002.png')"
   ]
  },
  {
   "cell_type": "markdown",
   "metadata": {},
   "source": [
    "### Conditional Probabilities\n",
    "P(B|A) What is the probability of event B given that event A has occurred?\n",
    "\n",
    "** Lab Question**: Say you have a fair die. \n",
    "- If you roll a 1 then you get $1.\n",
    "\n",
    "- If you roll a 2 then you get $2, etc.\n",
    "- Part 1: What is the expected value of how much money you would make? \n",
    "   - Feel free to look up expected value formula, but intuitively how much money would you expect to make?\n",
    "\n",
    "- Part 2: Now, you get to make a choice. You roll the die once and you can either walk away with the money or roll again but you have to keep the money you make off of the roll of the second die. What is the best strategy? How much do you expect to win using this strategy?"
   ]
  },
  {
   "cell_type": "markdown",
   "metadata": {},
   "source": [
    "### Code up your strategy! Or explain each line."
   ]
  },
  {
   "cell_type": "code",
   "execution_count": 7,
   "metadata": {
    "collapsed": false
   },
   "outputs": [],
   "source": [
    "from random import randint\n",
    "\n",
    "# Write code to calculate the results of playing this game with your strategy \n",
    "# x is the number of times you play the game\n",
    "# average_winnings is the amount of money on average you make after playing x times\n",
    "def calculate_dice_money(x):\n",
    "    \"\"\"\n",
    "    Explain exactly what is needed\n",
    "    \"\"\"\n",
    "    return average_winnings      "
   ]
  },
  {
   "cell_type": "markdown",
   "metadata": {},
   "source": [
    "### Bayes Theorem\n",
    "Bayes rule is the foundation of Bayesian statistics. The idea is that you may know something about a probability and update your guess based on new evidence you get. Here is the formula:"
   ]
  },
  {
   "cell_type": "markdown",
   "metadata": {},
   "source": [
    "$$P(A|B) = \\dfrac{P(A \\bigcap B) }{P(B)} = \\dfrac{P(B|A)*P(A)}{P(B)} $$"
   ]
  },
  {
   "cell_type": "markdown",
   "metadata": {},
   "source": [
    "Here's an example. Say A is the probability of being out on 6th Street on a Friday night and B is the probability of being under 25.\n",
    "P(A|B) then is the probability of being on 6th street given a person is under 25. \n",
    "\n",
    "Would you guess that P(A|B) is higher or lower than what it would be for people older than 25? \n",
    "\n",
    "Ok, let's make up some numbers. \n",
    "$$P(20<age<25 | out) = .60$$ is something we can observe... say I poll a set of 100 random people on 6th street and ask their ages. Say that of the people I polled 60% of them were between 20 and 25. $$ P(out) = .10$$ is the probability that someone in the general Austin population is out on 6th on Friday night is 10%. Also, $$ P(20 < age < 25) = .12 $$ as 12% of the Austin population is between 20 and 25. Now:"
   ]
  },
  {
   "cell_type": "markdown",
   "metadata": {},
   "source": [
    "$$P(out| 20< age<25) = \\dfrac{P(20< age<25|out)*P(out)}{P(20< age<25)} = \\dfrac{.6*.1}{.12}= .5$$"
   ]
  },
  {
   "cell_type": "markdown",
   "metadata": {},
   "source": [
    "Interpret what this means. Are people ages 20 to 25 more or less likely than the general population to be out on 6th on a Friday night?"
   ]
  },
  {
   "cell_type": "markdown",
   "metadata": {},
   "source": [
    "### Diagnostic testing\n",
    "Might need a pen and paper.\n",
    "Bayes Theorem cancer test example from here: http://betterexplained.com/articles/an-intuitive-and-short-explanation-of-bayes-theorem/\n",
    "\n",
    "For a positive test of cancer, how likely are you to actually have cancer?\n",
    "A = probability of having cancer\n",
    "X = probability of a positive test\n",
    "\n",
    "$$P(A|X) = \\dfrac{P(X|A)*P(A)}{P(X)} = \\dfrac{P(X|A)*P(A)}{P(X \\cap A) + P(X \\cap not A)} = \\dfrac{P(X|A)*P(A)}{P(X|A)*P(A) + P(X|not A)*P(not A)}$$\n",
    "\n",
    "Say we have: \n",
    "- Pr(X|A) = Chance of a positive test (X) given that you had cancer (A). This is the chance of a true positive, 80% in our case.\n",
    "- Pr(A) = Chance of having cancer (1%).\n",
    "- Pr(not A) = Chance of not having cancer (99%).\n",
    "- Pr(X|not A) = Chance of a positive test (X) given that you didn’t have cancer (~A). This is a false positive, 9.6% in our case.\n",
    "\n",
    "Can you calculate P(A|X) that is the probability of having cancer given that a person gets a positive test, i.e. how worried should they be?"
   ]
  },
  {
   "cell_type": "markdown",
   "metadata": {},
   "source": [
    "### PyMC\n",
    "Monte Carlo simulations are a class of algorithms that use repeated random sampling to produce results. For example, the method used above to find the expected value of the 2 dice roll game is a Monte Carlo method.\n",
    "\n",
    "Monte Carlo simultions are common in Bayesian statistics. They are common in Bayesian statistics because many of the distributions are not easy to work with, like the normal distribution is.\n",
    "\n",
    "In statistics, MC methods can be used to find the hypothesis testing \"p-values\" for a non-standard distribution. \n",
    "\n",
    "Monte Carlo Markov Chain algorithms, such as the Metropolis-Hasting algorithm are used for multi-dimensional distributions.\n",
    "\n",
    "In grad school, we used R and WinBUGS to run these simulations, but the Python version is PyMC. Probably better maintained..."
   ]
  },
  {
   "cell_type": "markdown",
   "metadata": {},
   "source": [
    "### Resources\n",
    "- Wikipedia page on probability: https://en.wikipedia.org/wiki/Probability\n",
    "- Blog post using PyMC and Bayesian stats: http://healthyalgorithms.com/2008/11/26/mcmc-in-python-pymc-for-bayesian-probability/\n",
    "- Explain MCMC to a layperson: http://stats.stackexchange.com/questions/165/how-would-you-explain-markov-chain-monte-carlo-mcmc-to-a-layperson\n",
    "- Expected value: https://en.wikipedia.org/wiki/Expected_value"
   ]
  },
  {
   "cell_type": "markdown",
   "metadata": {},
   "source": [
    "# Linear Algebra"
   ]
  },
  {
   "cell_type": "markdown",
   "metadata": {},
   "source": [
    "## Objectives:\n",
    "- Understand some applications of vectors and matricies\n",
    "- Students will be able to mathematically manipulate vectors and matricies\n",
    "- Students will write functions to calculate vector and matrix multiplication"
   ]
  },
  {
   "cell_type": "markdown",
   "metadata": {},
   "source": [
    "## Linear Algebra Review"
   ]
  },
  {
   "cell_type": "markdown",
   "metadata": {},
   "source": [
    "In order to best understand most machine learning algorithms, we need some basis of linear algebra.\n",
    "\n",
    "> Linear algebra is best defined as mathematics in the multidimensional space and the mapping between said spaces."
   ]
  },
  {
   "cell_type": "markdown",
   "metadata": {},
   "source": [
    "### For Example"
   ]
  },
  {
   "cell_type": "markdown",
   "metadata": {},
   "source": [
    "$$y = mx + b$$"
   ]
  },
  {
   "cell_type": "markdown",
   "metadata": {},
   "source": [
    "$$y = m_{1}x_{1} + m_{2}x_{2} + b$$"
   ]
  },
  {
   "cell_type": "markdown",
   "metadata": {},
   "source": [
    "$$y = m_{1}x_{1} + m_{2}x_{2} + m_{3}x_{3} + m_{4}x_{4} + b$$"
   ]
  },
  {
   "cell_type": "markdown",
   "metadata": {},
   "source": [
    "$$y = m_{1}x_{1} + m_{2}x_{2} + m_{3}x_{3} + m_{4}x_{4} + m_{5}x_{5} + m_{6}x_{6} + m_{7}x_{7} + m_{8}x_{8} + m_{9}x_{9} + m_{10}x_{10} + b$$"
   ]
  },
  {
   "cell_type": "markdown",
   "metadata": {},
   "source": [
    "### Matrices"
   ]
  },
  {
   "cell_type": "markdown",
   "metadata": {},
   "source": [
    "> Matrices are an array of real numbers with m rows and n columns\n",
    "\n",
    "Each value in a matrix is called an entry."
   ]
  },
  {
   "cell_type": "markdown",
   "metadata": {},
   "source": [
    "$$\\begin{bmatrix}1 & 5 & 8 & 7\\\\2 & 1 & 3 & 6\\\\3 & 5 & 1 & 0\\\\4 & 6 & 0 & 1\\end{bmatrix}$$"
   ]
  },
  {
   "cell_type": "markdown",
   "metadata": {},
   "source": [
    "$A_{21}$ in the given matrix, refers to the entry on the 2nd row, in the 1st column. The value is 2. "
   ]
  },
  {
   "cell_type": "markdown",
   "metadata": {},
   "source": [
    "### Vectors"
   ]
  },
  {
   "cell_type": "markdown",
   "metadata": {},
   "source": [
    "> Vectors are a special kind of matrix, as they only consist of one dimension of real numbers.\n",
    "\n",
    "These look most like a numeric array (or **list**) in Python.\n",
    "\n",
    "$$\\begin{bmatrix}1 & 3 & 9 & 2\\end{bmatrix}$$\n",
    "\n",
    "Likewise, you can refer to each index or value similarly (`a[0]` in Python is the same entity as 0 in vector a)"
   ]
  },
  {
   "cell_type": "markdown",
   "metadata": {},
   "source": [
    "#### What can vectors capture?"
   ]
  },
  {
   "cell_type": "code",
   "execution_count": null,
   "metadata": {
    "collapsed": false
   },
   "outputs": [],
   "source": [
    "vec = [3.14159, 2.718281828, -1.0, 2.0]"
   ]
  },
  {
   "cell_type": "markdown",
   "metadata": {},
   "source": [
    "Let `WORDS` be the set of all English word"
   ]
  },
  {
   "cell_type": "markdown",
   "metadata": {},
   "source": [
    "In information retrieval, a document is represented (“bag of words” model) by a\n",
    "function"
   ]
  },
  {
   "cell_type": "markdown",
   "metadata": {},
   "source": [
    "$$f : WORDS \\rightarrow \\mathbb{R}$$"
   ]
  },
  {
   "cell_type": "markdown",
   "metadata": {},
   "source": [
    "specifying, for each word, how many times it appears in the document."
   ]
  },
  {
   "cell_type": "markdown",
   "metadata": {},
   "source": [
    "We often use Python’s dictionaries to represent such functions, e.g."
   ]
  },
  {
   "cell_type": "code",
   "execution_count": null,
   "metadata": {
    "collapsed": false
   },
   "outputs": [],
   "source": [
    "{0:3.14159, 1:2.718281828, 2:-1.0, 3:2.0}"
   ]
  },
  {
   "cell_type": "markdown",
   "metadata": {},
   "source": [
    "What about representing a WORDS-vector over $\\mathbb{R}$?\n",
    "\n",
    "For any single document, most words are not _represented_. They should be\n",
    "mapped to zero.\n",
    "\n",
    "Our convenient convention for representing vectors by dictionaries: allowed to\n",
    "omit key-value pairs when value is zero.\n",
    "\n",
    "**Example**\n",
    "\n",
    "> The rain in Spain falls mainly on the plain” would be represented by\n",
    "the dictionary"
   ]
  },
  {
   "cell_type": "code",
   "execution_count": null,
   "metadata": {
    "collapsed": false
   },
   "outputs": [],
   "source": [
    "{'on': 1, 'Spain': 1, 'in': 1, 'plain': 1, 'the': 2,\n",
    "'mainly': 1, 'rain': 1, 'falls': 1}"
   ]
  },
  {
   "cell_type": "markdown",
   "metadata": {},
   "source": [
    "* Document (for information retrieval)\n",
    "* Binary string (for cryptography/information theory)\n",
    "* Collection of attributes\n",
    "    - LegCo voting record\n",
    "    - Demographic record of a consumer\n",
    "    - characteristics of cancer cells\n",
    "* State of a system\n",
    "    - Population distribution in the world\n",
    "    - Number of copies of a virus in a computer network\n",
    "    - state of a game of Sudoku"
   ]
  },
  {
   "cell_type": "markdown",
   "metadata": {},
   "source": [
    "### Handling"
   ]
  },
  {
   "cell_type": "markdown",
   "metadata": {},
   "source": [
    "**Rule 1!**\n",
    "\n",
    "Matrices can be added together only when they are the same size. If they are not the same size, their sum is **undefined**.\n",
    "\n",
    "$$\\begin{bmatrix}1 & 3 & 9 & 2\\end{bmatrix} + \\begin{bmatrix}2 & 5 & 9 & 4\\end{bmatrix} = \n",
    "\\begin{bmatrix}3 & 8 & 18 & 6\\end{bmatrix} $$\n",
    "\n"
   ]
  },
  {
   "cell_type": "markdown",
   "metadata": {},
   "source": [
    "$$\\begin{bmatrix}8 & 72 & 3 & 1\\end{bmatrix} + \\begin{bmatrix}17 & 55 & 3 & 10\\end{bmatrix} = \n",
    " \\ ? $$"
   ]
  },
  {
   "cell_type": "markdown",
   "metadata": {},
   "source": [
    "**Rule 2!**\n",
    "\n",
    "Matrices can be multiplied by a scalar (single entity) value.\n",
    "\n",
    "> Each value in the matrix is multiplied by the scalar value.\n"
   ]
  },
  {
   "cell_type": "markdown",
   "metadata": {},
   "source": [
    "$$\\begin{bmatrix}1 & 3 & 9 & 2\\end{bmatrix} * 3 =\n",
    "\\begin{bmatrix}3 & 9 & 27 & 6\\end{bmatrix} $$\n"
   ]
  },
  {
   "cell_type": "markdown",
   "metadata": {},
   "source": [
    "$$\\begin{bmatrix}8 & 72 & 3 & 1\\end{bmatrix} * 2 = \\ ? $$\n"
   ]
  },
  {
   "cell_type": "markdown",
   "metadata": {},
   "source": [
    "**Rule 3!**\n",
    "\n",
    "Matrices and vectors can be multiplied together given that the matrix columns are as wide as the vector is long. \n",
    "\n",
    "> The result will always be a vector."
   ]
  },
  {
   "cell_type": "markdown",
   "metadata": {},
   "source": [
    "$$\\begin{bmatrix}1 & 3 & 9 & 2\\\\2 & 4 & 6 & 8\\end{bmatrix} * \\begin{bmatrix}2 \\\\ 3 \\\\ 6 \\\\ 5  \\end{bmatrix} = \\begin{matrix} 2 + 9 + 54 + 10 \\\\ 4 + 12 + 36 + 40 \\end{matrix} = \\begin{bmatrix} 75 \\\\ 92 \\end{bmatrix}$$"
   ]
  },
  {
   "cell_type": "markdown",
   "metadata": {},
   "source": [
    "**Rule 4!**\n",
    "\n",
    "Matrices can be multiplied together using the same rules that we have from matrix-vector multiplication.\n",
    "\n",
    "> The result will always be a matrix."
   ]
  },
  {
   "cell_type": "markdown",
   "metadata": {},
   "source": [
    "$$\\begin{bmatrix}1 & 3 & 9 & 2\\\\2 & 4 & 6 & 8\\end{bmatrix} * \\begin{bmatrix}2 & 1 \\\\ 3 & 2 \\\\ 6 & 0 \\\\ 5 & 4 \\end{bmatrix} = \\begin{matrix} 2 + 9 + 54 + 10 \\\\ 4 + 12 + 36 + 40 \\\\ 1 + 6 + 0 + 8 \\\\ 2 + 8 + 0 + 32\\end{matrix} = \\begin{bmatrix} 75 & 15 \\\\ 92 & 42 \\end{bmatrix}$$\n"
   ]
  },
  {
   "cell_type": "markdown",
   "metadata": {},
   "source": [
    "### That Was Fast... Why Does This Matter?"
   ]
  },
  {
   "cell_type": "markdown",
   "metadata": {},
   "source": [
    "Matrices represent the multiple dimensions in our data! If we had a vector that suggested how important each dimension of our data was, we could use that to find our best **linear model**."
   ]
  },
  {
   "cell_type": "markdown",
   "metadata": {},
   "source": [
    "**Rule 5!**\n",
    "\n",
    "When vectors are multiplied _item-wise_ , that is, each item for one vector is multiplied with the item in the same _position_ in another vector, it is called the **dot-product** of the two vectors."
   ]
  },
  {
   "cell_type": "markdown",
   "metadata": {},
   "source": [
    "Suppose D consists of four main ingredients of beer:\n",
    "\n",
    "```    \n",
    "D = {barley, hops, yeast,water}\n",
    "```\n",
    "\n",
    "A cost vector maps each food to a price per unit amount:\n",
    "```    \n",
    "cost = {barley : $0.5, hops : $0.5, yeast : $.28/g,water : $0.05}\n",
    "```\n",
    "A quantity vector maps each food to an amount (e.g. measured in pounds).\n",
    "```\n",
    "quantity = {barley:0.5 lbs, hops:0.2 oz, yeast:2.5 g, water:10 gallons}\n",
    "```\n",
    "The total cost is the dot-product of cost with quantity:\n",
    "```    \n",
    "cost · quantity = $0.5 · 0.5 + $0.5 · 0.2 + $0.28 · 2.5 + $0.05 · 10 = $1.55\n",
    "```\n",
    "A value vector maps each food to its caloric content per pound:\n",
    "```\n",
    "value = {barley : 544, hops : 101, yeast : 83,water : 0}\n",
    "```\n",
    "The total calories represented by a pint of beer is the dot-product of value with\n",
    "quantity:\n",
    "```\n",
    "value · quantity = 544 · 0.5 + 101 · 0.5 + 83 · 2.5+0 · 10 = 530\n",
    "```"
   ]
  },
  {
   "cell_type": "markdown",
   "metadata": {},
   "source": [
    "We will see matrices quite often in **all** of our data, so pay careful attention to how data is structured and how different algorithms interact with them."
   ]
  },
  {
   "cell_type": "markdown",
   "metadata": {},
   "source": [
    "## Lab: Matrix Addition In Python"
   ]
  },
  {
   "cell_type": "markdown",
   "metadata": {},
   "source": [
    "* Build some basic linear algebra functions\n",
    "* Improve comfort with flow patterns\n",
    "* Explore list comprehensions"
   ]
  },
  {
   "cell_type": "markdown",
   "metadata": {},
   "source": [
    "### Practice: Linear Algebra"
   ]
  },
  {
   "cell_type": "markdown",
   "metadata": {},
   "source": [
    "Primarily let's focus on some of the concrete components we talked about in class"
   ]
  },
  {
   "cell_type": "markdown",
   "metadata": {},
   "source": [
    "#### Matrices and Vectors"
   ]
  },
  {
   "cell_type": "markdown",
   "metadata": {},
   "source": [
    "For the most part, we can consider using lists to create matrices and vectors (especially given that a Python list is, essentially, a vector)"
   ]
  },
  {
   "cell_type": "code",
   "execution_count": null,
   "metadata": {
    "collapsed": false
   },
   "outputs": [],
   "source": [
    "vector = [1, 2, 3]\n",
    "matrix = [ [1, 2, 3, 4], \n",
    "           [5, 6, 7, 8],\n",
    "           [9, 0, 1, 2] ]\n",
    "\n",
    "print matrix"
   ]
  },
  {
   "cell_type": "markdown",
   "metadata": {},
   "source": [
    "We'll learn more about `numpy` later, but numpy makes it incredibly easy to auto generate both of these!"
   ]
  },
  {
   "cell_type": "code",
   "execution_count": null,
   "metadata": {
    "collapsed": false
   },
   "outputs": [],
   "source": [
    "import numpy as np\n",
    "npMatrix = np.matrix('1 2 3; 4 5 6; 7 8 9')\n",
    "\n",
    "print npMatrix"
   ]
  },
  {
   "cell_type": "markdown",
   "metadata": {},
   "source": [
    "#### Math"
   ]
  },
  {
   "cell_type": "code",
   "execution_count": null,
   "metadata": {
    "collapsed": false
   },
   "outputs": [],
   "source": [
    "vector * 3"
   ]
  },
  {
   "cell_type": "markdown",
   "metadata": {},
   "source": [
    "Note that \"common sense\" here won't work: we're looking for a way to multiply each value within a vector by a value, not to repeat the vector 3 times. Here, we can use _[list comprehensions](http://www.secnetix.de/olli/Python/list_comprehensions.hawk)_ instead:\n"
   ]
  },
  {
   "cell_type": "code",
   "execution_count": null,
   "metadata": {
    "collapsed": false
   },
   "outputs": [],
   "source": [
    "items = ['1','2','3','4']\n",
    "\n",
    "[int(item) for item in items]"
   ]
  },
  {
   "cell_type": "code",
   "execution_count": null,
   "metadata": {
    "collapsed": false
   },
   "outputs": [],
   "source": [
    "[x*3 for x in vector]"
   ]
  },
  {
   "cell_type": "markdown",
   "metadata": {},
   "source": [
    "And easier, we can write this as a function."
   ]
  },
  {
   "cell_type": "code",
   "execution_count": null,
   "metadata": {
    "collapsed": false
   },
   "outputs": [],
   "source": [
    "def vectorMultiply(vector, scalar):\n",
    "    return [x*scalar for x in vector]\n",
    "\n",
    "vectorMultiply(vector, 3)"
   ]
  },
  {
   "cell_type": "markdown",
   "metadata": {},
   "source": [
    "Can also use list comprehensions to transpose a matrix, which should turn the matrix, essentially, on its 'diagonal axis'.\n"
   ]
  },
  {
   "cell_type": "code",
   "execution_count": null,
   "metadata": {
    "collapsed": false
   },
   "outputs": [],
   "source": [
    "import numpy as np\n",
    "\n",
    "def matrixTranspose(matrix):\n",
    "    \"\"\"\n",
    "    Matrix Transpose function with interspersed print statements\n",
    "    for explanatory purposes. We'll disect the following list comprehension :\n",
    "    \n",
    "    [ [row[n] for row in matrix] for n in range(len(matrix[0]))]\n",
    "    \n",
    "    \"\"\"\n",
    "    \n",
    "#   Let's inspect which  matrix was provided as an argument? : \n",
    "#\n",
    "#    [[1 2 3 4]\n",
    "#     [5 6 7 8]\n",
    "#     [9 0 1 2]]\n",
    "#\n",
    "    print np.matrix(matrix)\n",
    "    \n",
    "#   Now, let's disect the list comprehension which will transpose this\n",
    "#   matrix. Start from the back when trying to understand what a list \n",
    "#   comprehension does. So we see that it tries the access the first \n",
    "#   row in the Matrix : [1 2 3 4]\n",
    "    print matrix[0]\n",
    "    \n",
    "#   It does this to determine the number of columns the matrix has, as\n",
    "#   each row will have an equal number of elements. \n",
    "    print len(matrix[0])\n",
    "\n",
    "#   The number of columns is them used to create a 'range list' to \n",
    "#   iterate over : [0, 1, 2, 3]\n",
    "    print range(len(matrix[0]))\n",
    "\n",
    "#   So in this particular case the list comprehension is simply:\n",
    "#   [ INNERLOOP for n in [0,1,2,3]]\n",
    "\n",
    "#   INNERLOOP : [row[n] for row in matrix]\n",
    "\n",
    "#   The outer loop (the outer list comprehension) 'locks' the column\n",
    "#   number for each full cycle of inner loop (inner list comprehension).\n",
    "\n",
    "#   So in first instance 'n' is fixed at 0, and so when it executes the\n",
    "#   inner loop :\n",
    "\n",
    "#   [row[n] for row in matrix]\n",
    "\n",
    "#  it goes through each row in the matrix and takes the nth element from the \n",
    "#  row. In the example, in the first cycle 'n' would be 0, and so the elements\n",
    "#  taken from our examplary matrix would be [1,5,9]. These numbers are stored \n",
    "#  inside of a list (that's what list comprehensions do), and it will ask for \n",
    "#  the next value of 'n'. Now that 'n' is fixed as 1, it will go through a whole \n",
    "#  cycle again. Now it takes [2,6,0] from out examplary matrix. This continues \n",
    "#  for as long as there are more rows in the matrix.\n",
    "\n",
    "    return [ [row[n] for row in matrix] for n in range(len(matrix[0]))]\n",
    "\n",
    "#  Ultimately the function returns the transposed matrix : \n",
    "#\n",
    "#   [[1 5 9]\n",
    "#    [2 6 0]\n",
    "#    [3 7 1]\n",
    "#    [4 8 2]]\n",
    "#\n",
    "print np.matrix(matrixTranspose(matrix)) # Formatted as a matrix"
   ]
  },
  {
   "cell_type": "markdown",
   "metadata": {},
   "source": [
    "```python\n",
    "[ [row[n] for row in matrix] for n in [0,1,2,3]]\n",
    "```"
   ]
  },
  {
   "cell_type": "markdown",
   "metadata": {},
   "source": [
    "### Classwork"
   ]
  },
  {
   "cell_type": "markdown",
   "metadata": {},
   "source": [
    "1. Write two more functions: `vectorMatrix multiplication` and `matrix multiplication`. No numpy/scipy! Do this with pure python. Use triple quotes/doc quotes to explain the properties expected for a matrix in these functions:\n"
   ]
  },
  {
   "cell_type": "code",
   "execution_count": 4,
   "metadata": {
    "collapsed": false
   },
   "outputs": [],
   "source": [
    "def vectorMatrixMultiplication(matrix,vector):\n",
    "    \"\"\"\n",
    "    Explain exactly what is needed\n",
    "    \"\"\"\n",
    "    return answer"
   ]
  },
  {
   "cell_type": "markdown",
   "metadata": {},
   "source": [
    "Submit this code as a [Gist](http://gist.github.com) or a Jupyter Notebook and submit it through the [homework submission](https://drive.google.com/folderview?id=0B8jRRQg7MMN4ZzlCeXI5MGlpeEk&usp=sharing) form when you're done. Check your answers using the logic we went over from lecture."
   ]
  },
  {
   "cell_type": "markdown",
   "metadata": {},
   "source": [
    "**PROGRAMMER GOAL**\n",
    "\n",
    "Write test cases and use try/catch in your functions for when matrices are not defined correctly (ie: [ [1,2,3], [4,5] ] is not a matrix.) Or, create a matrix class that also follows these rules.\n"
   ]
  },
  {
   "cell_type": "markdown",
   "metadata": {},
   "source": [
    "2. Write a function that creates an identity matrix. An identity matrix is a matrix where value = 1 if the row and column index are the same, and 0 otherwise. It should build any size identity matrix you want.\n",
    "\n",
    "Example: iMatrix(4) should be:"
   ]
  },
  {
   "cell_type": "code",
   "execution_count": null,
   "metadata": {
    "collapsed": false
   },
   "outputs": [],
   "source": [
    "[[1, 0, 0, 0],\n",
    "[0, 1, 0, 0],\n",
    "[0, 0, 1, 0],\n",
    "[0, 0, 0, 1] ]"
   ]
  },
  {
   "cell_type": "markdown",
   "metadata": {},
   "source": [
    "**Send scripts or Notebooks to the HomeWork Google Drive folder**"
   ]
  },
  {
   "cell_type": "markdown",
   "metadata": {},
   "source": [
    "## Resources"
   ]
  },
  {
   "cell_type": "markdown",
   "metadata": {},
   "source": [
    "#### Mathematics\n",
    "* [Great review on Linear Algebra](http://cs229.stanford.edu/section/cs229-linalg.pdf)\n",
    "* [Coding the Matrix: Linear Algebra through Computer Science Applications](https://www.coursera.org/course/matrix) - Learn the concepts and methods of linear algebra, and how to use them to think about computational problems arising in computer science. Coursework includes building on the concepts to write small programs and run them on real data.\n",
    "\n",
    "#### Machine Learning\n",
    "[Early learning on its application to linear models](http://dept.stat.lsa.umich.edu/~kshedden/Courses/Stat401/Notes/401-multreg.pdf)\n",
    "\n",
    "#### Code\n",
    "[A Matrix Class implemented in pure python](http://code.activestate.com/recipes/189971-basic-linear-algebra-matrix/)"
   ]
  }
 ],
 "metadata": {
  "kernelspec": {
   "display_name": "Python 2",
   "language": "python",
   "name": "python2"
  },
  "language_info": {
   "codemirror_mode": {
    "name": "ipython",
    "version": 2
   },
   "file_extension": ".py",
   "mimetype": "text/x-python",
   "name": "python",
   "nbconvert_exporter": "python",
   "pygments_lexer": "ipython2",
   "version": "2.7.10"
  }
 },
 "nbformat": 4,
 "nbformat_minor": 0
}
